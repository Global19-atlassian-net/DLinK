{
 "cells": [
  {
   "cell_type": "markdown",
   "metadata": {},
   "source": [
    "# LeNet-5 in Keras"
   ]
  },
  {
   "cell_type": "markdown",
   "metadata": {},
   "source": [
    "Bulding a Deep Convolutional Neural Network to classify MNIST digits."
   ]
  },
  {
   "cell_type": "markdown",
   "metadata": {},
   "source": [
    "#### Set seed for reproducibility"
   ]
  },
  {
   "cell_type": "code",
   "execution_count": 1,
   "metadata": {},
   "outputs": [],
   "source": [
    "import numpy as np\n",
    "np.random.seed(42)"
   ]
  },
  {
   "cell_type": "markdown",
   "metadata": {},
   "source": [
    "#### Load dependencies"
   ]
  },
  {
   "cell_type": "code",
   "execution_count": 2,
   "metadata": {},
   "outputs": [
    {
     "name": "stderr",
     "output_type": "stream",
     "text": [
      "Using TensorFlow backend.\n"
     ]
    }
   ],
   "source": [
    "import keras\n",
    "from keras.datasets import mnist\n",
    "from keras.models import Sequential\n",
    "from keras.layers import Dense, Dropout\n",
    "from keras.layers import Flatten, MaxPooling2D, Conv2D, Activation\n",
    "from keras.layers.normalization import BatchNormalization\n",
    "from keras.optimizers import Adam\n",
    "from keras.preprocessing.image import ImageDataGenerator\n",
    "from keras.callbacks import TensorBoard, LearningRateScheduler\n",
    "\n",
    "from sklearn.model_selection import train_test_split\n",
    "\n",
    "import pandas as pd\n",
    "\n",
    "import matplotlib.pyplot as plt\n",
    "%matplotlib inline"
   ]
  },
  {
   "cell_type": "markdown",
   "metadata": {},
   "source": [
    "#### Load data"
   ]
  },
  {
   "cell_type": "code",
   "execution_count": 3,
   "metadata": {},
   "outputs": [],
   "source": [
    "n_classes = 10\n",
    "\n",
    "raw_data = np.loadtxt('kaggle/datasets/train.csv', skiprows=1, dtype='int', delimiter=',')\n",
    "X_train, X_val, y_train, y_val = train_test_split(\n",
    "    raw_data[:,1:], raw_data[:,0], test_size = 0.1)\n",
    "\n",
    "X_train = X_train.reshape(-1, 28, 28, 1)\n",
    "X_val = X_val.reshape(-1, 28, 28, 1)\n",
    "\n",
    "X_train = X_train.astype(\"float32\")/255.\n",
    "X_val = X_val.astype(\"float32\")/255.\n",
    "\n",
    "y_train = keras.utils.to_categorical(y_train, n_classes)\n",
    "y_val = keras.utils.to_categorical(y_val, n_classes)\n"
   ]
  },
  {
   "cell_type": "markdown",
   "metadata": {},
   "source": [
    "#### Design Neural Network architecture"
   ]
  },
  {
   "cell_type": "code",
   "execution_count": 4,
   "metadata": {},
   "outputs": [],
   "source": [
    "model = Sequential()\n",
    "\n",
    "model.add(Conv2D(32, 5, padding = 'same', activation ='relu', input_shape = (28,28,1)))\n",
    "model.add(Conv2D(32, 5, padding = 'same', activation ='relu'))\n",
    "model.add(MaxPooling2D(pool_size=(2,2)))\n",
    "model.add(Dropout(0.25))\n",
    "\n",
    "model.add(Conv2D(64, 5, padding = 'same', activation ='relu', input_shape = (28,28,1)))\n",
    "model.add(Conv2D(64, 5, padding = 'same', activation ='relu'))\n",
    "model.add(MaxPooling2D(pool_size=(2,2)))\n",
    "model.add(Dropout(0.25))\n",
    "\n",
    "\n",
    "model.add(Flatten())\n",
    "model.add(Dense(256, activation = \"relu\"))\n",
    "model.add(Dropout(0.5))\n",
    "model.add(Dense(10, activation = \"softmax\"))"
   ]
  },
  {
   "cell_type": "code",
   "execution_count": 5,
   "metadata": {},
   "outputs": [
    {
     "name": "stdout",
     "output_type": "stream",
     "text": [
      "_________________________________________________________________\n",
      "Layer (type)                 Output Shape              Param #   \n",
      "=================================================================\n",
      "conv2d_1 (Conv2D)            (None, 28, 28, 32)        832       \n",
      "_________________________________________________________________\n",
      "conv2d_2 (Conv2D)            (None, 28, 28, 32)        25632     \n",
      "_________________________________________________________________\n",
      "max_pooling2d_1 (MaxPooling2 (None, 14, 14, 32)        0         \n",
      "_________________________________________________________________\n",
      "dropout_1 (Dropout)          (None, 14, 14, 32)        0         \n",
      "_________________________________________________________________\n",
      "conv2d_3 (Conv2D)            (None, 14, 14, 64)        51264     \n",
      "_________________________________________________________________\n",
      "conv2d_4 (Conv2D)            (None, 14, 14, 64)        102464    \n",
      "_________________________________________________________________\n",
      "max_pooling2d_2 (MaxPooling2 (None, 7, 7, 64)          0         \n",
      "_________________________________________________________________\n",
      "dropout_2 (Dropout)          (None, 7, 7, 64)          0         \n",
      "_________________________________________________________________\n",
      "flatten_1 (Flatten)          (None, 3136)              0         \n",
      "_________________________________________________________________\n",
      "dense_1 (Dense)              (None, 256)               803072    \n",
      "_________________________________________________________________\n",
      "dropout_3 (Dropout)          (None, 256)               0         \n",
      "_________________________________________________________________\n",
      "dense_2 (Dense)              (None, 10)                2570      \n",
      "=================================================================\n",
      "Total params: 985,834\n",
      "Trainable params: 985,834\n",
      "Non-trainable params: 0\n",
      "_________________________________________________________________\n"
     ]
    }
   ],
   "source": [
    "model.summary()"
   ]
  },
  {
   "cell_type": "markdown",
   "metadata": {},
   "source": [
    "#### Data Augmentation"
   ]
  },
  {
   "cell_type": "code",
   "execution_count": 6,
   "metadata": {},
   "outputs": [],
   "source": [
    "datagen = ImageDataGenerator(zoom_range = 0.1,\n",
    "                            height_shift_range = 0.1,\n",
    "                            width_shift_range = 0.1,\n",
    "                            rotation_range = 10)\n",
    "datagen.fit(X_train)"
   ]
  },
  {
   "cell_type": "markdown",
   "metadata": {},
   "source": [
    "#### Learning Rate Scheduler"
   ]
  },
  {
   "cell_type": "code",
   "execution_count": 7,
   "metadata": {},
   "outputs": [],
   "source": [
    "annealer = LearningRateScheduler(lambda x: 1e-3 * 0.9 ** x)"
   ]
  },
  {
   "cell_type": "markdown",
   "metadata": {},
   "source": [
    "#### Configure model"
   ]
  },
  {
   "cell_type": "code",
   "execution_count": 8,
   "metadata": {},
   "outputs": [],
   "source": [
    "model.compile(loss = 'categorical_crossentropy', optimizer = 'adam', metrics = ['accuracy'])"
   ]
  },
  {
   "cell_type": "markdown",
   "metadata": {},
   "source": [
    "#### TensorBoard"
   ]
  },
  {
   "cell_type": "code",
   "execution_count": 9,
   "metadata": {},
   "outputs": [],
   "source": [
    "tensorboard = TensorBoard(\"logs/lenet-cnn-mnist-relu-30-epochs\")"
   ]
  },
  {
   "cell_type": "markdown",
   "metadata": {},
   "source": [
    "#### Train!"
   ]
  },
  {
   "cell_type": "code",
   "execution_count": 10,
   "metadata": {},
   "outputs": [
    {
     "name": "stdout",
     "output_type": "stream",
     "text": [
      "Epoch 1/30\n",
      "150/150 [==============================] - 124s - loss: 0.7990 - acc: 0.7303 - val_loss: 0.1399 - val_acc: 0.9600\n",
      "Epoch 2/30\n",
      "150/150 [==============================] - 123s - loss: 0.2593 - acc: 0.9220 - val_loss: 0.1246 - val_acc: 0.9625\n",
      "Epoch 3/30\n",
      "150/150 [==============================] - 146s - loss: 0.1810 - acc: 0.9452 - val_loss: 0.0752 - val_acc: 0.9775\n",
      "Epoch 4/30\n",
      "150/150 [==============================] - 232s - loss: 0.1408 - acc: 0.9558 - val_loss: 0.0669 - val_acc: 0.9775\n",
      "Epoch 5/30\n",
      "150/150 [==============================] - 228s - loss: 0.1297 - acc: 0.9619 - val_loss: 0.0756 - val_acc: 0.9800\n",
      "Epoch 6/30\n",
      "150/150 [==============================] - 247s - loss: 0.1028 - acc: 0.9690 - val_loss: 0.0441 - val_acc: 0.9825\n",
      "Epoch 7/30\n",
      "150/150 [==============================] - 217s - loss: 0.0971 - acc: 0.9700 - val_loss: 0.0405 - val_acc: 0.9800\n",
      "Epoch 8/30\n",
      "150/150 [==============================] - 210s - loss: 0.0886 - acc: 0.9739 - val_loss: 0.0360 - val_acc: 0.9875\n",
      "Epoch 9/30\n",
      "150/150 [==============================] - 249s - loss: 0.0716 - acc: 0.9780 - val_loss: 0.0416 - val_acc: 0.9875\n",
      "Epoch 10/30\n",
      "150/150 [==============================] - 239s - loss: 0.0825 - acc: 0.9757 - val_loss: 0.0381 - val_acc: 0.9875\n",
      "Epoch 11/30\n",
      "150/150 [==============================] - 228s - loss: 0.0674 - acc: 0.9798 - val_loss: 0.0467 - val_acc: 0.9850\n",
      "Epoch 12/30\n",
      "150/150 [==============================] - 116s - loss: 0.0708 - acc: 0.9793 - val_loss: 0.0375 - val_acc: 0.9900\n",
      "Epoch 13/30\n",
      "150/150 [==============================] - 117s - loss: 0.0619 - acc: 0.9807 - val_loss: 0.0414 - val_acc: 0.9900\n",
      "Epoch 14/30\n",
      "150/150 [==============================] - 115s - loss: 0.0644 - acc: 0.9804 - val_loss: 0.0378 - val_acc: 0.9900\n",
      "Epoch 15/30\n",
      "150/150 [==============================] - 117s - loss: 0.0550 - acc: 0.9835 - val_loss: 0.0294 - val_acc: 0.9900\n",
      "Epoch 16/30\n",
      "150/150 [==============================] - 115s - loss: 0.0642 - acc: 0.9821 - val_loss: 0.0295 - val_acc: 0.9875\n",
      "Epoch 17/30\n",
      "150/150 [==============================] - 118s - loss: 0.0480 - acc: 0.9851 - val_loss: 0.0288 - val_acc: 0.9875\n",
      "Epoch 18/30\n",
      "150/150 [==============================] - 117s - loss: 0.0551 - acc: 0.9842 - val_loss: 0.0321 - val_acc: 0.9850\n",
      "Epoch 19/30\n",
      "150/150 [==============================] - 115s - loss: 0.0512 - acc: 0.9846 - val_loss: 0.0261 - val_acc: 0.9950\n",
      "Epoch 20/30\n",
      "150/150 [==============================] - 116s - loss: 0.0429 - acc: 0.9866 - val_loss: 0.0275 - val_acc: 0.9925\n",
      "Epoch 21/30\n",
      "150/150 [==============================] - 119s - loss: 0.0471 - acc: 0.9859 - val_loss: 0.0250 - val_acc: 0.9850\n",
      "Epoch 22/30\n",
      "150/150 [==============================] - 117s - loss: 0.0470 - acc: 0.9875 - val_loss: 0.0263 - val_acc: 0.9900\n",
      "Epoch 23/30\n",
      "150/150 [==============================] - 116s - loss: 0.0473 - acc: 0.9873 - val_loss: 0.0289 - val_acc: 0.9875\n",
      "Epoch 24/30\n",
      "150/150 [==============================] - 118s - loss: 0.0397 - acc: 0.9883 - val_loss: 0.0283 - val_acc: 0.9900\n",
      "Epoch 25/30\n",
      "150/150 [==============================] - 119s - loss: 0.0495 - acc: 0.9846 - val_loss: 0.0284 - val_acc: 0.9900\n",
      "Epoch 26/30\n",
      "150/150 [==============================] - 116s - loss: 0.0408 - acc: 0.9856 - val_loss: 0.0322 - val_acc: 0.9900\n",
      "Epoch 27/30\n",
      "150/150 [==============================] - 141s - loss: 0.0425 - acc: 0.9869 - val_loss: 0.0332 - val_acc: 0.9875\n",
      "Epoch 28/30\n",
      "150/150 [==============================] - 242s - loss: 0.0425 - acc: 0.9873 - val_loss: 0.0285 - val_acc: 0.9925\n",
      "Epoch 29/30\n",
      "150/150 [==============================] - 237s - loss: 0.0399 - acc: 0.9868 - val_loss: 0.0271 - val_acc: 0.9900\n",
      "Epoch 30/30\n",
      "150/150 [==============================] - 231s - loss: 0.0405 - acc: 0.9875 - val_loss: 0.0293 - val_acc: 0.9875\n"
     ]
    }
   ],
   "source": [
    "hist = model.fit_generator(datagen.flow(X_train, y_train, batch_size = 64),\n",
    "                           steps_per_epoch = 150,\n",
    "                           epochs = 30,\n",
    "                           verbose = 1,\n",
    "                           validation_data = (X_val[:400,:], y_val[:400,:]),\n",
    "                           callbacks=[annealer, tensorboard])"
   ]
  },
  {
   "cell_type": "markdown",
   "metadata": {},
   "source": [
    "#### Test Final Accuracy"
   ]
  },
  {
   "cell_type": "code",
   "execution_count": 11,
   "metadata": {},
   "outputs": [
    {
     "name": "stdout",
     "output_type": "stream",
     "text": [
      "4200/4200 [==============================] - 33s    \n",
      "Final loss: 0.0189, final accuracy: 0.9945\n"
     ]
    }
   ],
   "source": [
    "final_loss, final_acc = model.evaluate(X_val, y_val, verbose = 1)\n",
    "print(\"Final loss: {0:.4f}, final accuracy: {1:.4f}\".format(final_loss, final_acc))"
   ]
  },
  {
   "cell_type": "markdown",
   "metadata": {},
   "source": [
    "#### Save Submission"
   ]
  },
  {
   "cell_type": "code",
   "execution_count": 12,
   "metadata": {},
   "outputs": [],
   "source": [
    "X_test = np.loadtxt('kaggle/datasets/test.csv', skiprows=1, dtype='int', delimiter=',')\n",
    "X_test = X_test.reshape(28000, 28, 28, 1).astype('float32') / 255.\n",
    "\n",
    "predictions = model.predict(X_test, verbose = 2)\n",
    "predictions = np.argmax(predictions, axis = 1)\n",
    "\n",
    "pd.DataFrame({\"ImageId\": list(range(1, len(predictions) + 1)), \"Label\": predictions}).to_csv('kaggle/results/cnn/submission-relu-30-epochs.csv', index = False, header = True)"
   ]
  },
  {
   "cell_type": "code",
   "execution_count": null,
   "metadata": {},
   "outputs": [],
   "source": []
  }
 ],
 "metadata": {
  "kernelspec": {
   "display_name": "Python 3",
   "language": "python",
   "name": "python3"
  },
  "language_info": {
   "codemirror_mode": {
    "name": "ipython",
    "version": 3
   },
   "file_extension": ".py",
   "mimetype": "text/x-python",
   "name": "python",
   "nbconvert_exporter": "python",
   "pygments_lexer": "ipython3",
   "version": "3.6.2"
  }
 },
 "nbformat": 4,
 "nbformat_minor": 2
}
