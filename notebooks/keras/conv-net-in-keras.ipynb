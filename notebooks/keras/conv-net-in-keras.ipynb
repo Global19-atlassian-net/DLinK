{
 "cells": [
  {
   "cell_type": "markdown",
   "metadata": {},
   "source": [
    "# Convolutional Neural Network in Keras"
   ]
  },
  {
   "cell_type": "markdown",
   "metadata": {},
   "source": [
    "Bulding a Convolutional Neural Network to classify MNIST digits."
   ]
  },
  {
   "cell_type": "markdown",
   "metadata": {},
   "source": [
    "#### Set seed for reproducibility"
   ]
  },
  {
   "cell_type": "code",
   "execution_count": 1,
   "metadata": {},
   "outputs": [],
   "source": [
    "import numpy as np\n",
    "np.random.seed(42)"
   ]
  },
  {
   "cell_type": "markdown",
   "metadata": {},
   "source": [
    "#### Load dependencies"
   ]
  },
  {
   "cell_type": "code",
   "execution_count": 2,
   "metadata": {},
   "outputs": [
    {
     "name": "stderr",
     "output_type": "stream",
     "text": [
      "Using TensorFlow backend.\n",
      "/opt/conda/lib/python3.6/importlib/_bootstrap.py:219: RuntimeWarning: compiletime version 3.5 of module 'tensorflow.python.framework.fast_tensor_util' does not match runtime version 3.6\n",
      "  return f(*args, **kwds)\n"
     ]
    }
   ],
   "source": [
    "import os\n",
    "import keras\n",
    "from keras.datasets import mnist\n",
    "from keras.models import Sequential\n",
    "from keras.layers import Activation, Dense, Dropout, Conv2D, MaxPooling2D, Flatten\n",
    "from keras.callbacks import TensorBoard, ModelCheckpoint, EarlyStopping"
   ]
  },
  {
   "cell_type": "markdown",
   "metadata": {},
   "source": [
    "#### Load data"
   ]
  },
  {
   "cell_type": "code",
   "execution_count": 3,
   "metadata": {},
   "outputs": [],
   "source": [
    "(X_train, y_train), (X_test, y_test) = mnist.load_data()"
   ]
  },
  {
   "cell_type": "markdown",
   "metadata": {},
   "source": [
    "#### Preprocess data\n",
    "Flatten and normalise input data."
   ]
  },
  {
   "cell_type": "code",
   "execution_count": 4,
   "metadata": {},
   "outputs": [],
   "source": [
    "X_train = X_train.reshape(-1, 28, 28, 1)\n",
    "X_test = X_test.reshape(-1, 28, 28, 1)\n",
    "\n",
    "X_train = X_train.astype(\"float32\")/255.\n",
    "X_test = X_test.astype(\"float32\")/255."
   ]
  },
  {
   "cell_type": "code",
   "execution_count": 5,
   "metadata": {},
   "outputs": [],
   "source": [
    "# One-hot encoded categories\n",
    "n_classes = 10\n",
    "y_train = keras.utils.to_categorical(y_train, n_classes)\n",
    "y_test = keras.utils.to_categorical(y_test, n_classes)"
   ]
  },
  {
   "cell_type": "markdown",
   "metadata": {},
   "source": [
    "#### ReLUs"
   ]
  },
  {
   "cell_type": "code",
   "execution_count": 6,
   "metadata": {},
   "outputs": [],
   "source": [
    "from keras import backend as K\n",
    "from keras.utils.generic_utils import get_custom_objects\n",
    "\n",
    "class ReLUs(Activation):\n",
    "    \n",
    "    def __init__(self, activation, **kwargs):\n",
    "        super(ReLUs, self).__init__(activation, **kwargs)\n",
    "        self.__name__ = 'relus'\n",
    "\n",
    "def relus(Z):\n",
    "    e_param = 10**-8\n",
    "    pi = K.variable((3.14))\n",
    "    m = e_param * (K.sigmoid(K.sin(Z)) - K.sigmoid(K.cos(Z)) * K.exp(K.sqrt(pi)))\n",
    "    A = K.maximum(m, Z)\n",
    "    return A\n",
    "\n",
    "get_custom_objects().update({'relus': ReLUs(relus)})"
   ]
  },
  {
   "cell_type": "markdown",
   "metadata": {},
   "source": [
    "#### Design Neural Network architecture"
   ]
  },
  {
   "cell_type": "code",
   "execution_count": 7,
   "metadata": {},
   "outputs": [
    {
     "name": "stdout",
     "output_type": "stream",
     "text": [
      "_________________________________________________________________\n",
      "Layer (type)                 Output Shape              Param #   \n",
      "=================================================================\n",
      "conv2d_1 (Conv2D)            (None, 28, 28, 32)        1600      \n",
      "_________________________________________________________________\n",
      "conv2d_2 (Conv2D)            (None, 28, 28, 32)        50208     \n",
      "_________________________________________________________________\n",
      "max_pooling2d_1 (MaxPooling2 (None, 14, 14, 32)        0         \n",
      "_________________________________________________________________\n",
      "dropout_1 (Dropout)          (None, 14, 14, 32)        0         \n",
      "_________________________________________________________________\n",
      "conv2d_3 (Conv2D)            (None, 14, 14, 64)        18496     \n",
      "_________________________________________________________________\n",
      "conv2d_4 (Conv2D)            (None, 14, 14, 64)        36928     \n",
      "_________________________________________________________________\n",
      "max_pooling2d_2 (MaxPooling2 (None, 7, 7, 64)          0         \n",
      "_________________________________________________________________\n",
      "dropout_2 (Dropout)          (None, 7, 7, 64)          0         \n",
      "_________________________________________________________________\n",
      "conv2d_5 (Conv2D)            (None, 7, 7, 128)         32896     \n",
      "_________________________________________________________________\n",
      "conv2d_6 (Conv2D)            (None, 7, 7, 128)         65664     \n",
      "_________________________________________________________________\n",
      "max_pooling2d_3 (MaxPooling2 (None, 3, 3, 128)         0         \n",
      "_________________________________________________________________\n",
      "dropout_3 (Dropout)          (None, 3, 3, 128)         0         \n",
      "_________________________________________________________________\n",
      "flatten_1 (Flatten)          (None, 1152)              0         \n",
      "_________________________________________________________________\n",
      "dense_1 (Dense)              (None, 512)               590336    \n",
      "_________________________________________________________________\n",
      "dropout_4 (Dropout)          (None, 512)               0         \n",
      "_________________________________________________________________\n",
      "dense_2 (Dense)              (None, 10)                5130      \n",
      "=================================================================\n",
      "Total params: 801,258\n",
      "Trainable params: 801,258\n",
      "Non-trainable params: 0\n",
      "_________________________________________________________________\n"
     ]
    }
   ],
   "source": [
    "model = Sequential()\n",
    "\n",
    "model.add(Conv2D(32, 7, padding = 'same', activation ='relus', input_shape = (28, 28, 1)))\n",
    "model.add(Conv2D(32, 7, padding = 'same', activation ='relus'))\n",
    "model.add(MaxPooling2D(pool_size = (2, 2)))\n",
    "model.add(Dropout(0.20))\n",
    "\n",
    "model.add(Conv2D(64, 3, padding = 'same', activation ='relus'))\n",
    "model.add(Conv2D(64, 3, padding = 'same', activation ='relus'))\n",
    "model.add(MaxPooling2D(pool_size = (2, 2)))\n",
    "model.add(Dropout(0.30))\n",
    "\n",
    "model.add(Conv2D(128, 2, padding = 'same', activation ='relus'))\n",
    "model.add(Conv2D(128, 2, padding = 'same', activation ='relus'))\n",
    "model.add(MaxPooling2D(pool_size = (2, 2)))\n",
    "model.add(Dropout(0.40))\n",
    "\n",
    "model.add(Flatten())\n",
    "model.add(Dense(512, activation = \"relus\"))\n",
    "model.add(Dropout(0.50))\n",
    "model.add(Dense(10, activation = \"softmax\"))\n",
    "\n",
    "model.summary()"
   ]
  },
  {
   "cell_type": "markdown",
   "metadata": {},
   "source": [
    "#### Callbacks"
   ]
  },
  {
   "cell_type": "code",
   "execution_count": 8,
   "metadata": {},
   "outputs": [],
   "source": [
    "modelCheckpoint = ModelCheckpoint(monitor='val_acc', filepath='model_output/weights-cnn-mnist.hdf5',\n",
    "                                               save_best_only=True, mode='max')\n",
    "earlyStopping = EarlyStopping(monitor='val_acc', mode='max', patience=20)\n",
    "\n",
    "\n",
    "if not os.path.exists('model_output'):\n",
    "    os.makedirs('model_output')\n",
    "\n",
    "tensorboard = TensorBoard(\"../logs/convnet-mnist-relus-III\")"
   ]
  },
  {
   "cell_type": "markdown",
   "metadata": {},
   "source": [
    "#### Configure model"
   ]
  },
  {
   "cell_type": "code",
   "execution_count": 9,
   "metadata": {},
   "outputs": [],
   "source": [
    "model.compile(loss = 'categorical_crossentropy', optimizer = 'adam', metrics = ['accuracy'])"
   ]
  },
  {
   "cell_type": "markdown",
   "metadata": {},
   "source": [
    "#### Train!"
   ]
  },
  {
   "cell_type": "code",
   "execution_count": 10,
   "metadata": {},
   "outputs": [
    {
     "name": "stdout",
     "output_type": "stream",
     "text": [
      "Train on 54000 samples, validate on 6000 samples\n",
      "Epoch 1/30\n",
      "54000/54000 [==============================] - 460s 9ms/step - loss: 0.3422 - acc: 0.8860 - val_loss: 0.0561 - val_acc: 0.9837\n",
      "Epoch 2/30\n",
      "54000/54000 [==============================] - 453s 8ms/step - loss: 0.0848 - acc: 0.9743 - val_loss: 0.0326 - val_acc: 0.9902\n",
      "Epoch 3/30\n",
      "54000/54000 [==============================] - 475s 9ms/step - loss: 0.0623 - acc: 0.9814 - val_loss: 0.0316 - val_acc: 0.9908\n",
      "Epoch 4/30\n",
      "54000/54000 [==============================] - 479s 9ms/step - loss: 0.0518 - acc: 0.9842 - val_loss: 0.0268 - val_acc: 0.9928\n",
      "Epoch 5/30\n",
      "54000/54000 [==============================] - 478s 9ms/step - loss: 0.0453 - acc: 0.9866 - val_loss: 0.0270 - val_acc: 0.9915\n",
      "Epoch 6/30\n",
      "54000/54000 [==============================] - 497s 9ms/step - loss: 0.0396 - acc: 0.9879 - val_loss: 0.0227 - val_acc: 0.9923\n",
      "Epoch 7/30\n",
      "54000/54000 [==============================] - 509s 9ms/step - loss: 0.0386 - acc: 0.9882 - val_loss: 0.0242 - val_acc: 0.9927\n",
      "Epoch 8/30\n",
      "54000/54000 [==============================] - 503s 9ms/step - loss: 0.0357 - acc: 0.9890 - val_loss: 0.0240 - val_acc: 0.9937\n",
      "Epoch 9/30\n",
      "54000/54000 [==============================] - 478s 9ms/step - loss: 0.0321 - acc: 0.9900 - val_loss: 0.0214 - val_acc: 0.9942\n",
      "Epoch 10/30\n",
      "54000/54000 [==============================] - 510s 9ms/step - loss: 0.0293 - acc: 0.9909 - val_loss: 0.0245 - val_acc: 0.9928\n",
      "Epoch 11/30\n",
      "54000/54000 [==============================] - 507s 9ms/step - loss: 0.0286 - acc: 0.9907 - val_loss: 0.0215 - val_acc: 0.9945\n",
      "Epoch 12/30\n",
      "54000/54000 [==============================] - 478s 9ms/step - loss: 0.0282 - acc: 0.9914 - val_loss: 0.0196 - val_acc: 0.9953\n",
      "Epoch 13/30\n",
      "54000/54000 [==============================] - 477s 9ms/step - loss: 0.0251 - acc: 0.9920 - val_loss: 0.0219 - val_acc: 0.9945\n",
      "Epoch 14/30\n",
      "54000/54000 [==============================] - 497s 9ms/step - loss: 0.0229 - acc: 0.9927 - val_loss: 0.0236 - val_acc: 0.9945\n",
      "Epoch 15/30\n",
      "54000/54000 [==============================] - 485s 9ms/step - loss: 0.0262 - acc: 0.9919 - val_loss: 0.0254 - val_acc: 0.9933\n",
      "Epoch 16/30\n",
      "54000/54000 [==============================] - 475s 9ms/step - loss: 0.0232 - acc: 0.9925 - val_loss: 0.0241 - val_acc: 0.9930\n",
      "Epoch 17/30\n",
      "54000/54000 [==============================] - 437s 8ms/step - loss: 0.0232 - acc: 0.9931 - val_loss: 0.0230 - val_acc: 0.9938\n",
      "Epoch 18/30\n",
      "54000/54000 [==============================] - 472s 9ms/step - loss: 0.0214 - acc: 0.9930 - val_loss: 0.0253 - val_acc: 0.9942\n",
      "Epoch 19/30\n",
      "54000/54000 [==============================] - 456s 8ms/step - loss: 0.0219 - acc: 0.9931 - val_loss: 0.0292 - val_acc: 0.9928\n",
      "Epoch 20/30\n",
      "54000/54000 [==============================] - 451s 8ms/step - loss: 0.0209 - acc: 0.9936 - val_loss: 0.0240 - val_acc: 0.9935\n",
      "Epoch 21/30\n",
      "54000/54000 [==============================] - 458s 8ms/step - loss: 0.0222 - acc: 0.9932 - val_loss: 0.0209 - val_acc: 0.9957\n",
      "Epoch 22/30\n",
      "54000/54000 [==============================] - 451s 8ms/step - loss: 0.0200 - acc: 0.9935 - val_loss: 0.0203 - val_acc: 0.9952\n",
      "Epoch 23/30\n",
      "54000/54000 [==============================] - 431s 8ms/step - loss: 0.0213 - acc: 0.9938 - val_loss: 0.0192 - val_acc: 0.9948\n",
      "Epoch 24/30\n",
      "54000/54000 [==============================] - 427s 8ms/step - loss: 0.0178 - acc: 0.9944 - val_loss: 0.0206 - val_acc: 0.9947\n",
      "Epoch 25/30\n",
      "54000/54000 [==============================] - 428s 8ms/step - loss: 0.0183 - acc: 0.9944 - val_loss: 0.0239 - val_acc: 0.9950\n",
      "Epoch 26/30\n",
      "54000/54000 [==============================] - 427s 8ms/step - loss: 0.0183 - acc: 0.9941 - val_loss: 0.0182 - val_acc: 0.9952\n",
      "Epoch 27/30\n",
      "54000/54000 [==============================] - 430s 8ms/step - loss: 0.0187 - acc: 0.9937 - val_loss: 0.0199 - val_acc: 0.9950\n",
      "Epoch 28/30\n",
      "54000/54000 [==============================] - 430s 8ms/step - loss: 0.0189 - acc: 0.9943 - val_loss: 0.0217 - val_acc: 0.9940\n",
      "Epoch 29/30\n",
      "54000/54000 [==============================] - 430s 8ms/step - loss: 0.0181 - acc: 0.9944 - val_loss: 0.0249 - val_acc: 0.9940\n",
      "Epoch 30/30\n",
      "54000/54000 [==============================] - 427s 8ms/step - loss: 0.0198 - acc: 0.9939 - val_loss: 0.0264 - val_acc: 0.9942\n"
     ]
    },
    {
     "data": {
      "text/plain": [
       "<keras.callbacks.History at 0x7f1813c63f98>"
      ]
     },
     "execution_count": 10,
     "metadata": {},
     "output_type": "execute_result"
    }
   ],
   "source": [
    "model.fit(X_train, y_train, batch_size = 128, epochs = 30, verbose = 1,\n",
    "          validation_split = 0.1, callbacks=[modelCheckpoint, earlyStopping, tensorboard])"
   ]
  },
  {
   "cell_type": "markdown",
   "metadata": {},
   "source": [
    "#### Test Predictions"
   ]
  },
  {
   "cell_type": "code",
   "execution_count": 11,
   "metadata": {},
   "outputs": [
    {
     "name": "stdout",
     "output_type": "stream",
     "text": [
      "[7 2 1 ..., 4 5 6]\n"
     ]
    }
   ],
   "source": [
    "saved_model = keras.models.load_model('model_output/weights-cnn-mnist.hdf5')\n",
    "predictions = saved_model.predict_classes(X_test, verbose = 2)\n",
    "print(predictions)"
   ]
  },
  {
   "cell_type": "markdown",
   "metadata": {},
   "source": [
    "#### Test Final Accuracy"
   ]
  },
  {
   "cell_type": "code",
   "execution_count": 14,
   "metadata": {},
   "outputs": [
    {
     "name": "stdout",
     "output_type": "stream",
     "text": [
      "10000/10000 [==============================] - 30s 3ms/step\n",
      "Final loss: 0.0183, final accuracy: 0.9946\n"
     ]
    }
   ],
   "source": [
    "final_loss, final_acc = saved_model.evaluate(X_test, y_test, verbose = 1)\n",
    "print(\"Final loss: {0:.4f}, final accuracy: {1:.4f}\".format(final_loss, final_acc))"
   ]
  },
  {
   "cell_type": "code",
   "execution_count": 13,
   "metadata": {},
   "outputs": [],
   "source": [
    "#Final loss: 0.0204, final accuracy: 0.9940 (e = 0.001)"
   ]
  }
 ],
 "metadata": {
  "kernelspec": {
   "display_name": "Python 3",
   "language": "python",
   "name": "python3"
  },
  "language_info": {
   "codemirror_mode": {
    "name": "ipython",
    "version": 3
   },
   "file_extension": ".py",
   "mimetype": "text/x-python",
   "name": "python",
   "nbconvert_exporter": "python",
   "pygments_lexer": "ipython3",
   "version": "3.6.3"
  }
 },
 "nbformat": 4,
 "nbformat_minor": 2
}
