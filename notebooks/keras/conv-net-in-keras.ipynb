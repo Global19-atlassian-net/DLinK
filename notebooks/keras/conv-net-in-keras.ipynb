{
 "cells": [
  {
   "cell_type": "markdown",
   "metadata": {},
   "source": [
    "# Convolutional Neural Network in Keras"
   ]
  },
  {
   "cell_type": "markdown",
   "metadata": {},
   "source": [
    "Bulding a Convolutional Neural Network to classify MNIST digits."
   ]
  },
  {
   "cell_type": "markdown",
   "metadata": {},
   "source": [
    "#### Set seed for reproducibility"
   ]
  },
  {
   "cell_type": "code",
   "execution_count": 1,
   "metadata": {},
   "outputs": [],
   "source": [
    "import numpy as np\n",
    "np.random.seed(42)"
   ]
  },
  {
   "cell_type": "markdown",
   "metadata": {},
   "source": [
    "#### Load dependencies"
   ]
  },
  {
   "cell_type": "code",
   "execution_count": 2,
   "metadata": {},
   "outputs": [
    {
     "name": "stderr",
     "output_type": "stream",
     "text": [
      "/opt/conda/lib/python3.6/site-packages/h5py/__init__.py:36: FutureWarning: Conversion of the second argument of issubdtype from `float` to `np.floating` is deprecated. In future, it will be treated as `np.float64 == np.dtype(float).type`.\n",
      "  from ._conv import register_converters as _register_converters\n",
      "Using TensorFlow backend.\n"
     ]
    }
   ],
   "source": [
    "import os\n",
    "import keras\n",
    "from keras.datasets import mnist\n",
    "from keras.models import Sequential\n",
    "from keras.layers import Activation, Dense, Dropout, Conv2D, MaxPooling2D, Flatten, LeakyReLU, BatchNormalization\n",
    "from keras.callbacks import TensorBoard, ModelCheckpoint, EarlyStopping\n",
    "\n",
    "from keras_contrib.layers.advanced_activations import SineReLU"
   ]
  },
  {
   "cell_type": "markdown",
   "metadata": {},
   "source": [
    "#### Load data"
   ]
  },
  {
   "cell_type": "code",
   "execution_count": 3,
   "metadata": {},
   "outputs": [],
   "source": [
    "(X_train, y_train), (X_test, y_test) = mnist.load_data()"
   ]
  },
  {
   "cell_type": "markdown",
   "metadata": {},
   "source": [
    "#### Preprocess data\n",
    "Flatten and normalise input data."
   ]
  },
  {
   "cell_type": "code",
   "execution_count": 4,
   "metadata": {},
   "outputs": [],
   "source": [
    "X_train = X_train.reshape(-1, 28, 28, 1)\n",
    "X_test = X_test.reshape(-1, 28, 28, 1)\n",
    "\n",
    "X_train = X_train.astype(\"float32\")/255.\n",
    "X_test = X_test.astype(\"float32\")/255."
   ]
  },
  {
   "cell_type": "code",
   "execution_count": 5,
   "metadata": {},
   "outputs": [],
   "source": [
    "# One-hot encoded categories\n",
    "n_classes = 10\n",
    "y_train = keras.utils.to_categorical(y_train, n_classes)\n",
    "y_test = keras.utils.to_categorical(y_test, n_classes)"
   ]
  },
  {
   "cell_type": "markdown",
   "metadata": {},
   "source": [
    "#### Design Neural Network architecture"
   ]
  },
  {
   "cell_type": "code",
   "execution_count": 6,
   "metadata": {},
   "outputs": [
    {
     "name": "stdout",
     "output_type": "stream",
     "text": [
      "_________________________________________________________________\n",
      "Layer (type)                 Output Shape              Param #   \n",
      "=================================================================\n",
      "conv2d_1 (Conv2D)            (None, 28, 28, 32)        1600      \n",
      "_________________________________________________________________\n",
      "sine_re_lu_1 (SineReLU)      (None, 28, 28, 32)        0         \n",
      "_________________________________________________________________\n",
      "conv2d_2 (Conv2D)            (None, 28, 28, 32)        50208     \n",
      "_________________________________________________________________\n",
      "sine_re_lu_2 (SineReLU)      (None, 28, 28, 32)        0         \n",
      "_________________________________________________________________\n",
      "max_pooling2d_1 (MaxPooling2 (None, 14, 14, 32)        0         \n",
      "_________________________________________________________________\n",
      "dropout_1 (Dropout)          (None, 14, 14, 32)        0         \n",
      "_________________________________________________________________\n",
      "conv2d_3 (Conv2D)            (None, 14, 14, 64)        18496     \n",
      "_________________________________________________________________\n",
      "sine_re_lu_3 (SineReLU)      (None, 14, 14, 64)        0         \n",
      "_________________________________________________________________\n",
      "conv2d_4 (Conv2D)            (None, 14, 14, 64)        36928     \n",
      "_________________________________________________________________\n",
      "sine_re_lu_4 (SineReLU)      (None, 14, 14, 64)        0         \n",
      "_________________________________________________________________\n",
      "max_pooling2d_2 (MaxPooling2 (None, 7, 7, 64)          0         \n",
      "_________________________________________________________________\n",
      "dropout_2 (Dropout)          (None, 7, 7, 64)          0         \n",
      "_________________________________________________________________\n",
      "conv2d_5 (Conv2D)            (None, 7, 7, 128)         32896     \n",
      "_________________________________________________________________\n",
      "sine_re_lu_5 (SineReLU)      (None, 7, 7, 128)         0         \n",
      "_________________________________________________________________\n",
      "conv2d_6 (Conv2D)            (None, 7, 7, 128)         65664     \n",
      "_________________________________________________________________\n",
      "sine_re_lu_6 (SineReLU)      (None, 7, 7, 128)         0         \n",
      "_________________________________________________________________\n",
      "max_pooling2d_3 (MaxPooling2 (None, 3, 3, 128)         0         \n",
      "_________________________________________________________________\n",
      "dropout_3 (Dropout)          (None, 3, 3, 128)         0         \n",
      "_________________________________________________________________\n",
      "flatten_1 (Flatten)          (None, 1152)              0         \n",
      "_________________________________________________________________\n",
      "dense_1 (Dense)              (None, 512)               590336    \n",
      "_________________________________________________________________\n",
      "sine_re_lu_7 (SineReLU)      (None, 512)               0         \n",
      "_________________________________________________________________\n",
      "dropout_4 (Dropout)          (None, 512)               0         \n",
      "_________________________________________________________________\n",
      "dense_2 (Dense)              (None, 10)                5130      \n",
      "=================================================================\n",
      "Total params: 801,258\n",
      "Trainable params: 801,258\n",
      "Non-trainable params: 0\n",
      "_________________________________________________________________\n"
     ]
    }
   ],
   "source": [
    "epsilon_cnn = 0.0045\n",
    "epsilon_dense = 0.0083\n",
    "\n",
    "model = Sequential()\n",
    "\n",
    "model.add(Conv2D(32, 7, padding = 'same', input_shape = (28, 28, 1)))\n",
    "model.add(SineReLU(epsilon_cnn))\n",
    "\n",
    "model.add(Conv2D(32, 7, padding = 'same'))\n",
    "model.add(SineReLU(epsilon_cnn))\n",
    "model.add(MaxPooling2D(pool_size = (2, 2)))\n",
    "model.add(Dropout(0.20))\n",
    "\n",
    "model.add(Conv2D(64, 3, padding = 'same'))\n",
    "model.add(SineReLU(epsilon_cnn))\n",
    "\n",
    "model.add(Conv2D(64, 3, padding = 'same'))\n",
    "model.add(SineReLU(epsilon_cnn))\n",
    "model.add(MaxPooling2D(pool_size = (2, 2)))\n",
    "model.add(Dropout(0.30))\n",
    "\n",
    "model.add(Conv2D(128, 2, padding = 'same'))\n",
    "model.add(SineReLU(epsilon_cnn))\n",
    "\n",
    "model.add(Conv2D(128, 2, padding = 'same'))\n",
    "model.add(SineReLU(epsilon_cnn))\n",
    "model.add(MaxPooling2D(pool_size = (2, 2)))\n",
    "model.add(Dropout(0.40))\n",
    "\n",
    "model.add(Flatten())\n",
    "model.add(Dense(512))\n",
    "model.add(SineReLU(epsilon_dense))\n",
    "model.add(Dropout(0.50))\n",
    "\n",
    "model.add(Dense(10, activation = \"softmax\"))\n",
    "\n",
    "model.summary()"
   ]
  },
  {
   "cell_type": "markdown",
   "metadata": {},
   "source": [
    "#### Callbacks"
   ]
  },
  {
   "cell_type": "code",
   "execution_count": 7,
   "metadata": {},
   "outputs": [],
   "source": [
    "modelCheckpoint = ModelCheckpoint(monitor='val_acc', filepath='model_output/weights-cnn-mnist.hdf5',\n",
    "                                               save_best_only=True, mode='max')\n",
    "earlyStopping = EarlyStopping(monitor='val_acc', mode='max', patience=20)\n",
    "\n",
    "\n",
    "if not os.path.exists('model_output'):\n",
    "    os.makedirs('model_output')\n",
    "\n",
    "tensorboard = TensorBoard(\"../logs/convnet-mnist-native-relus-III\")"
   ]
  },
  {
   "cell_type": "markdown",
   "metadata": {},
   "source": [
    "#### Configure model"
   ]
  },
  {
   "cell_type": "code",
   "execution_count": 8,
   "metadata": {},
   "outputs": [],
   "source": [
    "model.compile(loss = 'categorical_crossentropy', optimizer = 'adam', metrics = ['accuracy'])"
   ]
  },
  {
   "cell_type": "markdown",
   "metadata": {},
   "source": [
    "#### Train!"
   ]
  },
  {
   "cell_type": "code",
   "execution_count": null,
   "metadata": {},
   "outputs": [
    {
     "name": "stdout",
     "output_type": "stream",
     "text": [
      "Train on 54000 samples, validate on 6000 samples\n",
      "Epoch 1/50\n",
      "54000/54000 [==============================] - 535s 10ms/step - loss: 0.2799 - acc: 0.9077 - val_loss: 0.0431 - val_acc: 0.9863\n",
      "Epoch 2/50\n",
      "54000/54000 [==============================] - 530s 10ms/step - loss: 0.0705 - acc: 0.9781 - val_loss: 0.0306 - val_acc: 0.9910\n",
      "Epoch 3/50\n",
      "54000/54000 [==============================] - 542s 10ms/step - loss: 0.0519 - acc: 0.9838 - val_loss: 0.0287 - val_acc: 0.9912\n",
      "Epoch 4/50\n",
      "54000/54000 [==============================] - 528s 10ms/step - loss: 0.0441 - acc: 0.9867 - val_loss: 0.0240 - val_acc: 0.9938\n",
      "Epoch 5/50\n",
      "10624/54000 [====>.........................] - ETA: 6:35 - loss: 0.0357 - acc: 0.9876"
     ]
    }
   ],
   "source": [
    "history = model.fit(X_train, y_train, batch_size = 128, epochs = 50, verbose = 1,\n",
    "          validation_split = 0.1, callbacks=[modelCheckpoint, earlyStopping, tensorboard])"
   ]
  },
  {
   "cell_type": "markdown",
   "metadata": {},
   "source": [
    "#### Test Predictions"
   ]
  },
  {
   "cell_type": "code",
   "execution_count": null,
   "metadata": {},
   "outputs": [],
   "source": [
    "saved_model = keras.models.load_model('model_output/weights-cnn-mnist.hdf5')\n",
    "predictions = saved_model.predict_classes(X_test, verbose = 2)\n",
    "np.std(history.history['loss'])"
   ]
  },
  {
   "cell_type": "markdown",
   "metadata": {},
   "source": [
    "#### Test Final Accuracy"
   ]
  },
  {
   "cell_type": "code",
   "execution_count": null,
   "metadata": {},
   "outputs": [],
   "source": [
    "final_loss, final_acc = saved_model.evaluate(X_test, y_test, verbose = 1)\n",
    "print(\"Final loss: {0:.4f}, final accuracy: {1:.4f}\".format(final_loss, final_acc))\n",
    "final_loss, final_acc = model.evaluate(X_test, y_test, verbose = 1)\n",
    "print(\"Final loss: {0:.4f}, final accuracy: {1:.4f}\".format(final_loss, final_acc))"
   ]
  },
  {
   "cell_type": "code",
   "execution_count": null,
   "metadata": {},
   "outputs": [],
   "source": [
    "#Final loss: 0.0197, final accuracy: 0.9950 -> SineReLU (0.0045, 0.0083); STD loss => 0.03690133793565328\n",
    "#Final loss: 0.0159, final accuracy: 0.9944 -> SineReLU (0.0025); STD loss => 0.04272104275245348\n",
    "#Final loss: 0.0192, final accuracy: 0.9945 -> SineReLU (0.0050, 0.0083); STD loss => 0.04411841413608315\n",
    "#Final loss: 0.0212, final accuracy: 0.9942 -> SineReLU (0.0030, 0.0083); STD loss => 0.037860394162356176\n",
    "\n",
    "#Final loss: 0.0203, final accuracy: 0.9939 -> ReLU; STD loss => 0.04592196838390996"
   ]
  }
 ],
 "metadata": {
  "kernelspec": {
   "display_name": "Python 3",
   "language": "python",
   "name": "python3"
  },
  "language_info": {
   "codemirror_mode": {
    "name": "ipython",
    "version": 3
   },
   "file_extension": ".py",
   "mimetype": "text/x-python",
   "name": "python",
   "nbconvert_exporter": "python",
   "pygments_lexer": "ipython3",
   "version": "3.6.3"
  }
 },
 "nbformat": 4,
 "nbformat_minor": 2
}
