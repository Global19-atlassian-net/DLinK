{
 "cells": [
  {
   "cell_type": "markdown",
   "metadata": {},
   "source": [
    "# Convolutional Neural Network in Keras"
   ]
  },
  {
   "cell_type": "markdown",
   "metadata": {},
   "source": [
    "Bulding a Convolutional Neural Network to classify MNIST digits."
   ]
  },
  {
   "cell_type": "markdown",
   "metadata": {},
   "source": [
    "#### Set seed for reproducibility"
   ]
  },
  {
   "cell_type": "code",
   "execution_count": 1,
   "metadata": {},
   "outputs": [],
   "source": [
    "import numpy as np\n",
    "np.random.seed(42)"
   ]
  },
  {
   "cell_type": "markdown",
   "metadata": {},
   "source": [
    "#### Load dependencies"
   ]
  },
  {
   "cell_type": "code",
   "execution_count": 2,
   "metadata": {},
   "outputs": [
    {
     "name": "stderr",
     "output_type": "stream",
     "text": [
      "Using TensorFlow backend.\n",
      "/opt/conda/lib/python3.6/importlib/_bootstrap.py:219: RuntimeWarning: compiletime version 3.5 of module 'tensorflow.python.framework.fast_tensor_util' does not match runtime version 3.6\n",
      "  return f(*args, **kwds)\n"
     ]
    }
   ],
   "source": [
    "import os\n",
    "import keras\n",
    "from keras.datasets import mnist\n",
    "from keras.models import Sequential\n",
    "from keras.layers import Activation, Dense, Dropout, Conv2D, MaxPooling2D, Flatten, LeakyReLU\n",
    "from keras.callbacks import TensorBoard, ModelCheckpoint, EarlyStopping"
   ]
  },
  {
   "cell_type": "markdown",
   "metadata": {},
   "source": [
    "#### Load data"
   ]
  },
  {
   "cell_type": "code",
   "execution_count": 3,
   "metadata": {},
   "outputs": [],
   "source": [
    "(X_train, y_train), (X_test, y_test) = mnist.load_data()"
   ]
  },
  {
   "cell_type": "markdown",
   "metadata": {},
   "source": [
    "#### Preprocess data\n",
    "Flatten and normalise input data."
   ]
  },
  {
   "cell_type": "code",
   "execution_count": 4,
   "metadata": {},
   "outputs": [],
   "source": [
    "X_train = X_train.reshape(-1, 28, 28, 1)\n",
    "X_test = X_test.reshape(-1, 28, 28, 1)\n",
    "\n",
    "X_train = X_train.astype(\"float32\")/255.\n",
    "X_test = X_test.astype(\"float32\")/255."
   ]
  },
  {
   "cell_type": "code",
   "execution_count": 5,
   "metadata": {},
   "outputs": [],
   "source": [
    "# One-hot encoded categories\n",
    "n_classes = 10\n",
    "y_train = keras.utils.to_categorical(y_train, n_classes)\n",
    "y_test = keras.utils.to_categorical(y_test, n_classes)"
   ]
  },
  {
   "cell_type": "markdown",
   "metadata": {},
   "source": [
    "#### ReLUs"
   ]
  },
  {
   "cell_type": "code",
   "execution_count": 6,
   "metadata": {},
   "outputs": [],
   "source": [
    "from keras import backend as K\n",
    "from keras.utils.generic_utils import get_custom_objects\n",
    "\n",
    "class ReLUs(Activation):\n",
    "    \n",
    "    def __init__(self, activation, **kwargs):\n",
    "        super(ReLUs, self).__init__(activation, **kwargs)\n",
    "        self.__name__ = 'relus'\n",
    "\n",
    "def relus(Z):\n",
    "    e_param = 0.0025 # 0.00055 & 0.00045\n",
    "    pi = K.variable((3.14))\n",
    "    m = e_param * (K.sigmoid(K.sin(Z)) - K.sigmoid(K.cos(Z)) * K.exp(K.sqrt(pi)))\n",
    "    A = K.maximum(m, Z)\n",
    "    return A\n",
    "\n",
    "get_custom_objects().update({'relus': ReLUs(relus)})"
   ]
  },
  {
   "cell_type": "markdown",
   "metadata": {},
   "source": [
    "#### Design Neural Network architecture"
   ]
  },
  {
   "cell_type": "code",
   "execution_count": 7,
   "metadata": {},
   "outputs": [
    {
     "name": "stdout",
     "output_type": "stream",
     "text": [
      "_________________________________________________________________\n",
      "Layer (type)                 Output Shape              Param #   \n",
      "=================================================================\n",
      "conv2d_1 (Conv2D)            (None, 28, 28, 32)        1600      \n",
      "_________________________________________________________________\n",
      "conv2d_2 (Conv2D)            (None, 28, 28, 32)        50208     \n",
      "_________________________________________________________________\n",
      "max_pooling2d_1 (MaxPooling2 (None, 14, 14, 32)        0         \n",
      "_________________________________________________________________\n",
      "dropout_1 (Dropout)          (None, 14, 14, 32)        0         \n",
      "_________________________________________________________________\n",
      "conv2d_3 (Conv2D)            (None, 14, 14, 64)        18496     \n",
      "_________________________________________________________________\n",
      "conv2d_4 (Conv2D)            (None, 14, 14, 64)        36928     \n",
      "_________________________________________________________________\n",
      "max_pooling2d_2 (MaxPooling2 (None, 7, 7, 64)          0         \n",
      "_________________________________________________________________\n",
      "dropout_2 (Dropout)          (None, 7, 7, 64)          0         \n",
      "_________________________________________________________________\n",
      "conv2d_5 (Conv2D)            (None, 7, 7, 128)         32896     \n",
      "_________________________________________________________________\n",
      "conv2d_6 (Conv2D)            (None, 7, 7, 128)         65664     \n",
      "_________________________________________________________________\n",
      "max_pooling2d_3 (MaxPooling2 (None, 3, 3, 128)         0         \n",
      "_________________________________________________________________\n",
      "dropout_3 (Dropout)          (None, 3, 3, 128)         0         \n",
      "_________________________________________________________________\n",
      "flatten_1 (Flatten)          (None, 1152)              0         \n",
      "_________________________________________________________________\n",
      "dense_1 (Dense)              (None, 512)               590336    \n",
      "_________________________________________________________________\n",
      "dropout_4 (Dropout)          (None, 512)               0         \n",
      "_________________________________________________________________\n",
      "dense_2 (Dense)              (None, 10)                5130      \n",
      "=================================================================\n",
      "Total params: 801,258\n",
      "Trainable params: 801,258\n",
      "Non-trainable params: 0\n",
      "_________________________________________________________________\n"
     ]
    }
   ],
   "source": [
    "model = Sequential()\n",
    "\n",
    "model.add(Conv2D(32, 7, padding = 'same', activation ='relus', input_shape = (28, 28, 1)))\n",
    "# model.add(LeakyReLU())\n",
    "model.add(Conv2D(32, 7, padding = 'same', activation ='relus'))\n",
    "# model.add(LeakyReLU())\n",
    "model.add(MaxPooling2D(pool_size = (2, 2)))\n",
    "model.add(Dropout(0.20))\n",
    "\n",
    "model.add(Conv2D(64, 3, padding = 'same', activation ='relus'))\n",
    "# model.add(LeakyReLU())\n",
    "model.add(Conv2D(64, 3, padding = 'same', activation ='relus'))\n",
    "# model.add(LeakyReLU())\n",
    "model.add(MaxPooling2D(pool_size = (2, 2)))\n",
    "model.add(Dropout(0.30))\n",
    "\n",
    "model.add(Conv2D(128, 2, padding = 'same', activation ='relus'))\n",
    "# model.add(LeakyReLU())\n",
    "model.add(Conv2D(128, 2, padding = 'same', activation ='relus'))\n",
    "# model.add(LeakyReLU())\n",
    "model.add(MaxPooling2D(pool_size = (2, 2)))\n",
    "model.add(Dropout(0.40))\n",
    "\n",
    "model.add(Flatten())\n",
    "model.add(Dense(512, activation = \"relus\"))\n",
    "# model.add(LeakyReLU())\n",
    "model.add(Dropout(0.50))\n",
    "model.add(Dense(10, activation = \"softmax\"))\n",
    "\n",
    "model.summary()"
   ]
  },
  {
   "cell_type": "markdown",
   "metadata": {},
   "source": [
    "#### Callbacks"
   ]
  },
  {
   "cell_type": "code",
   "execution_count": 8,
   "metadata": {},
   "outputs": [],
   "source": [
    "modelCheckpoint = ModelCheckpoint(monitor='val_acc', filepath='model_output/weights-cnn-mnist.hdf5',\n",
    "                                               save_best_only=True, mode='max')\n",
    "earlyStopping = EarlyStopping(monitor='val_acc', mode='max', patience=20)\n",
    "\n",
    "\n",
    "if not os.path.exists('model_output'):\n",
    "    os.makedirs('model_output')\n",
    "\n",
    "tensorboard = TensorBoard(\"../logs/convnet-mnist-relus-III\")"
   ]
  },
  {
   "cell_type": "markdown",
   "metadata": {},
   "source": [
    "#### Configure model"
   ]
  },
  {
   "cell_type": "code",
   "execution_count": 9,
   "metadata": {},
   "outputs": [],
   "source": [
    "model.compile(loss = 'categorical_crossentropy', optimizer = 'adam', metrics = ['accuracy'])"
   ]
  },
  {
   "cell_type": "markdown",
   "metadata": {},
   "source": [
    "#### Train!"
   ]
  },
  {
   "cell_type": "code",
   "execution_count": 10,
   "metadata": {},
   "outputs": [
    {
     "name": "stdout",
     "output_type": "stream",
     "text": [
      "Train on 54000 samples, validate on 6000 samples\n",
      "Epoch 1/50\n",
      "54000/54000 [==============================] - 474s 9ms/step - loss: 0.3036 - acc: 0.9011 - val_loss: 0.0502 - val_acc: 0.9843\n",
      "Epoch 2/50\n",
      "54000/54000 [==============================] - 477s 9ms/step - loss: 0.0739 - acc: 0.9770 - val_loss: 0.0295 - val_acc: 0.9908\n",
      "Epoch 3/50\n",
      "54000/54000 [==============================] - 471s 9ms/step - loss: 0.0515 - acc: 0.9840 - val_loss: 0.0275 - val_acc: 0.9920\n",
      "Epoch 4/50\n",
      "54000/54000 [==============================] - 468s 9ms/step - loss: 0.0456 - acc: 0.9864 - val_loss: 0.0259 - val_acc: 0.9932\n",
      "Epoch 5/50\n",
      "54000/54000 [==============================] - 524s 10ms/step - loss: 0.0390 - acc: 0.9879 - val_loss: 0.0225 - val_acc: 0.9935\n",
      "Epoch 6/50\n",
      "54000/54000 [==============================] - 543s 10ms/step - loss: 0.0340 - acc: 0.9893 - val_loss: 0.0256 - val_acc: 0.9923\n",
      "Epoch 7/50\n",
      "54000/54000 [==============================] - 7884s 146ms/step - loss: 0.0331 - acc: 0.9900 - val_loss: 0.0251 - val_acc: 0.9938\n",
      "Epoch 8/50\n",
      "54000/54000 [==============================] - 452s 8ms/step - loss: 0.0300 - acc: 0.9907 - val_loss: 0.0238 - val_acc: 0.9937\n",
      "Epoch 9/50\n",
      "54000/54000 [==============================] - 456s 8ms/step - loss: 0.0269 - acc: 0.9916 - val_loss: 0.0315 - val_acc: 0.9922\n",
      "Epoch 10/50\n",
      "54000/54000 [==============================] - 467s 9ms/step - loss: 0.0264 - acc: 0.9915 - val_loss: 0.0228 - val_acc: 0.9943\n",
      "Epoch 11/50\n",
      "54000/54000 [==============================] - 470s 9ms/step - loss: 0.0273 - acc: 0.9911 - val_loss: 0.0246 - val_acc: 0.9935\n",
      "Epoch 12/50\n",
      "54000/54000 [==============================] - 483s 9ms/step - loss: 0.0268 - acc: 0.9915 - val_loss: 0.0227 - val_acc: 0.9943\n",
      "Epoch 13/50\n",
      "54000/54000 [==============================] - 487s 9ms/step - loss: 0.0237 - acc: 0.9922 - val_loss: 0.0262 - val_acc: 0.9935\n",
      "Epoch 14/50\n",
      "54000/54000 [==============================] - 504s 9ms/step - loss: 0.0240 - acc: 0.9926 - val_loss: 0.0207 - val_acc: 0.9953\n",
      "Epoch 15/50\n",
      "54000/54000 [==============================] - 516s 10ms/step - loss: 0.0212 - acc: 0.9931 - val_loss: 0.0225 - val_acc: 0.9947\n",
      "Epoch 16/50\n",
      "54000/54000 [==============================] - 513s 9ms/step - loss: 0.0209 - acc: 0.9936 - val_loss: 0.0245 - val_acc: 0.9937\n",
      "Epoch 17/50\n",
      "54000/54000 [==============================] - 498s 9ms/step - loss: 0.0207 - acc: 0.9933 - val_loss: 0.0231 - val_acc: 0.9943\n",
      "Epoch 18/50\n",
      "54000/54000 [==============================] - 485s 9ms/step - loss: 0.0208 - acc: 0.9935 - val_loss: 0.0253 - val_acc: 0.9942\n",
      "Epoch 19/50\n",
      "54000/54000 [==============================] - 498s 9ms/step - loss: 0.0197 - acc: 0.9944 - val_loss: 0.0267 - val_acc: 0.9943\n",
      "Epoch 20/50\n",
      "54000/54000 [==============================] - 483s 9ms/step - loss: 0.0199 - acc: 0.9937 - val_loss: 0.0229 - val_acc: 0.9942\n",
      "Epoch 21/50\n",
      "54000/54000 [==============================] - 476s 9ms/step - loss: 0.0216 - acc: 0.9932 - val_loss: 0.0218 - val_acc: 0.9953\n",
      "Epoch 22/50\n",
      "54000/54000 [==============================] - 469s 9ms/step - loss: 0.0183 - acc: 0.9940 - val_loss: 0.0241 - val_acc: 0.9948\n",
      "Epoch 23/50\n",
      "54000/54000 [==============================] - 489s 9ms/step - loss: 0.0166 - acc: 0.9945 - val_loss: 0.0287 - val_acc: 0.9940\n",
      "Epoch 24/50\n",
      "54000/54000 [==============================] - 469s 9ms/step - loss: 0.0179 - acc: 0.9946 - val_loss: 0.0210 - val_acc: 0.9947\n",
      "Epoch 25/50\n",
      "54000/54000 [==============================] - 457s 8ms/step - loss: 0.0187 - acc: 0.9941 - val_loss: 0.0264 - val_acc: 0.9945\n",
      "Epoch 26/50\n",
      "54000/54000 [==============================] - 457s 8ms/step - loss: 0.0173 - acc: 0.9947 - val_loss: 0.0254 - val_acc: 0.9948\n",
      "Epoch 27/50\n",
      "54000/54000 [==============================] - 467s 9ms/step - loss: 0.0203 - acc: 0.9940 - val_loss: 0.0218 - val_acc: 0.9950\n",
      "Epoch 28/50\n",
      "54000/54000 [==============================] - 454s 8ms/step - loss: 0.0186 - acc: 0.9939 - val_loss: 0.0233 - val_acc: 0.9942\n",
      "Epoch 29/50\n",
      "54000/54000 [==============================] - 452s 8ms/step - loss: 0.0162 - acc: 0.9946 - val_loss: 0.0238 - val_acc: 0.9940\n",
      "Epoch 30/50\n",
      "54000/54000 [==============================] - 452s 8ms/step - loss: 0.0167 - acc: 0.9948 - val_loss: 0.0242 - val_acc: 0.9955\n",
      "Epoch 31/50\n",
      "54000/54000 [==============================] - 457s 8ms/step - loss: 0.0168 - acc: 0.9946 - val_loss: 0.0250 - val_acc: 0.9950\n",
      "Epoch 32/50\n",
      "54000/54000 [==============================] - 463s 9ms/step - loss: 0.0195 - acc: 0.9940 - val_loss: 0.0292 - val_acc: 0.9935\n",
      "Epoch 33/50\n",
      "54000/54000 [==============================] - 514s 10ms/step - loss: 0.0203 - acc: 0.9938 - val_loss: 0.0227 - val_acc: 0.9940\n",
      "Epoch 34/50\n",
      "54000/54000 [==============================] - 499s 9ms/step - loss: 0.0188 - acc: 0.9941 - val_loss: 0.0239 - val_acc: 0.9942\n",
      "Epoch 35/50\n",
      "54000/54000 [==============================] - 461s 9ms/step - loss: 0.0197 - acc: 0.9937 - val_loss: 0.0234 - val_acc: 0.9952\n",
      "Epoch 36/50\n",
      "54000/54000 [==============================] - 452s 8ms/step - loss: 0.0162 - acc: 0.9949 - val_loss: 0.0219 - val_acc: 0.9947\n",
      "Epoch 37/50\n",
      "54000/54000 [==============================] - 451s 8ms/step - loss: 0.0180 - acc: 0.9946 - val_loss: 0.0241 - val_acc: 0.9952\n",
      "Epoch 38/50\n",
      "54000/54000 [==============================] - 451s 8ms/step - loss: 0.0194 - acc: 0.9941 - val_loss: 0.0278 - val_acc: 0.9937\n",
      "Epoch 39/50\n",
      "54000/54000 [==============================] - 451s 8ms/step - loss: 0.0177 - acc: 0.9946 - val_loss: 0.0216 - val_acc: 0.9953\n",
      "Epoch 40/50\n",
      "54000/54000 [==============================] - 451s 8ms/step - loss: 0.0142 - acc: 0.9958 - val_loss: 0.0264 - val_acc: 0.9943\n",
      "Epoch 41/50\n",
      "54000/54000 [==============================] - 451s 8ms/step - loss: 0.0163 - acc: 0.9953 - val_loss: 0.0253 - val_acc: 0.9947\n",
      "Epoch 42/50\n",
      "54000/54000 [==============================] - 451s 8ms/step - loss: 0.0152 - acc: 0.9957 - val_loss: 0.0267 - val_acc: 0.9950\n",
      "Epoch 43/50\n",
      "54000/54000 [==============================] - 451s 8ms/step - loss: 0.0198 - acc: 0.9944 - val_loss: 0.0279 - val_acc: 0.9933\n",
      "Epoch 44/50\n",
      "54000/54000 [==============================] - 453s 8ms/step - loss: 0.0189 - acc: 0.9941 - val_loss: 0.0259 - val_acc: 0.9940\n",
      "Epoch 45/50\n",
      "54000/54000 [==============================] - 451s 8ms/step - loss: 0.0187 - acc: 0.9944 - val_loss: 0.0237 - val_acc: 0.9950\n",
      "Epoch 46/50\n",
      "54000/54000 [==============================] - 451s 8ms/step - loss: 0.0177 - acc: 0.9947 - val_loss: 0.0234 - val_acc: 0.9958\n",
      "Epoch 47/50\n",
      "54000/54000 [==============================] - 452s 8ms/step - loss: 0.0187 - acc: 0.9945 - val_loss: 0.0248 - val_acc: 0.9950\n",
      "Epoch 48/50\n",
      "54000/54000 [==============================] - 452s 8ms/step - loss: 0.0153 - acc: 0.9957 - val_loss: 0.0228 - val_acc: 0.9955\n",
      "Epoch 49/50\n",
      "54000/54000 [==============================] - 452s 8ms/step - loss: 0.0207 - acc: 0.9940 - val_loss: 0.0204 - val_acc: 0.9958\n",
      "Epoch 50/50\n",
      "54000/54000 [==============================] - 452s 8ms/step - loss: 0.0158 - acc: 0.9956 - val_loss: 0.0266 - val_acc: 0.9945\n"
     ]
    },
    {
     "data": {
      "text/plain": [
       "<keras.callbacks.History at 0x7f5d3efc8f98>"
      ]
     },
     "execution_count": 10,
     "metadata": {},
     "output_type": "execute_result"
    }
   ],
   "source": [
    "model.fit(X_train, y_train, batch_size = 128, epochs = 50, verbose = 1,\n",
    "          validation_split = 0.1, callbacks=[modelCheckpoint, earlyStopping, tensorboard])"
   ]
  },
  {
   "cell_type": "markdown",
   "metadata": {},
   "source": [
    "#### Test Predictions"
   ]
  },
  {
   "cell_type": "code",
   "execution_count": 11,
   "metadata": {},
   "outputs": [
    {
     "name": "stdout",
     "output_type": "stream",
     "text": [
      "[7 2 1 ..., 4 5 6]\n"
     ]
    }
   ],
   "source": [
    "saved_model = keras.models.load_model('model_output/weights-cnn-mnist.hdf5')\n",
    "predictions = saved_model.predict_classes(X_test, verbose = 2)\n",
    "print(predictions)"
   ]
  },
  {
   "cell_type": "markdown",
   "metadata": {},
   "source": [
    "#### Test Final Accuracy"
   ]
  },
  {
   "cell_type": "code",
   "execution_count": 14,
   "metadata": {},
   "outputs": [
    {
     "name": "stdout",
     "output_type": "stream",
     "text": [
      "10000/10000 [==============================] - 33s 3ms/step\n",
      "Final loss: 0.0208, final accuracy: 0.9956\n"
     ]
    }
   ],
   "source": [
    "final_loss, final_acc = saved_model.evaluate(X_test, y_test, verbose = 1)\n",
    "print(\"Final loss: {0:.4f}, final accuracy: {1:.4f}\".format(final_loss, final_acc))"
   ]
  },
  {
   "cell_type": "code",
   "execution_count": 13,
   "metadata": {},
   "outputs": [],
   "source": [
    "#Final loss: 0.0208, final accuracy: 0.9956 (e = 0.0025)\n",
    "#Final loss: 0.0147, final accuracy: 0.9954 (e = 10**-7)\n",
    "#Final loss: 0.0172, final accuracy: 0.9948 (e = 0.00045)\n",
    "#Final loss: 0.0198, final accuracy: 0.9942 - ReLU"
   ]
  }
 ],
 "metadata": {
  "kernelspec": {
   "display_name": "Python 3",
   "language": "python",
   "name": "python3"
  },
  "language_info": {
   "codemirror_mode": {
    "name": "ipython",
    "version": 3
   },
   "file_extension": ".py",
   "mimetype": "text/x-python",
   "name": "python",
   "nbconvert_exporter": "python",
   "pygments_lexer": "ipython3",
   "version": "3.6.3"
  }
 },
 "nbformat": 4,
 "nbformat_minor": 2
}
