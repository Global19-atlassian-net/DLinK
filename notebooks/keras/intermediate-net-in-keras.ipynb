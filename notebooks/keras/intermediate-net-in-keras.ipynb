{
 "cells": [
  {
   "cell_type": "markdown",
   "metadata": {},
   "source": [
    "# Intermediate Neural Network in Keras"
   ]
  },
  {
   "cell_type": "markdown",
   "metadata": {},
   "source": [
    "Bulding an Intermediate Neural Network to classify MNIST digits."
   ]
  },
  {
   "cell_type": "markdown",
   "metadata": {},
   "source": [
    "#### Set seed for reproducibility"
   ]
  },
  {
   "cell_type": "code",
   "execution_count": 1,
   "metadata": {},
   "outputs": [],
   "source": [
    "import numpy as np\n",
    "np.random.seed(42)"
   ]
  },
  {
   "cell_type": "markdown",
   "metadata": {},
   "source": [
    "#### Load dependencies"
   ]
  },
  {
   "cell_type": "code",
   "execution_count": 2,
   "metadata": {},
   "outputs": [
    {
     "name": "stderr",
     "output_type": "stream",
     "text": [
      "/opt/conda/lib/python3.6/site-packages/h5py/__init__.py:36: FutureWarning: Conversion of the second argument of issubdtype from `float` to `np.floating` is deprecated. In future, it will be treated as `np.float64 == np.dtype(float).type`.\n",
      "  from ._conv import register_converters as _register_converters\n",
      "Using TensorFlow backend.\n"
     ]
    }
   ],
   "source": [
    "import os\n",
    "import keras\n",
    "from keras.datasets import mnist\n",
    "from keras.models import Sequential\n",
    "from keras.layers import Activation, Dense, Dropout, LeakyReLU, BatchNormalization\n",
    "from keras.callbacks import TensorBoard, ModelCheckpoint, EarlyStopping\n",
    "\n",
    "from keras_contrib.layers.advanced_activations import SineReLU"
   ]
  },
  {
   "cell_type": "markdown",
   "metadata": {},
   "source": [
    "#### Load data"
   ]
  },
  {
   "cell_type": "code",
   "execution_count": 3,
   "metadata": {},
   "outputs": [
    {
     "name": "stdout",
     "output_type": "stream",
     "text": [
      "Downloading data from https://s3.amazonaws.com/img-datasets/mnist.npz\n",
      "11493376/11490434 [==============================] - 3s 0us/step\n"
     ]
    }
   ],
   "source": [
    "(X_train, y_train), (X_test, y_test) = mnist.load_data()"
   ]
  },
  {
   "cell_type": "markdown",
   "metadata": {},
   "source": [
    "#### Preprocess data\n",
    "Flatten and normalise input data."
   ]
  },
  {
   "cell_type": "code",
   "execution_count": 4,
   "metadata": {},
   "outputs": [],
   "source": [
    "X_train = X_train.reshape(60000, 784).astype('float32')\n",
    "X_test = X_test.reshape(10000, 784).astype('float32')"
   ]
  },
  {
   "cell_type": "code",
   "execution_count": 5,
   "metadata": {},
   "outputs": [],
   "source": [
    "X_train /= 255\n",
    "X_test /= 255"
   ]
  },
  {
   "cell_type": "code",
   "execution_count": 6,
   "metadata": {},
   "outputs": [],
   "source": [
    "# One-hot encoded categories\n",
    "n_classes = 10\n",
    "y_train = keras.utils.to_categorical(y_train, n_classes)\n",
    "y_test = keras.utils.to_categorical(y_test, n_classes)"
   ]
  },
  {
   "cell_type": "markdown",
   "metadata": {},
   "source": [
    "#### Design Neural Network architecture"
   ]
  },
  {
   "cell_type": "code",
   "execution_count": 7,
   "metadata": {},
   "outputs": [],
   "source": [
    "model = Sequential()\n",
    "model.add(Dense(128, input_shape = (784,)))\n",
    "model.add(BatchNormalization())\n",
    "model.add(SineReLU(epsilon=0.0083))\n",
    "model.add(Dropout(0.2))\n",
    "\n",
    "model.add(Dense(256))\n",
    "model.add(BatchNormalization())\n",
    "model.add(SineReLU(epsilon=0.0083))\n",
    "model.add(Dropout(0.3))\n",
    "\n",
    "model.add(Dense(1024))\n",
    "model.add(BatchNormalization())\n",
    "model.add(SineReLU(epsilon=0.0083))\n",
    "model.add(Dropout(0.5))\n",
    "model.add(Dense(10, activation = 'softmax'))"
   ]
  },
  {
   "cell_type": "code",
   "execution_count": 8,
   "metadata": {},
   "outputs": [
    {
     "name": "stdout",
     "output_type": "stream",
     "text": [
      "_________________________________________________________________\n",
      "Layer (type)                 Output Shape              Param #   \n",
      "=================================================================\n",
      "dense_1 (Dense)              (None, 128)               100480    \n",
      "_________________________________________________________________\n",
      "batch_normalization_1 (Batch (None, 128)               512       \n",
      "_________________________________________________________________\n",
      "sine_re_lu_1 (SineReLU)      (None, 128)               0         \n",
      "_________________________________________________________________\n",
      "dropout_1 (Dropout)          (None, 128)               0         \n",
      "_________________________________________________________________\n",
      "dense_2 (Dense)              (None, 256)               33024     \n",
      "_________________________________________________________________\n",
      "batch_normalization_2 (Batch (None, 256)               1024      \n",
      "_________________________________________________________________\n",
      "sine_re_lu_2 (SineReLU)      (None, 256)               0         \n",
      "_________________________________________________________________\n",
      "dropout_2 (Dropout)          (None, 256)               0         \n",
      "_________________________________________________________________\n",
      "dense_3 (Dense)              (None, 1024)              263168    \n",
      "_________________________________________________________________\n",
      "batch_normalization_3 (Batch (None, 1024)              4096      \n",
      "_________________________________________________________________\n",
      "sine_re_lu_3 (SineReLU)      (None, 1024)              0         \n",
      "_________________________________________________________________\n",
      "dropout_3 (Dropout)          (None, 1024)              0         \n",
      "_________________________________________________________________\n",
      "dense_4 (Dense)              (None, 10)                10250     \n",
      "=================================================================\n",
      "Total params: 412,554\n",
      "Trainable params: 409,738\n",
      "Non-trainable params: 2,816\n",
      "_________________________________________________________________\n"
     ]
    }
   ],
   "source": [
    "model.summary()"
   ]
  },
  {
   "cell_type": "markdown",
   "metadata": {},
   "source": [
    "#### Callbacks"
   ]
  },
  {
   "cell_type": "code",
   "execution_count": 9,
   "metadata": {},
   "outputs": [],
   "source": [
    "modelCheckpoint = ModelCheckpoint(monitor='val_acc', filepath='model_output/weights-deepnet-mnist.hdf5',\n",
    "                                               save_best_only=True, mode='max')\n",
    "earlyStopping = EarlyStopping(monitor='val_acc', mode='max', patience=20)\n",
    "\n",
    "\n",
    "if not os.path.exists('model_output'):\n",
    "    os.makedirs('model_output')\n",
    "    \n",
    "tensorboard = TensorBoard(\"../logs/deepnet-mnist-relus-native-VIII\")"
   ]
  },
  {
   "cell_type": "markdown",
   "metadata": {},
   "source": [
    "#### Configure model"
   ]
  },
  {
   "cell_type": "code",
   "execution_count": 10,
   "metadata": {},
   "outputs": [],
   "source": [
    "model.compile(loss = 'categorical_crossentropy', optimizer = 'adam', metrics = ['accuracy'])"
   ]
  },
  {
   "cell_type": "markdown",
   "metadata": {},
   "source": [
    "#### Train!"
   ]
  },
  {
   "cell_type": "code",
   "execution_count": 11,
   "metadata": {},
   "outputs": [
    {
     "name": "stdout",
     "output_type": "stream",
     "text": [
      "Train on 54000 samples, validate on 6000 samples\n",
      "Epoch 1/50\n",
      "54000/54000 [==============================] - 11s 209us/step - loss: 0.4019 - acc: 0.8741 - val_loss: 0.1209 - val_acc: 0.9647\n",
      "Epoch 2/50\n",
      "54000/54000 [==============================] - 10s 189us/step - loss: 0.2018 - acc: 0.9380 - val_loss: 0.0933 - val_acc: 0.9700\n",
      "Epoch 3/50\n",
      "54000/54000 [==============================] - 10s 189us/step - loss: 0.1561 - acc: 0.9515 - val_loss: 0.0818 - val_acc: 0.9752\n",
      "Epoch 4/50\n",
      "54000/54000 [==============================] - 11s 199us/step - loss: 0.1346 - acc: 0.9578 - val_loss: 0.0815 - val_acc: 0.9767\n",
      "Epoch 5/50\n",
      "54000/54000 [==============================] - 10s 194us/step - loss: 0.1184 - acc: 0.9634 - val_loss: 0.0781 - val_acc: 0.9778\n",
      "Epoch 6/50\n",
      "54000/54000 [==============================] - 10s 193us/step - loss: 0.1045 - acc: 0.9663 - val_loss: 0.0713 - val_acc: 0.9790\n",
      "Epoch 7/50\n",
      "54000/54000 [==============================] - 10s 191us/step - loss: 0.0964 - acc: 0.9695 - val_loss: 0.0732 - val_acc: 0.9788\n",
      "Epoch 8/50\n",
      "54000/54000 [==============================] - 11s 199us/step - loss: 0.0891 - acc: 0.9723 - val_loss: 0.0655 - val_acc: 0.9818\n",
      "Epoch 9/50\n",
      "54000/54000 [==============================] - 11s 206us/step - loss: 0.0789 - acc: 0.9742 - val_loss: 0.0640 - val_acc: 0.9815\n",
      "Epoch 10/50\n",
      "54000/54000 [==============================] - 11s 196us/step - loss: 0.0769 - acc: 0.9749 - val_loss: 0.0617 - val_acc: 0.9827\n",
      "Epoch 11/50\n",
      "54000/54000 [==============================] - 11s 201us/step - loss: 0.0730 - acc: 0.9772 - val_loss: 0.0697 - val_acc: 0.9812\n",
      "Epoch 12/50\n",
      "54000/54000 [==============================] - 12s 215us/step - loss: 0.0679 - acc: 0.9775 - val_loss: 0.0675 - val_acc: 0.9818\n",
      "Epoch 13/50\n",
      "54000/54000 [==============================] - 11s 194us/step - loss: 0.0652 - acc: 0.9780 - val_loss: 0.0641 - val_acc: 0.9817\n",
      "Epoch 14/50\n",
      "54000/54000 [==============================] - 10s 191us/step - loss: 0.0647 - acc: 0.9783 - val_loss: 0.0694 - val_acc: 0.9823\n",
      "Epoch 15/50\n",
      "54000/54000 [==============================] - 13s 240us/step - loss: 0.0592 - acc: 0.9807 - val_loss: 0.0625 - val_acc: 0.9838\n",
      "Epoch 16/50\n",
      "54000/54000 [==============================] - 11s 212us/step - loss: 0.0555 - acc: 0.9817 - val_loss: 0.0686 - val_acc: 0.9837\n",
      "Epoch 17/50\n",
      "54000/54000 [==============================] - 11s 206us/step - loss: 0.0539 - acc: 0.9821 - val_loss: 0.0671 - val_acc: 0.9812\n",
      "Epoch 18/50\n",
      "54000/54000 [==============================] - 11s 204us/step - loss: 0.0519 - acc: 0.9828 - val_loss: 0.0668 - val_acc: 0.9830\n",
      "Epoch 19/50\n",
      "54000/54000 [==============================] - 10s 193us/step - loss: 0.0479 - acc: 0.9838 - val_loss: 0.0667 - val_acc: 0.9845\n",
      "Epoch 20/50\n",
      "54000/54000 [==============================] - 11s 199us/step - loss: 0.0455 - acc: 0.9851 - val_loss: 0.0602 - val_acc: 0.9832\n",
      "Epoch 21/50\n",
      "54000/54000 [==============================] - 10s 194us/step - loss: 0.0456 - acc: 0.9848 - val_loss: 0.0732 - val_acc: 0.9817\n",
      "Epoch 22/50\n",
      "54000/54000 [==============================] - 10s 193us/step - loss: 0.0468 - acc: 0.9848 - val_loss: 0.0641 - val_acc: 0.9845\n",
      "Epoch 23/50\n",
      "54000/54000 [==============================] - 10s 189us/step - loss: 0.0435 - acc: 0.9858 - val_loss: 0.0681 - val_acc: 0.9840\n",
      "Epoch 24/50\n",
      "54000/54000 [==============================] - 11s 197us/step - loss: 0.0442 - acc: 0.9859 - val_loss: 0.0632 - val_acc: 0.9855\n",
      "Epoch 25/50\n",
      "54000/54000 [==============================] - 10s 191us/step - loss: 0.0405 - acc: 0.9870 - val_loss: 0.0684 - val_acc: 0.9860\n",
      "Epoch 26/50\n",
      "54000/54000 [==============================] - 13s 236us/step - loss: 0.0398 - acc: 0.9867 - val_loss: 0.0714 - val_acc: 0.9845\n",
      "Epoch 27/50\n",
      "54000/54000 [==============================] - 12s 218us/step - loss: 0.0376 - acc: 0.9875 - val_loss: 0.0703 - val_acc: 0.9830\n",
      "Epoch 28/50\n",
      "54000/54000 [==============================] - 11s 207us/step - loss: 0.0359 - acc: 0.9886 - val_loss: 0.0696 - val_acc: 0.9850\n",
      "Epoch 29/50\n",
      "54000/54000 [==============================] - 11s 202us/step - loss: 0.0385 - acc: 0.9869 - val_loss: 0.0664 - val_acc: 0.9838\n",
      "Epoch 30/50\n",
      "54000/54000 [==============================] - 11s 201us/step - loss: 0.0352 - acc: 0.9884 - val_loss: 0.0701 - val_acc: 0.9848\n",
      "Epoch 31/50\n",
      "54000/54000 [==============================] - 11s 206us/step - loss: 0.0363 - acc: 0.9882 - val_loss: 0.0673 - val_acc: 0.9850\n",
      "Epoch 32/50\n",
      "54000/54000 [==============================] - 11s 210us/step - loss: 0.0366 - acc: 0.9880 - val_loss: 0.0674 - val_acc: 0.9843\n",
      "Epoch 33/50\n",
      "54000/54000 [==============================] - 12s 214us/step - loss: 0.0346 - acc: 0.9883 - val_loss: 0.0705 - val_acc: 0.9837\n",
      "Epoch 34/50\n",
      "54000/54000 [==============================] - 12s 218us/step - loss: 0.0305 - acc: 0.9901 - val_loss: 0.0710 - val_acc: 0.9838\n",
      "Epoch 35/50\n",
      "54000/54000 [==============================] - 13s 237us/step - loss: 0.0332 - acc: 0.9891 - val_loss: 0.0666 - val_acc: 0.9862\n",
      "Epoch 36/50\n",
      "54000/54000 [==============================] - 11s 203us/step - loss: 0.0311 - acc: 0.9894 - val_loss: 0.0695 - val_acc: 0.9843\n",
      "Epoch 37/50\n",
      "54000/54000 [==============================] - 12s 216us/step - loss: 0.0323 - acc: 0.9894 - val_loss: 0.0621 - val_acc: 0.9862\n",
      "Epoch 38/50\n",
      "54000/54000 [==============================] - 11s 201us/step - loss: 0.0301 - acc: 0.9903 - val_loss: 0.0673 - val_acc: 0.9850\n",
      "Epoch 39/50\n",
      "54000/54000 [==============================] - 11s 208us/step - loss: 0.0291 - acc: 0.9903 - val_loss: 0.0688 - val_acc: 0.9848\n",
      "Epoch 40/50\n",
      "54000/54000 [==============================] - 11s 204us/step - loss: 0.0294 - acc: 0.9903 - val_loss: 0.0677 - val_acc: 0.9845\n",
      "Epoch 41/50\n",
      "54000/54000 [==============================] - 12s 225us/step - loss: 0.0289 - acc: 0.9904 - val_loss: 0.0689 - val_acc: 0.9858\n",
      "Epoch 42/50\n",
      "54000/54000 [==============================] - 11s 203us/step - loss: 0.0279 - acc: 0.9908 - val_loss: 0.0712 - val_acc: 0.9840\n",
      "Epoch 43/50\n",
      "54000/54000 [==============================] - 11s 200us/step - loss: 0.0243 - acc: 0.9919 - val_loss: 0.0660 - val_acc: 0.9845\n",
      "Epoch 44/50\n",
      "54000/54000 [==============================] - 11s 204us/step - loss: 0.0272 - acc: 0.9914 - val_loss: 0.0719 - val_acc: 0.9838\n",
      "Epoch 45/50\n",
      "54000/54000 [==============================] - 11s 209us/step - loss: 0.0292 - acc: 0.9903 - val_loss: 0.0775 - val_acc: 0.9835\n",
      "Epoch 46/50\n",
      "54000/54000 [==============================] - 11s 201us/step - loss: 0.0273 - acc: 0.9911 - val_loss: 0.0715 - val_acc: 0.9833\n",
      "Epoch 47/50\n",
      "54000/54000 [==============================] - 11s 200us/step - loss: 0.0254 - acc: 0.9916 - val_loss: 0.0684 - val_acc: 0.9852\n",
      "Epoch 48/50\n",
      "54000/54000 [==============================] - 12s 228us/step - loss: 0.0259 - acc: 0.9912 - val_loss: 0.0693 - val_acc: 0.9850\n",
      "Epoch 49/50\n",
      "54000/54000 [==============================] - 11s 202us/step - loss: 0.0243 - acc: 0.9922 - val_loss: 0.0718 - val_acc: 0.9837\n",
      "Epoch 50/50\n",
      "54000/54000 [==============================] - 11s 201us/step - loss: 0.0254 - acc: 0.9914 - val_loss: 0.0711 - val_acc: 0.9833\n"
     ]
    }
   ],
   "source": [
    "history = model.fit(X_train, y_train, batch_size = 128, epochs = 50, verbose = 1,\n",
    "          validation_split = 0.1, callbacks=[modelCheckpoint, earlyStopping])# tensorboard])"
   ]
  },
  {
   "cell_type": "markdown",
   "metadata": {},
   "source": [
    "#### Test Predictions"
   ]
  },
  {
   "cell_type": "code",
   "execution_count": 12,
   "metadata": {},
   "outputs": [
    {
     "data": {
      "text/plain": [
       "0.060586610261717515"
      ]
     },
     "execution_count": 12,
     "metadata": {},
     "output_type": "execute_result"
    }
   ],
   "source": [
    "saved_model = keras.models.load_model('model_output/weights-deepnet-mnist.hdf5')#, custom_objects={'SineReLU': SineReLU})\n",
    "predictions = saved_model.predict_classes(X_test, verbose = 2)\n",
    "np.std(history.history['loss'])"
   ]
  },
  {
   "cell_type": "markdown",
   "metadata": {},
   "source": [
    "#### Test Final Accuracy"
   ]
  },
  {
   "cell_type": "code",
   "execution_count": 15,
   "metadata": {},
   "outputs": [
    {
     "name": "stdout",
     "output_type": "stream",
     "text": [
      "10000/10000 [==============================] - 1s 111us/step\n",
      "Final loss: 0.0658, final accuracy: 0.9850\n"
     ]
    }
   ],
   "source": [
    "final_loss, final_acc = model.evaluate(X_test, y_test, verbose = 1)\n",
    "print(\"Final loss: {0:.4f}, final accuracy: {1:.4f}\".format(final_loss, final_acc))"
   ]
  },
  {
   "cell_type": "code",
   "execution_count": 14,
   "metadata": {},
   "outputs": [],
   "source": [
    "#Final loss: 0.0765, final accuracy: 0.9833 -> SineReLU (0.0083); STD loss => 0.05375531819714868\n",
    "#Final loss: 0.0745, final accuracy: 0.9827 -> SineReLU (0.0080); STD loss => 0.05386899405890265\n",
    "#Final loss: 0.0859, final accuracy: 0.9819 -> SineReLU (0.0085); STD loss => 0.053545432633176175\n",
    "#Final loss: 0.0729, final accuracy: 0.9819 -> ReLU; STD loss => 0.057364919558005455\n",
    "#Final loss: 0.0761, final accuracy: 0.9823 -> ReLU; STD loss => 0.057064730691239844\n",
    "#Final loss: 0.0823, final accuracy: 0.9829 -> ReLU; STD loss => 0.05736969016884351"
   ]
  },
  {
   "cell_type": "code",
   "execution_count": null,
   "metadata": {},
   "outputs": [],
   "source": []
  }
 ],
 "metadata": {
  "kernelspec": {
   "display_name": "Python 3",
   "language": "python",
   "name": "python3"
  },
  "language_info": {
   "codemirror_mode": {
    "name": "ipython",
    "version": 3
   },
   "file_extension": ".py",
   "mimetype": "text/x-python",
   "name": "python",
   "nbconvert_exporter": "python",
   "pygments_lexer": "ipython3",
   "version": "3.6.3"
  }
 },
 "nbformat": 4,
 "nbformat_minor": 2
}
