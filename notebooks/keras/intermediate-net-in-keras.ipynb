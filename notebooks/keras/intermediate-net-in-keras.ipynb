{
 "cells": [
  {
   "cell_type": "markdown",
   "metadata": {},
   "source": [
    "# Intermediate Neural Network in Keras"
   ]
  },
  {
   "cell_type": "markdown",
   "metadata": {},
   "source": [
    "Bulding an Intermediate Neural Network to classify MNIST digits."
   ]
  },
  {
   "cell_type": "markdown",
   "metadata": {},
   "source": [
    "#### Set seed for reproducibility"
   ]
  },
  {
   "cell_type": "code",
   "execution_count": 1,
   "metadata": {},
   "outputs": [],
   "source": [
    "import numpy as np\n",
    "np.random.seed(42)"
   ]
  },
  {
   "cell_type": "markdown",
   "metadata": {},
   "source": [
    "#### Load dependencies"
   ]
  },
  {
   "cell_type": "code",
   "execution_count": 2,
   "metadata": {},
   "outputs": [
    {
     "name": "stderr",
     "output_type": "stream",
     "text": [
      "Using TensorFlow backend.\n",
      "/opt/conda/lib/python3.6/importlib/_bootstrap.py:219: RuntimeWarning: compiletime version 3.5 of module 'tensorflow.python.framework.fast_tensor_util' does not match runtime version 3.6\n",
      "  return f(*args, **kwds)\n"
     ]
    }
   ],
   "source": [
    "import os\n",
    "import keras\n",
    "from keras.datasets import mnist\n",
    "from keras.models import Sequential\n",
    "from keras.layers import Activation, Dense, Dropout, LeakyReLU\n",
    "from keras.callbacks import TensorBoard, ModelCheckpoint, EarlyStopping"
   ]
  },
  {
   "cell_type": "markdown",
   "metadata": {},
   "source": [
    "#### Load data"
   ]
  },
  {
   "cell_type": "code",
   "execution_count": 3,
   "metadata": {},
   "outputs": [],
   "source": [
    "(X_train, y_train), (X_test, y_test) = mnist.load_data()"
   ]
  },
  {
   "cell_type": "markdown",
   "metadata": {},
   "source": [
    "#### Preprocess data\n",
    "Flatten and normalise input data."
   ]
  },
  {
   "cell_type": "code",
   "execution_count": 4,
   "metadata": {},
   "outputs": [],
   "source": [
    "X_train = X_train.reshape(60000, 784).astype('float32')\n",
    "X_test = X_test.reshape(10000, 784).astype('float32')"
   ]
  },
  {
   "cell_type": "code",
   "execution_count": 5,
   "metadata": {},
   "outputs": [],
   "source": [
    "X_train /= 255\n",
    "X_test /= 255"
   ]
  },
  {
   "cell_type": "code",
   "execution_count": 6,
   "metadata": {},
   "outputs": [],
   "source": [
    "# One-hot encoded categories\n",
    "n_classes = 10\n",
    "y_train = keras.utils.to_categorical(y_train, n_classes)\n",
    "y_test = keras.utils.to_categorical(y_test, n_classes)"
   ]
  },
  {
   "cell_type": "markdown",
   "metadata": {},
   "source": [
    "#### ReLUs"
   ]
  },
  {
   "cell_type": "code",
   "execution_count": 7,
   "metadata": {},
   "outputs": [],
   "source": [
    "from keras import backend as K\n",
    "from keras.utils.generic_utils import get_custom_objects\n",
    "\n",
    "class ReLUs(Activation):\n",
    "    \n",
    "    def __init__(self, activation, **kwargs):\n",
    "        super(ReLUs, self).__init__(activation, **kwargs)\n",
    "        self.__name__ = 'relus'\n",
    "\n",
    "def relus(Z):\n",
    "    e_param = 0.001 #the best so far -> 0.0085\n",
    "    pi = K.variable((3.14))\n",
    "    m = e_param * (K.sigmoid(K.sin(Z)) - K.sigmoid(K.cos(Z)) * K.exp(K.sqrt(pi)))\n",
    "    A = K.maximum(m, Z)\n",
    "    return A\n",
    "\n",
    "get_custom_objects().update({'relus': ReLUs(relus)})"
   ]
  },
  {
   "cell_type": "markdown",
   "metadata": {},
   "source": [
    "#### Design Neural Network architecture"
   ]
  },
  {
   "cell_type": "code",
   "execution_count": 8,
   "metadata": {},
   "outputs": [],
   "source": [
    "model = Sequential()\n",
    "model.add(Dense(128, activation = 'linear', kernel_initializer='glorot_uniform', input_shape = (784,)))\n",
    "model.add(LeakyReLU(alpha=0.0085))\n",
    "model.add(Dropout(0.2))\n",
    "model.add(Dense(256, activation = 'linear', kernel_initializer='glorot_uniform'))\n",
    "model.add(LeakyReLU(alpha=0.0085))\n",
    "model.add(Dropout(0.3))\n",
    "model.add(Dense(1024, activation = 'linear', kernel_initializer='glorot_uniform'))\n",
    "model.add(LeakyReLU(alpha=0.0085))\n",
    "model.add(Dropout(0.5))\n",
    "model.add(Dense(10, activation = 'softmax'))"
   ]
  },
  {
   "cell_type": "code",
   "execution_count": 9,
   "metadata": {},
   "outputs": [
    {
     "name": "stdout",
     "output_type": "stream",
     "text": [
      "_________________________________________________________________\n",
      "Layer (type)                 Output Shape              Param #   \n",
      "=================================================================\n",
      "dense_1 (Dense)              (None, 128)               100480    \n",
      "_________________________________________________________________\n",
      "leaky_re_lu_1 (LeakyReLU)    (None, 128)               0         \n",
      "_________________________________________________________________\n",
      "dropout_1 (Dropout)          (None, 128)               0         \n",
      "_________________________________________________________________\n",
      "dense_2 (Dense)              (None, 256)               33024     \n",
      "_________________________________________________________________\n",
      "leaky_re_lu_2 (LeakyReLU)    (None, 256)               0         \n",
      "_________________________________________________________________\n",
      "dropout_2 (Dropout)          (None, 256)               0         \n",
      "_________________________________________________________________\n",
      "dense_3 (Dense)              (None, 1024)              263168    \n",
      "_________________________________________________________________\n",
      "leaky_re_lu_3 (LeakyReLU)    (None, 1024)              0         \n",
      "_________________________________________________________________\n",
      "dropout_3 (Dropout)          (None, 1024)              0         \n",
      "_________________________________________________________________\n",
      "dense_4 (Dense)              (None, 10)                10250     \n",
      "=================================================================\n",
      "Total params: 406,922\n",
      "Trainable params: 406,922\n",
      "Non-trainable params: 0\n",
      "_________________________________________________________________\n"
     ]
    }
   ],
   "source": [
    "model.summary()"
   ]
  },
  {
   "cell_type": "markdown",
   "metadata": {},
   "source": [
    "#### Callbacks"
   ]
  },
  {
   "cell_type": "code",
   "execution_count": 10,
   "metadata": {},
   "outputs": [],
   "source": [
    "modelCheckpoint = ModelCheckpoint(monitor='val_acc', filepath='model_output/weights-deepnet-mnist.hdf5',\n",
    "                                               save_best_only=True, mode='max')\n",
    "earlyStopping = EarlyStopping(monitor='val_acc', mode='max', patience=20)\n",
    "\n",
    "\n",
    "if not os.path.exists('model_output'):\n",
    "    os.makedirs('model_output')\n",
    "    \n",
    "tensorboard = TensorBoard(\"../logs/deepnet-mnist-leaky-relu-II\")"
   ]
  },
  {
   "cell_type": "markdown",
   "metadata": {},
   "source": [
    "#### Configure model"
   ]
  },
  {
   "cell_type": "code",
   "execution_count": 11,
   "metadata": {},
   "outputs": [],
   "source": [
    "model.compile(loss = 'categorical_crossentropy', optimizer = 'adam', metrics = ['accuracy'])"
   ]
  },
  {
   "cell_type": "markdown",
   "metadata": {},
   "source": [
    "#### Train!"
   ]
  },
  {
   "cell_type": "code",
   "execution_count": 12,
   "metadata": {},
   "outputs": [
    {
     "name": "stdout",
     "output_type": "stream",
     "text": [
      "Train on 54000 samples, validate on 6000 samples\n",
      "Epoch 1/50\n",
      "54000/54000 [==============================] - 6s 110us/step - loss: 0.3950 - acc: 0.8771 - val_loss: 0.1162 - val_acc: 0.9652\n",
      "Epoch 2/50\n",
      "54000/54000 [==============================] - 6s 102us/step - loss: 0.1767 - acc: 0.9471 - val_loss: 0.0972 - val_acc: 0.9708\n",
      "Epoch 3/50\n",
      "54000/54000 [==============================] - 5s 101us/step - loss: 0.1358 - acc: 0.9588 - val_loss: 0.0823 - val_acc: 0.9745\n",
      "Epoch 4/50\n",
      "54000/54000 [==============================] - 6s 109us/step - loss: 0.1142 - acc: 0.9652 - val_loss: 0.0817 - val_acc: 0.9757\n",
      "Epoch 5/50\n",
      "54000/54000 [==============================] - 5s 90us/step - loss: 0.0992 - acc: 0.9702 - val_loss: 0.0773 - val_acc: 0.9760\n",
      "Epoch 6/50\n",
      "54000/54000 [==============================] - 5s 91us/step - loss: 0.0876 - acc: 0.9731 - val_loss: 0.0722 - val_acc: 0.9793\n",
      "Epoch 7/50\n",
      "54000/54000 [==============================] - 5s 93us/step - loss: 0.0815 - acc: 0.9743 - val_loss: 0.0594 - val_acc: 0.9825\n",
      "Epoch 8/50\n",
      "54000/54000 [==============================] - 5s 101us/step - loss: 0.0744 - acc: 0.9767 - val_loss: 0.0684 - val_acc: 0.9790\n",
      "Epoch 9/50\n",
      "54000/54000 [==============================] - 5s 101us/step - loss: 0.0717 - acc: 0.9776 - val_loss: 0.0609 - val_acc: 0.9818\n",
      "Epoch 10/50\n",
      "54000/54000 [==============================] - 6s 107us/step - loss: 0.0683 - acc: 0.9784 - val_loss: 0.0645 - val_acc: 0.9815\n",
      "Epoch 11/50\n",
      "54000/54000 [==============================] - 6s 107us/step - loss: 0.0617 - acc: 0.9802 - val_loss: 0.0689 - val_acc: 0.9790\n",
      "Epoch 12/50\n",
      "54000/54000 [==============================] - 5s 94us/step - loss: 0.0617 - acc: 0.9802 - val_loss: 0.0615 - val_acc: 0.9810\n",
      "Epoch 13/50\n",
      "54000/54000 [==============================] - 5s 90us/step - loss: 0.0554 - acc: 0.9831 - val_loss: 0.0702 - val_acc: 0.9822\n",
      "Epoch 14/50\n",
      "54000/54000 [==============================] - 5s 91us/step - loss: 0.0542 - acc: 0.9827 - val_loss: 0.0613 - val_acc: 0.9823\n",
      "Epoch 15/50\n",
      "54000/54000 [==============================] - 5s 99us/step - loss: 0.0509 - acc: 0.9840 - val_loss: 0.0671 - val_acc: 0.9803\n",
      "Epoch 16/50\n",
      "54000/54000 [==============================] - 5s 93us/step - loss: 0.0460 - acc: 0.9855 - val_loss: 0.0692 - val_acc: 0.9827\n",
      "Epoch 17/50\n",
      "54000/54000 [==============================] - 5s 91us/step - loss: 0.0490 - acc: 0.9845 - val_loss: 0.0739 - val_acc: 0.9800\n",
      "Epoch 18/50\n",
      "54000/54000 [==============================] - 5s 90us/step - loss: 0.0484 - acc: 0.9852 - val_loss: 0.0652 - val_acc: 0.9833\n",
      "Epoch 19/50\n",
      "54000/54000 [==============================] - 5s 91us/step - loss: 0.0435 - acc: 0.9866 - val_loss: 0.0733 - val_acc: 0.9807\n",
      "Epoch 20/50\n",
      "54000/54000 [==============================] - 5s 91us/step - loss: 0.0429 - acc: 0.9863 - val_loss: 0.0692 - val_acc: 0.9828\n",
      "Epoch 21/50\n",
      "54000/54000 [==============================] - 5s 93us/step - loss: 0.0422 - acc: 0.9861 - val_loss: 0.0721 - val_acc: 0.9810\n",
      "Epoch 22/50\n",
      "54000/54000 [==============================] - 6s 110us/step - loss: 0.0432 - acc: 0.9857 - val_loss: 0.0702 - val_acc: 0.9827\n",
      "Epoch 23/50\n",
      "54000/54000 [==============================] - 6s 108us/step - loss: 0.0386 - acc: 0.9878 - val_loss: 0.0746 - val_acc: 0.9818\n",
      "Epoch 24/50\n",
      "54000/54000 [==============================] - 5s 91us/step - loss: 0.0397 - acc: 0.9874 - val_loss: 0.0717 - val_acc: 0.9817\n",
      "Epoch 25/50\n",
      "54000/54000 [==============================] - 5s 92us/step - loss: 0.0375 - acc: 0.9886 - val_loss: 0.0688 - val_acc: 0.9822\n",
      "Epoch 26/50\n",
      "54000/54000 [==============================] - 5s 94us/step - loss: 0.0389 - acc: 0.9876 - val_loss: 0.0765 - val_acc: 0.9807\n",
      "Epoch 27/50\n",
      "54000/54000 [==============================] - 5s 97us/step - loss: 0.0364 - acc: 0.9884 - val_loss: 0.0713 - val_acc: 0.9817\n",
      "Epoch 28/50\n",
      "54000/54000 [==============================] - 5s 97us/step - loss: 0.0375 - acc: 0.9881 - val_loss: 0.0760 - val_acc: 0.9793\n",
      "Epoch 29/50\n",
      "54000/54000 [==============================] - 5s 96us/step - loss: 0.0351 - acc: 0.9893 - val_loss: 0.0754 - val_acc: 0.9807\n",
      "Epoch 30/50\n",
      "54000/54000 [==============================] - 5s 92us/step - loss: 0.0326 - acc: 0.9901 - val_loss: 0.0735 - val_acc: 0.9827\n",
      "Epoch 31/50\n",
      "54000/54000 [==============================] - 6s 104us/step - loss: 0.0360 - acc: 0.9889 - val_loss: 0.0733 - val_acc: 0.9803\n",
      "Epoch 32/50\n",
      "54000/54000 [==============================] - 7s 130us/step - loss: 0.0326 - acc: 0.9893 - val_loss: 0.0781 - val_acc: 0.9810\n",
      "Epoch 33/50\n",
      "54000/54000 [==============================] - 6s 105us/step - loss: 0.0329 - acc: 0.9897 - val_loss: 0.0693 - val_acc: 0.9827\n",
      "Epoch 34/50\n",
      "54000/54000 [==============================] - 5s 96us/step - loss: 0.0325 - acc: 0.9894 - val_loss: 0.0743 - val_acc: 0.9812\n",
      "Epoch 35/50\n",
      "54000/54000 [==============================] - 5s 99us/step - loss: 0.0323 - acc: 0.9902 - val_loss: 0.0781 - val_acc: 0.9817\n",
      "Epoch 36/50\n",
      "54000/54000 [==============================] - 5s 91us/step - loss: 0.0330 - acc: 0.9902 - val_loss: 0.0778 - val_acc: 0.9820\n",
      "Epoch 37/50\n",
      "54000/54000 [==============================] - 5s 90us/step - loss: 0.0291 - acc: 0.9908 - val_loss: 0.0777 - val_acc: 0.9817\n",
      "Epoch 38/50\n",
      "54000/54000 [==============================] - 5s 89us/step - loss: 0.0320 - acc: 0.9896 - val_loss: 0.0698 - val_acc: 0.9830\n"
     ]
    },
    {
     "data": {
      "text/plain": [
       "<keras.callbacks.History at 0x7ff6c4df1c18>"
      ]
     },
     "execution_count": 12,
     "metadata": {},
     "output_type": "execute_result"
    }
   ],
   "source": [
    "model.fit(X_train, y_train, batch_size = 128, epochs = 50, verbose = 1,\n",
    "          validation_split = 0.1, callbacks=[modelCheckpoint, earlyStopping, tensorboard])"
   ]
  },
  {
   "cell_type": "markdown",
   "metadata": {},
   "source": [
    "#### Test Predictions"
   ]
  },
  {
   "cell_type": "code",
   "execution_count": 13,
   "metadata": {},
   "outputs": [
    {
     "name": "stdout",
     "output_type": "stream",
     "text": [
      "[7 2 1 ..., 4 5 6]\n"
     ]
    }
   ],
   "source": [
    "saved_model = keras.models.load_model('model_output/weights-deepnet-mnist.hdf5')\n",
    "predictions = saved_model.predict_classes(X_test, verbose = 2)\n",
    "print(predictions)"
   ]
  },
  {
   "cell_type": "markdown",
   "metadata": {},
   "source": [
    "#### Test Final Accuracy"
   ]
  },
  {
   "cell_type": "code",
   "execution_count": 16,
   "metadata": {},
   "outputs": [
    {
     "name": "stdout",
     "output_type": "stream",
     "text": [
      "10000/10000 [==============================] - 1s 68us/step\n",
      "Final loss: 0.0682, final accuracy: 0.9833\n"
     ]
    }
   ],
   "source": [
    "final_loss, final_acc = saved_model.evaluate(X_test, y_test, verbose = 1)\n",
    "print(\"Final loss: {0:.4f}, final accuracy: {1:.4f}\".format(final_loss, final_acc))"
   ]
  },
  {
   "cell_type": "code",
   "execution_count": 15,
   "metadata": {},
   "outputs": [],
   "source": [
    "#Final loss: 0.0632, final accuracy: 0.9837 -> relus (0.0085)\n",
    "#Final loss: 0.0749, final accuracy: 0.9835 -> relu"
   ]
  }
 ],
 "metadata": {
  "kernelspec": {
   "display_name": "Python 3",
   "language": "python",
   "name": "python3"
  },
  "language_info": {
   "codemirror_mode": {
    "name": "ipython",
    "version": 3
   },
   "file_extension": ".py",
   "mimetype": "text/x-python",
   "name": "python",
   "nbconvert_exporter": "python",
   "pygments_lexer": "ipython3",
   "version": "3.6.3"
  }
 },
 "nbformat": 4,
 "nbformat_minor": 2
}
