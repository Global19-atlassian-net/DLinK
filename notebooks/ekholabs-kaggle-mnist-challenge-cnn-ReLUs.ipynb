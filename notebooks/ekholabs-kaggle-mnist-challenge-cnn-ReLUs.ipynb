{
 "cells": [
  {
   "cell_type": "markdown",
   "metadata": {},
   "source": [
    "# Deep Convolutional Neural Network in Keras with ReLUs"
   ]
  },
  {
   "cell_type": "markdown",
   "metadata": {},
   "source": [
    "Bulding a Deep Convolutional Neural Network to classify MNIST digits."
   ]
  },
  {
   "cell_type": "markdown",
   "metadata": {},
   "source": [
    "#### Set seed for reproducibility"
   ]
  },
  {
   "cell_type": "code",
   "execution_count": 1,
   "metadata": {},
   "outputs": [],
   "source": [
    "import numpy as np\n",
    "np.random.seed(42)"
   ]
  },
  {
   "cell_type": "markdown",
   "metadata": {},
   "source": [
    "#### Load dependencies"
   ]
  },
  {
   "cell_type": "code",
   "execution_count": 2,
   "metadata": {},
   "outputs": [
    {
     "name": "stderr",
     "output_type": "stream",
     "text": [
      "Using TensorFlow backend.\n"
     ]
    }
   ],
   "source": [
    "import keras\n",
    "from keras.datasets import mnist\n",
    "from keras.models import Sequential\n",
    "from keras.layers import Dense, Dropout\n",
    "from keras.layers import Flatten, MaxPooling2D, Conv2D, Activation\n",
    "from keras.layers.normalization import BatchNormalization\n",
    "from keras.preprocessing.image import ImageDataGenerator\n",
    "from keras.callbacks import TensorBoard, LearningRateScheduler\n",
    "\n",
    "from sklearn.model_selection import train_test_split\n",
    "\n",
    "import pandas as pd\n",
    "\n",
    "import matplotlib.pyplot as plt\n",
    "%matplotlib inline"
   ]
  },
  {
   "cell_type": "markdown",
   "metadata": {},
   "source": [
    "#### Load data"
   ]
  },
  {
   "cell_type": "code",
   "execution_count": 3,
   "metadata": {},
   "outputs": [],
   "source": [
    "n_classes = 10\n",
    "\n",
    "raw_data = np.loadtxt('kaggle/datasets/train.csv', skiprows=1, dtype='int', delimiter=',')\n",
    "X_train, X_val, y_train, y_val = train_test_split(\n",
    "    raw_data[:,1:], raw_data[:,0], test_size = 0.1)\n",
    "\n",
    "X_train = X_train.reshape(-1, 28, 28, 1)\n",
    "X_val = X_val.reshape(-1, 28, 28, 1)\n",
    "\n",
    "X_train = X_train.astype(\"float32\")/255.\n",
    "X_val = X_val.astype(\"float32\")/255.\n",
    "\n",
    "y_train = keras.utils.to_categorical(y_train, n_classes)\n",
    "y_val = keras.utils.to_categorical(y_val, n_classes)\n"
   ]
  },
  {
   "cell_type": "markdown",
   "metadata": {},
   "source": [
    "#### Define Custom Activation Function"
   ]
  },
  {
   "cell_type": "code",
   "execution_count": 4,
   "metadata": {},
   "outputs": [],
   "source": [
    "from keras import backend as K\n",
    "from keras.utils.generic_utils import get_custom_objects\n",
    "\n",
    "def relus(Z):\n",
    "    e_param = 3.8\n",
    "    pi = K.variable((3.14))\n",
    "    m = e_param + (K.sigmoid(K.sin(Z)) - K.sigmoid(K.cos(Z)) * K.exp(K.sqrt(pi)))\n",
    "    A = K.maximum(m, Z)\n",
    "    return A\n",
    "\n",
    "get_custom_objects().update({'ReLU_s': Activation(relus)})"
   ]
  },
  {
   "cell_type": "markdown",
   "metadata": {},
   "source": [
    "#### Design Neural Network architecture"
   ]
  },
  {
   "cell_type": "code",
   "execution_count": 5,
   "metadata": {},
   "outputs": [],
   "source": [
    "model = Sequential()\n",
    "\n",
    "model.add(Conv2D(20, 4, padding = 'same', activation ='ReLU_s', input_shape = (28, 28, 1)))\n",
    "model.add(Conv2D(20, 4, padding = 'same', activation ='ReLU_s'))\n",
    "model.add(MaxPooling2D(pool_size = (2, 2)))\n",
    "model.add(Dropout(0.25))\n",
    "\n",
    "model.add(Conv2D(28, 7, padding = 'same', activation ='ReLU_s'))\n",
    "model.add(Conv2D(28, 7, padding = 'same', activation ='ReLU_s'))\n",
    "model.add(MaxPooling2D(pool_size = (2, 2)))\n",
    "model.add(Dropout(0.25))\n",
    "\n",
    "model.add(Conv2D(32, 2, padding = 'same', activation ='ReLU_s'))\n",
    "model.add(Conv2D(32, 2, padding = 'same', activation ='ReLU_s'))\n",
    "model.add(Conv2D(38, 2, activation ='ReLU_s'))\n",
    "model.add(MaxPooling2D(pool_size = (2, 2)))\n",
    "model.add(Dropout(0.25))\n",
    "\n",
    "model.add(Flatten())\n",
    "model.add(Dense(1024, activation = \"ReLU_s\"))\n",
    "model.add(Dropout(0.25))\n",
    "model.add(Dense(10, activation = \"softmax\"))"
   ]
  },
  {
   "cell_type": "code",
   "execution_count": 6,
   "metadata": {},
   "outputs": [
    {
     "name": "stdout",
     "output_type": "stream",
     "text": [
      "_________________________________________________________________\n",
      "Layer (type)                 Output Shape              Param #   \n",
      "=================================================================\n",
      "conv2d_1 (Conv2D)            (None, 28, 28, 20)        340       \n",
      "_________________________________________________________________\n",
      "conv2d_2 (Conv2D)            (None, 28, 28, 20)        6420      \n",
      "_________________________________________________________________\n",
      "max_pooling2d_1 (MaxPooling2 (None, 14, 14, 20)        0         \n",
      "_________________________________________________________________\n",
      "dropout_1 (Dropout)          (None, 14, 14, 20)        0         \n",
      "_________________________________________________________________\n",
      "conv2d_3 (Conv2D)            (None, 14, 14, 28)        27468     \n",
      "_________________________________________________________________\n",
      "conv2d_4 (Conv2D)            (None, 14, 14, 28)        38444     \n",
      "_________________________________________________________________\n",
      "max_pooling2d_2 (MaxPooling2 (None, 7, 7, 28)          0         \n",
      "_________________________________________________________________\n",
      "dropout_2 (Dropout)          (None, 7, 7, 28)          0         \n",
      "_________________________________________________________________\n",
      "conv2d_5 (Conv2D)            (None, 7, 7, 32)          3616      \n",
      "_________________________________________________________________\n",
      "conv2d_6 (Conv2D)            (None, 7, 7, 32)          4128      \n",
      "_________________________________________________________________\n",
      "conv2d_7 (Conv2D)            (None, 6, 6, 38)          4902      \n",
      "_________________________________________________________________\n",
      "max_pooling2d_3 (MaxPooling2 (None, 3, 3, 38)          0         \n",
      "_________________________________________________________________\n",
      "dropout_3 (Dropout)          (None, 3, 3, 38)          0         \n",
      "_________________________________________________________________\n",
      "flatten_1 (Flatten)          (None, 342)               0         \n",
      "_________________________________________________________________\n",
      "dense_1 (Dense)              (None, 1024)              351232    \n",
      "_________________________________________________________________\n",
      "dropout_4 (Dropout)          (None, 1024)              0         \n",
      "_________________________________________________________________\n",
      "dense_2 (Dense)              (None, 10)                10250     \n",
      "=================================================================\n",
      "Total params: 446,800\n",
      "Trainable params: 446,800\n",
      "Non-trainable params: 0\n",
      "_________________________________________________________________\n"
     ]
    }
   ],
   "source": [
    "model.summary()"
   ]
  },
  {
   "cell_type": "markdown",
   "metadata": {},
   "source": [
    "#### Data Augmentation"
   ]
  },
  {
   "cell_type": "code",
   "execution_count": 7,
   "metadata": {},
   "outputs": [],
   "source": [
    "train_datagen = ImageDataGenerator(zoom_range = 0.1,\n",
    "                            height_shift_range = 0.1,\n",
    "                            width_shift_range = 0.1,\n",
    "                            rotation_range = 10)\n",
    "\n",
    "test_datagen = ImageDataGenerator(zoom_range = 0.1,\n",
    "                            height_shift_range = 0.1,\n",
    "                            width_shift_range = 0.1,\n",
    "                            rotation_range = 10)\n",
    "\n",
    "train_generator = train_datagen.flow(X_train, y_train, batch_size = 32)\n",
    "\n",
    "validation_generator = test_datagen.flow(X_val, y_val, batch_size = 32)"
   ]
  },
  {
   "cell_type": "markdown",
   "metadata": {},
   "source": [
    "#### Learning Rate Scheduler"
   ]
  },
  {
   "cell_type": "code",
   "execution_count": 8,
   "metadata": {},
   "outputs": [],
   "source": [
    "annealer = LearningRateScheduler(lambda x: 1e-3 * 0.9 ** x)"
   ]
  },
  {
   "cell_type": "markdown",
   "metadata": {},
   "source": [
    "#### Configure model"
   ]
  },
  {
   "cell_type": "code",
   "execution_count": 9,
   "metadata": {},
   "outputs": [],
   "source": [
    "model.compile(loss = 'categorical_crossentropy', optimizer = 'adam', metrics = ['accuracy'])"
   ]
  },
  {
   "cell_type": "markdown",
   "metadata": {},
   "source": [
    "#### TensorBoard"
   ]
  },
  {
   "cell_type": "code",
   "execution_count": 10,
   "metadata": {},
   "outputs": [],
   "source": [
    "tensorboard = TensorBoard(\"logs/lenet-cnn-mnist-ReLUs-30-epochs-EkhoNet8-data-augmentation\")"
   ]
  },
  {
   "cell_type": "markdown",
   "metadata": {},
   "source": [
    "#### Train!"
   ]
  },
  {
   "cell_type": "code",
   "execution_count": 11,
   "metadata": {},
   "outputs": [
    {
     "name": "stdout",
     "output_type": "stream",
     "text": [
      "Epoch 1/30\n",
      "2000/2000 [==============================] - 308s - loss: 0.2435 - acc: 0.9204 - val_loss: 0.0654 - val_acc: 0.9786\n",
      "Epoch 2/30\n",
      "2000/2000 [==============================] - 300s - loss: 0.0851 - acc: 0.9743 - val_loss: 0.0639 - val_acc: 0.9811\n",
      "Epoch 3/30\n",
      "2000/2000 [==============================] - 301s - loss: 0.0723 - acc: 0.9784 - val_loss: 0.0566 - val_acc: 0.9830\n",
      "Epoch 4/30\n",
      "2000/2000 [==============================] - 294s - loss: 0.0598 - acc: 0.9827 - val_loss: 0.0491 - val_acc: 0.9850\n",
      "Epoch 5/30\n",
      "2000/2000 [==============================] - 314s - loss: 0.0534 - acc: 0.9840 - val_loss: 0.0418 - val_acc: 0.9859\n",
      "Epoch 6/30\n",
      "2000/2000 [==============================] - 301s - loss: 0.0472 - acc: 0.9852 - val_loss: 0.0460 - val_acc: 0.9864\n",
      "Epoch 7/30\n",
      "2000/2000 [==============================] - 302s - loss: 0.0414 - acc: 0.9878 - val_loss: 0.0342 - val_acc: 0.9905\n",
      "Epoch 8/30\n",
      "2000/2000 [==============================] - 295s - loss: 0.0395 - acc: 0.9880 - val_loss: 0.0322 - val_acc: 0.9899\n",
      "Epoch 9/30\n",
      "2000/2000 [==============================] - 293s - loss: 0.0343 - acc: 0.9895 - val_loss: 0.0341 - val_acc: 0.9901\n",
      "Epoch 10/30\n",
      "2000/2000 [==============================] - 293s - loss: 0.0340 - acc: 0.9894 - val_loss: 0.0318 - val_acc: 0.9911\n",
      "Epoch 11/30\n",
      "2000/2000 [==============================] - 292s - loss: 0.0286 - acc: 0.9913 - val_loss: 0.0333 - val_acc: 0.9904\n",
      "Epoch 12/30\n",
      "2000/2000 [==============================] - 294s - loss: 0.0264 - acc: 0.9918 - val_loss: 0.0267 - val_acc: 0.9921\n",
      "Epoch 13/30\n",
      "2000/2000 [==============================] - 293s - loss: 0.0258 - acc: 0.9918 - val_loss: 0.0291 - val_acc: 0.9914\n",
      "Epoch 14/30\n",
      "2000/2000 [==============================] - 293s - loss: 0.0228 - acc: 0.9928 - val_loss: 0.0308 - val_acc: 0.9908\n",
      "Epoch 15/30\n",
      "2000/2000 [==============================] - 293s - loss: 0.0211 - acc: 0.9936 - val_loss: 0.0273 - val_acc: 0.9925\n",
      "Epoch 16/30\n",
      "2000/2000 [==============================] - 293s - loss: 0.0219 - acc: 0.9928 - val_loss: 0.0290 - val_acc: 0.9917\n",
      "Epoch 17/30\n",
      "2000/2000 [==============================] - 293s - loss: 0.0195 - acc: 0.9940 - val_loss: 0.0299 - val_acc: 0.9918\n",
      "Epoch 18/30\n",
      "2000/2000 [==============================] - 293s - loss: 0.0181 - acc: 0.9940 - val_loss: 0.0281 - val_acc: 0.9925\n",
      "Epoch 19/30\n",
      "2000/2000 [==============================] - 293s - loss: 0.0179 - acc: 0.9944 - val_loss: 0.0263 - val_acc: 0.9922\n",
      "Epoch 20/30\n",
      "2000/2000 [==============================] - 293s - loss: 0.0167 - acc: 0.9950 - val_loss: 0.0209 - val_acc: 0.9940\n",
      "Epoch 21/30\n",
      "2000/2000 [==============================] - 293s - loss: 0.0152 - acc: 0.9952 - val_loss: 0.0279 - val_acc: 0.9928\n",
      "Epoch 22/30\n",
      "2000/2000 [==============================] - 312s - loss: 0.0155 - acc: 0.9951 - val_loss: 0.0230 - val_acc: 0.9930\n",
      "Epoch 23/30\n",
      "2000/2000 [==============================] - 310s - loss: 0.0155 - acc: 0.9950 - val_loss: 0.0243 - val_acc: 0.9925\n",
      "Epoch 24/30\n",
      "2000/2000 [==============================] - 305s - loss: 0.0149 - acc: 0.9954 - val_loss: 0.0282 - val_acc: 0.9935\n",
      "Epoch 25/30\n",
      "2000/2000 [==============================] - 295s - loss: 0.0140 - acc: 0.9957 - val_loss: 0.0274 - val_acc: 0.9923\n",
      "Epoch 26/30\n",
      "2000/2000 [==============================] - 302s - loss: 0.0140 - acc: 0.9955 - val_loss: 0.0215 - val_acc: 0.9938\n",
      "Epoch 27/30\n",
      "2000/2000 [==============================] - 306s - loss: 0.0129 - acc: 0.9962 - val_loss: 0.0272 - val_acc: 0.9927\n",
      "Epoch 28/30\n",
      "2000/2000 [==============================] - 303s - loss: 0.0128 - acc: 0.9960 - val_loss: 0.0259 - val_acc: 0.9926\n",
      "Epoch 29/30\n",
      "2000/2000 [==============================] - 315s - loss: 0.0119 - acc: 0.9962 - val_loss: 0.0206 - val_acc: 0.9944\n",
      "Epoch 30/30\n",
      "2000/2000 [==============================] - 321s - loss: 0.0125 - acc: 0.9960 - val_loss: 0.0262 - val_acc: 0.9930\n"
     ]
    }
   ],
   "source": [
    "hist = model.fit_generator(train_generator,\n",
    "                           steps_per_epoch = 2000,\n",
    "                           epochs = 30,\n",
    "                           verbose = 1,\n",
    "                           validation_data = validation_generator,\n",
    "                           validation_steps = 500,\n",
    "                           callbacks = [annealer, tensorboard])\n",
    "\n",
    "# hist = model.fit(X_train, y_train, batch_size = 32,\n",
    "#                            epochs = 40,\n",
    "#                            verbose = 1,\n",
    "#                            validation_split = 0.1,\n",
    "#                            callbacks=[annealer, tensorboard])"
   ]
  },
  {
   "cell_type": "markdown",
   "metadata": {},
   "source": [
    "#### Test Final Accuracy"
   ]
  },
  {
   "cell_type": "code",
   "execution_count": 12,
   "metadata": {},
   "outputs": [
    {
     "name": "stdout",
     "output_type": "stream",
     "text": [
      "4192/4200 [============================>.] - ETA: 0sFinal loss: 0.0160, final accuracy: 0.9960\n"
     ]
    }
   ],
   "source": [
    "final_loss, final_acc = model.evaluate(X_val, y_val, verbose = 1)\n",
    "print(\"Final loss: {0:.4f}, final accuracy: {1:.4f}\".format(final_loss, final_acc))"
   ]
  },
  {
   "cell_type": "markdown",
   "metadata": {},
   "source": [
    "#### Save Submission"
   ]
  },
  {
   "cell_type": "code",
   "execution_count": 14,
   "metadata": {},
   "outputs": [],
   "source": [
    "X_test = np.loadtxt('kaggle/datasets/test.csv', skiprows=1, dtype='int', delimiter=',')\n",
    "X_test = X_test.reshape(28000, 28, 28, 1).astype('float32') / 255.\n",
    "\n",
    "predictions = model.predict(X_test, verbose = 2)\n",
    "predictions = np.argmax(predictions, axis = 1)\n",
    "\n",
    "pd.DataFrame({\"ImageId\": list(range(1, len(predictions) + 1)), \"Label\": predictions}).to_csv('kaggle/results/cnn/submission-ReLUs-30-epochs-EkhoNet8-data-augmentation.csv', index = False, header = True)"
   ]
  },
  {
   "cell_type": "code",
   "execution_count": null,
   "metadata": {},
   "outputs": [],
   "source": []
  }
 ],
 "metadata": {
  "kernelspec": {
   "display_name": "Python 3",
   "language": "python",
   "name": "python3"
  },
  "language_info": {
   "codemirror_mode": {
    "name": "ipython",
    "version": 3
   },
   "file_extension": ".py",
   "mimetype": "text/x-python",
   "name": "python",
   "nbconvert_exporter": "python",
   "pygments_lexer": "ipython3",
   "version": "3.6.2"
  }
 },
 "nbformat": 4,
 "nbformat_minor": 2
}
