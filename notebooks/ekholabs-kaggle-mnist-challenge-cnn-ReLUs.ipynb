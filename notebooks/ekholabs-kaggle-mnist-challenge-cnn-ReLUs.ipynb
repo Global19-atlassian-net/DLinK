{
 "cells": [
  {
   "cell_type": "markdown",
   "metadata": {},
   "source": [
    "# LeNet-5 in Keras"
   ]
  },
  {
   "cell_type": "markdown",
   "metadata": {},
   "source": [
    "Bulding a Deep Convolutional Neural Network to classify MNIST digits."
   ]
  },
  {
   "cell_type": "markdown",
   "metadata": {},
   "source": [
    "#### Set seed for reproducibility"
   ]
  },
  {
   "cell_type": "code",
   "execution_count": 1,
   "metadata": {},
   "outputs": [],
   "source": [
    "import numpy as np\n",
    "np.random.seed(42)"
   ]
  },
  {
   "cell_type": "markdown",
   "metadata": {},
   "source": [
    "#### Load dependencies"
   ]
  },
  {
   "cell_type": "code",
   "execution_count": 2,
   "metadata": {},
   "outputs": [
    {
     "name": "stderr",
     "output_type": "stream",
     "text": [
      "Using TensorFlow backend.\n"
     ]
    }
   ],
   "source": [
    "import keras\n",
    "from keras.datasets import mnist\n",
    "from keras.models import Sequential\n",
    "from keras.layers import Dense, Dropout\n",
    "from keras.layers import Flatten, MaxPooling2D, Conv2D, Activation\n",
    "from keras.layers.normalization import BatchNormalization\n",
    "from keras.optimizers import Adam\n",
    "from keras.preprocessing.image import ImageDataGenerator\n",
    "from keras.callbacks import TensorBoard, LearningRateScheduler\n",
    "\n",
    "from sklearn.model_selection import train_test_split\n",
    "\n",
    "import pandas as pd\n",
    "\n",
    "import matplotlib.pyplot as plt\n",
    "%matplotlib inline"
   ]
  },
  {
   "cell_type": "markdown",
   "metadata": {},
   "source": [
    "#### Load data"
   ]
  },
  {
   "cell_type": "code",
   "execution_count": 3,
   "metadata": {},
   "outputs": [],
   "source": [
    "n_classes = 10\n",
    "\n",
    "raw_data = np.loadtxt('kaggle/datasets/train.csv', skiprows=1, dtype='int', delimiter=',')\n",
    "X_train, X_val, y_train, y_val = train_test_split(\n",
    "    raw_data[:,1:], raw_data[:,0], test_size = 0.1)\n",
    "\n",
    "X_train = X_train.reshape(-1, 28, 28, 1)\n",
    "X_val = X_val.reshape(-1, 28, 28, 1)\n",
    "\n",
    "X_train = X_train.astype(\"float32\")/255.\n",
    "X_val = X_val.astype(\"float32\")/255.\n",
    "\n",
    "y_train = keras.utils.to_categorical(y_train, n_classes)\n",
    "y_val = keras.utils.to_categorical(y_val, n_classes)\n"
   ]
  },
  {
   "cell_type": "markdown",
   "metadata": {},
   "source": [
    "#### Define Custom Activation Function"
   ]
  },
  {
   "cell_type": "code",
   "execution_count": 4,
   "metadata": {},
   "outputs": [],
   "source": [
    "from keras import backend as K\n",
    "from keras.utils.generic_utils import get_custom_objects\n",
    "\n",
    "def relus(Z):\n",
    "    e_param = 3.8\n",
    "    pi = K.variable((3.14))\n",
    "    m = e_param + (K.sigmoid(K.sin(Z)) - K.sigmoid(K.cos(Z)) * K.exp(K.sqrt(pi)))\n",
    "    A = K.maximum(m, Z)\n",
    "    return A\n",
    "\n",
    "get_custom_objects().update({'ReLU_s': Activation(relus)})"
   ]
  },
  {
   "cell_type": "markdown",
   "metadata": {},
   "source": [
    "#### Design Neural Network architecture"
   ]
  },
  {
   "cell_type": "code",
   "execution_count": 5,
   "metadata": {},
   "outputs": [],
   "source": [
    "model = Sequential()\n",
    "\n",
    "model.add(Conv2D(16, 4, padding = 'same', activation ='ReLU_s', input_shape = (28, 28, 1)))\n",
    "model.add(Conv2D(16, 4, padding = 'same', activation ='ReLU_s'))\n",
    "model.add(MaxPooling2D(pool_size = (2, 2)))\n",
    "model.add(Dropout(0.25))\n",
    "\n",
    "model.add(Conv2D(20, 7, padding = 'same', activation ='ReLU_s'))\n",
    "model.add(Conv2D(20, 7, activation ='ReLU_s'))\n",
    "model.add(MaxPooling2D(pool_size = (2, 2)))\n",
    "model.add(Dropout(0.25))\n",
    "\n",
    "model.add(Flatten())\n",
    "model.add(Dense(1024, activation = \"ReLU_s\"))\n",
    "model.add(Dropout(0.5))\n",
    "model.add(Dense(10, activation = \"softmax\"))"
   ]
  },
  {
   "cell_type": "code",
   "execution_count": 6,
   "metadata": {},
   "outputs": [
    {
     "name": "stdout",
     "output_type": "stream",
     "text": [
      "_________________________________________________________________\n",
      "Layer (type)                 Output Shape              Param #   \n",
      "=================================================================\n",
      "conv2d_1 (Conv2D)            (None, 28, 28, 16)        272       \n",
      "_________________________________________________________________\n",
      "conv2d_2 (Conv2D)            (None, 28, 28, 16)        4112      \n",
      "_________________________________________________________________\n",
      "max_pooling2d_1 (MaxPooling2 (None, 14, 14, 16)        0         \n",
      "_________________________________________________________________\n",
      "dropout_1 (Dropout)          (None, 14, 14, 16)        0         \n",
      "_________________________________________________________________\n",
      "conv2d_3 (Conv2D)            (None, 14, 14, 20)        15700     \n",
      "_________________________________________________________________\n",
      "conv2d_4 (Conv2D)            (None, 8, 8, 20)          19620     \n",
      "_________________________________________________________________\n",
      "max_pooling2d_2 (MaxPooling2 (None, 4, 4, 20)          0         \n",
      "_________________________________________________________________\n",
      "dropout_2 (Dropout)          (None, 4, 4, 20)          0         \n",
      "_________________________________________________________________\n",
      "flatten_1 (Flatten)          (None, 320)               0         \n",
      "_________________________________________________________________\n",
      "dense_1 (Dense)              (None, 1024)              328704    \n",
      "_________________________________________________________________\n",
      "dropout_3 (Dropout)          (None, 1024)              0         \n",
      "_________________________________________________________________\n",
      "dense_2 (Dense)              (None, 10)                10250     \n",
      "=================================================================\n",
      "Total params: 378,658\n",
      "Trainable params: 378,658\n",
      "Non-trainable params: 0\n",
      "_________________________________________________________________\n"
     ]
    }
   ],
   "source": [
    "model.summary()"
   ]
  },
  {
   "cell_type": "markdown",
   "metadata": {},
   "source": [
    "#### Data Augmentation"
   ]
  },
  {
   "cell_type": "code",
   "execution_count": 7,
   "metadata": {},
   "outputs": [],
   "source": [
    "datagen = ImageDataGenerator(zoom_range = 0.1,\n",
    "                            height_shift_range = 0.1,\n",
    "                            width_shift_range = 0.1,\n",
    "                            rotation_range = 10)"
   ]
  },
  {
   "cell_type": "markdown",
   "metadata": {},
   "source": [
    "#### Learning Rate Scheduler"
   ]
  },
  {
   "cell_type": "code",
   "execution_count": 8,
   "metadata": {},
   "outputs": [],
   "source": [
    "annealer = LearningRateScheduler(lambda x: 1e-3 * 0.9 ** x)"
   ]
  },
  {
   "cell_type": "markdown",
   "metadata": {},
   "source": [
    "#### Configure model"
   ]
  },
  {
   "cell_type": "code",
   "execution_count": 9,
   "metadata": {},
   "outputs": [],
   "source": [
    "model.compile(loss = 'categorical_crossentropy', optimizer = 'adam', metrics = ['accuracy'])"
   ]
  },
  {
   "cell_type": "markdown",
   "metadata": {},
   "source": [
    "#### TensorBoard"
   ]
  },
  {
   "cell_type": "code",
   "execution_count": 10,
   "metadata": {},
   "outputs": [],
   "source": [
    "tensorboard = TensorBoard(\"logs/lenet-cnn-mnist-ReLUs-no-augmentation-50-epochs\")"
   ]
  },
  {
   "cell_type": "markdown",
   "metadata": {},
   "source": [
    "#### Train!"
   ]
  },
  {
   "cell_type": "code",
   "execution_count": 11,
   "metadata": {},
   "outputs": [
    {
     "name": "stdout",
     "output_type": "stream",
     "text": [
      "Train on 34020 samples, validate on 3780 samples\n",
      "Epoch 1/50\n",
      "34020/34020 [==============================] - 177s - loss: 0.2108 - acc: 0.9325 - val_loss: 0.0545 - val_acc: 0.9836\n",
      "Epoch 2/50\n",
      "34020/34020 [==============================] - 176s - loss: 0.0645 - acc: 0.9801 - val_loss: 0.0381 - val_acc: 0.9865\n",
      "Epoch 3/50\n",
      "34020/34020 [==============================] - 159s - loss: 0.0481 - acc: 0.9853 - val_loss: 0.0292 - val_acc: 0.9894\n",
      "Epoch 4/50\n",
      "34020/34020 [==============================] - 159s - loss: 0.0389 - acc: 0.9876 - val_loss: 0.0277 - val_acc: 0.9931\n",
      "Epoch 5/50\n",
      "34020/34020 [==============================] - 163s - loss: 0.0321 - acc: 0.9901 - val_loss: 0.0340 - val_acc: 0.9886\n",
      "Epoch 6/50\n",
      "34020/34020 [==============================] - 168s - loss: 0.0294 - acc: 0.9906 - val_loss: 0.0266 - val_acc: 0.9905\n",
      "Epoch 7/50\n",
      "34020/34020 [==============================] - 161s - loss: 0.0212 - acc: 0.9936 - val_loss: 0.0268 - val_acc: 0.9907\n",
      "Epoch 8/50\n",
      "34020/34020 [==============================] - 151s - loss: 0.0199 - acc: 0.9937 - val_loss: 0.0340 - val_acc: 0.9897\n",
      "Epoch 9/50\n",
      "34020/34020 [==============================] - 152s - loss: 0.0177 - acc: 0.9941 - val_loss: 0.0224 - val_acc: 0.9929\n",
      "Epoch 10/50\n",
      "34020/34020 [==============================] - 176s - loss: 0.0127 - acc: 0.9962 - val_loss: 0.0291 - val_acc: 0.9918\n",
      "Epoch 11/50\n",
      "34020/34020 [==============================] - 158s - loss: 0.0136 - acc: 0.9957 - val_loss: 0.0189 - val_acc: 0.9942\n",
      "Epoch 12/50\n",
      "34020/34020 [==============================] - 159s - loss: 0.0093 - acc: 0.9969 - val_loss: 0.0211 - val_acc: 0.9934\n",
      "Epoch 13/50\n",
      "34020/34020 [==============================] - 154s - loss: 0.0085 - acc: 0.9975 - val_loss: 0.0269 - val_acc: 0.9921\n",
      "Epoch 14/50\n",
      "34020/34020 [==============================] - 165s - loss: 0.0088 - acc: 0.9975 - val_loss: 0.0234 - val_acc: 0.9934\n",
      "Epoch 15/50\n",
      "34020/34020 [==============================] - 174s - loss: 0.0068 - acc: 0.9979 - val_loss: 0.0249 - val_acc: 0.9923\n",
      "Epoch 16/50\n",
      "34020/34020 [==============================] - 170s - loss: 0.0070 - acc: 0.9978 - val_loss: 0.0252 - val_acc: 0.9923\n",
      "Epoch 17/50\n",
      "34020/34020 [==============================] - 163s - loss: 0.0050 - acc: 0.9985 - val_loss: 0.0211 - val_acc: 0.9934\n",
      "Epoch 18/50\n",
      "34020/34020 [==============================] - 166s - loss: 0.0041 - acc: 0.9988 - val_loss: 0.0239 - val_acc: 0.9942\n",
      "Epoch 19/50\n",
      "34020/34020 [==============================] - 164s - loss: 0.0049 - acc: 0.9983 - val_loss: 0.0204 - val_acc: 0.9931\n",
      "Epoch 20/50\n",
      "34020/34020 [==============================] - 165s - loss: 0.0039 - acc: 0.9987 - val_loss: 0.0256 - val_acc: 0.9921\n",
      "Epoch 21/50\n",
      "34020/34020 [==============================] - 169s - loss: 0.0040 - acc: 0.9986 - val_loss: 0.0232 - val_acc: 0.9939\n",
      "Epoch 22/50\n",
      "34020/34020 [==============================] - 170s - loss: 0.0033 - acc: 0.9990 - val_loss: 0.0200 - val_acc: 0.9934\n",
      "Epoch 23/50\n",
      "34020/34020 [==============================] - 158s - loss: 0.0026 - acc: 0.9992 - val_loss: 0.0216 - val_acc: 0.9937\n",
      "Epoch 24/50\n",
      "34020/34020 [==============================] - 187s - loss: 0.0028 - acc: 0.9992 - val_loss: 0.0203 - val_acc: 0.9931\n",
      "Epoch 25/50\n",
      "34020/34020 [==============================] - 179s - loss: 0.0023 - acc: 0.9991 - val_loss: 0.0234 - val_acc: 0.9923\n",
      "Epoch 26/50\n",
      "34020/34020 [==============================] - 185s - loss: 0.0026 - acc: 0.9992 - val_loss: 0.0273 - val_acc: 0.9931\n",
      "Epoch 27/50\n",
      "34020/34020 [==============================] - 177s - loss: 0.0025 - acc: 0.9992 - val_loss: 0.0216 - val_acc: 0.9929\n",
      "Epoch 28/50\n",
      "34020/34020 [==============================] - 186s - loss: 0.0019 - acc: 0.9994 - val_loss: 0.0237 - val_acc: 0.9931\n",
      "Epoch 29/50\n",
      "34020/34020 [==============================] - 183s - loss: 0.0024 - acc: 0.9992 - val_loss: 0.0233 - val_acc: 0.9937\n",
      "Epoch 30/50\n",
      "34020/34020 [==============================] - 189s - loss: 0.0019 - acc: 0.9993 - val_loss: 0.0241 - val_acc: 0.9942\n",
      "Epoch 31/50\n",
      "34020/34020 [==============================] - 174s - loss: 0.0019 - acc: 0.9993 - val_loss: 0.0250 - val_acc: 0.9929\n",
      "Epoch 32/50\n",
      "34020/34020 [==============================] - 171s - loss: 0.0017 - acc: 0.9994 - val_loss: 0.0244 - val_acc: 0.9934\n",
      "Epoch 33/50\n",
      "34020/34020 [==============================] - 162s - loss: 0.0015 - acc: 0.9994 - val_loss: 0.0238 - val_acc: 0.9931\n",
      "Epoch 34/50\n",
      "34020/34020 [==============================] - 153s - loss: 0.0013 - acc: 0.9996 - val_loss: 0.0233 - val_acc: 0.9934\n",
      "Epoch 35/50\n",
      "34020/34020 [==============================] - 147s - loss: 0.0017 - acc: 0.9996 - val_loss: 0.0240 - val_acc: 0.9931\n",
      "Epoch 36/50\n",
      "34020/34020 [==============================] - 166s - loss: 0.0017 - acc: 0.9994 - val_loss: 0.0233 - val_acc: 0.9926\n",
      "Epoch 37/50\n",
      "34020/34020 [==============================] - 165s - loss: 0.0011 - acc: 0.9997 - val_loss: 0.0231 - val_acc: 0.9931\n",
      "Epoch 38/50\n",
      "34020/34020 [==============================] - 144s - loss: 0.0017 - acc: 0.9994 - val_loss: 0.0231 - val_acc: 0.9942\n",
      "Epoch 39/50\n",
      "34020/34020 [==============================] - 144s - loss: 0.0012 - acc: 0.9997 - val_loss: 0.0232 - val_acc: 0.9931\n",
      "Epoch 40/50\n",
      "34020/34020 [==============================] - 144s - loss: 0.0018 - acc: 0.9994 - val_loss: 0.0230 - val_acc: 0.9931\n",
      "Epoch 41/50\n",
      "34020/34020 [==============================] - 145s - loss: 0.0011 - acc: 0.9996 - val_loss: 0.0226 - val_acc: 0.9931\n",
      "Epoch 42/50\n",
      "34020/34020 [==============================] - 147s - loss: 0.0013 - acc: 0.9995 - val_loss: 0.0236 - val_acc: 0.9929\n",
      "Epoch 43/50\n",
      "34020/34020 [==============================] - 158s - loss: 0.0012 - acc: 0.9996 - val_loss: 0.0240 - val_acc: 0.9929\n",
      "Epoch 44/50\n",
      "34020/34020 [==============================] - 165s - loss: 0.0012 - acc: 0.9996 - val_loss: 0.0232 - val_acc: 0.9937\n",
      "Epoch 45/50\n",
      "34020/34020 [==============================] - 157s - loss: 0.0011 - acc: 0.9996 - val_loss: 0.0234 - val_acc: 0.9934\n",
      "Epoch 46/50\n",
      "34020/34020 [==============================] - 143s - loss: 9.3204e-04 - acc: 0.9997 - val_loss: 0.0235 - val_acc: 0.9937\n",
      "Epoch 47/50\n",
      "34020/34020 [==============================] - 153s - loss: 0.0012 - acc: 0.9996 - val_loss: 0.0237 - val_acc: 0.9929\n",
      "Epoch 48/50\n",
      "34020/34020 [==============================] - 198s - loss: 0.0013 - acc: 0.9997 - val_loss: 0.0238 - val_acc: 0.9931\n",
      "Epoch 49/50\n",
      "34020/34020 [==============================] - 193s - loss: 0.0014 - acc: 0.9994 - val_loss: 0.0239 - val_acc: 0.9934\n",
      "Epoch 50/50\n",
      "34020/34020 [==============================] - 174s - loss: 0.0011 - acc: 0.9996 - val_loss: 0.0232 - val_acc: 0.9934\n"
     ]
    }
   ],
   "source": [
    "# hist = model.fit_generator(datagen.flow(X_train, y_train, batch_size = 64),\n",
    "#                            steps_per_epoch = 300,\n",
    "#                            epochs = 65,\n",
    "#                            verbose = 1,\n",
    "#                            validation_data = (X_val[:400,:], y_val[:400,:]),\n",
    "#                            callbacks = [tensorboard])\n",
    "\n",
    "hist = model.fit(X_train, y_train, batch_size = 32,\n",
    "                           epochs = 50,\n",
    "                           verbose = 1,\n",
    "                           validation_split = 0.1,\n",
    "                           callbacks=[annealer, tensorboard])"
   ]
  },
  {
   "cell_type": "markdown",
   "metadata": {},
   "source": [
    "#### Test Final Accuracy"
   ]
  },
  {
   "cell_type": "code",
   "execution_count": 12,
   "metadata": {},
   "outputs": [
    {
     "name": "stdout",
     "output_type": "stream",
     "text": [
      "4192/4200 [============================>.] - ETA: 0sFinal loss: 0.0233, final accuracy: 0.9960\n"
     ]
    }
   ],
   "source": [
    "final_loss, final_acc = model.evaluate(X_val, y_val, verbose = 1)\n",
    "print(\"Final loss: {0:.4f}, final accuracy: {1:.4f}\".format(final_loss, final_acc))"
   ]
  },
  {
   "cell_type": "markdown",
   "metadata": {},
   "source": [
    "#### Save Submission"
   ]
  },
  {
   "cell_type": "code",
   "execution_count": 13,
   "metadata": {},
   "outputs": [],
   "source": [
    "X_test = np.loadtxt('kaggle/datasets/test.csv', skiprows=1, dtype='int', delimiter=',')\n",
    "X_test = X_test.reshape(28000, 28, 28, 1).astype('float32') / 255.\n",
    "\n",
    "predictions = model.predict(X_test, verbose = 2)\n",
    "predictions = np.argmax(predictions, axis = 1)\n",
    "\n",
    "pd.DataFrame({\"ImageId\": list(range(1, len(predictions) + 1)), \"Label\": predictions}).to_csv('kaggle/results/cnn/submission-ReLUs-no-augmentation-50-epochs.csv', index = False, header = True)"
   ]
  },
  {
   "cell_type": "code",
   "execution_count": null,
   "metadata": {},
   "outputs": [],
   "source": []
  }
 ],
 "metadata": {
  "kernelspec": {
   "display_name": "Python 3",
   "language": "python",
   "name": "python3"
  },
  "language_info": {
   "codemirror_mode": {
    "name": "ipython",
    "version": 3
   },
   "file_extension": ".py",
   "mimetype": "text/x-python",
   "name": "python",
   "nbconvert_exporter": "python",
   "pygments_lexer": "ipython3",
   "version": "3.6.2"
  }
 },
 "nbformat": 4,
 "nbformat_minor": 2
}
