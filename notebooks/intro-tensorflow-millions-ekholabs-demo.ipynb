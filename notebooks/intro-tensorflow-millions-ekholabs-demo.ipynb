{
 "cells": [
  {
   "cell_type": "markdown",
   "metadata": {},
   "source": [
    "# Intro to TensorFlow Millions of Points "
   ]
  },
  {
   "cell_type": "markdown",
   "metadata": {},
   "source": [
    "#### Load Dependencies"
   ]
  },
  {
   "cell_type": "code",
   "execution_count": 1,
   "metadata": {},
   "outputs": [],
   "source": [
    "import numpy as np\n",
    "import tensorflow as tf\n",
    "import pandas as pd\n",
    "import matplotlib.pyplot as plt\n",
    "\n",
    "%matplotlib inline"
   ]
  },
  {
   "cell_type": "markdown",
   "metadata": {},
   "source": [
    "#### Initialise Seeds"
   ]
  },
  {
   "cell_type": "code",
   "execution_count": 2,
   "metadata": {},
   "outputs": [],
   "source": [
    "np.random.seed(42)\n",
    "tf.set_random_seed(42)"
   ]
  },
  {
   "cell_type": "markdown",
   "metadata": {},
   "source": [
    "#### Create a Dataset"
   ]
  },
  {
   "cell_type": "code",
   "execution_count": 3,
   "metadata": {},
   "outputs": [],
   "source": [
    "xs = np.linspace(0., 8., 8000000)\n",
    "ys = 0.25 * xs - 0.7 + np.random.normal(scale = 0.15, size = len(xs))"
   ]
  },
  {
   "cell_type": "code",
   "execution_count": 4,
   "metadata": {},
   "outputs": [
    {
     "data": {
      "image/png": "[encoded data removed]",
      "text/plain": [
       "<matplotlib.figure.Figure at 0x7f8f3dd60940>"
      ]
     },
     "metadata": {},
     "output_type": "display_data"
    }
   ],
   "source": [
    "fig, ax = plt.subplots()\n",
    "data_subset = pd.DataFrame(list(zip(xs, ys)), columns = [\"x\", \"y\"]).sample(1000)\n",
    "_ = ax.scatter(data_subset.x, data_subset.y)"
   ]
  },
  {
   "cell_type": "markdown",
   "metadata": {},
   "source": [
    "#### Define Variables"
   ]
  },
  {
   "cell_type": "code",
   "execution_count": 5,
   "metadata": {},
   "outputs": [],
   "source": [
    "m = tf.Variable(-0.5) # one example\n",
    "b = tf.Variable(1.0) # bias"
   ]
  },
  {
   "cell_type": "code",
   "execution_count": 6,
   "metadata": {},
   "outputs": [],
   "source": [
    "batch_size = 8"
   ]
  },
  {
   "cell_type": "markdown",
   "metadata": {},
   "source": [
    "#### Define Placeholders"
   ]
  },
  {
   "cell_type": "code",
   "execution_count": 7,
   "metadata": {},
   "outputs": [],
   "source": [
    "xs_placeholder = tf.placeholder(tf.float32, [batch_size])\n",
    "ys_placeholder = tf.placeholder(tf.float32, [batch_size])"
   ]
  },
  {
   "cell_type": "markdown",
   "metadata": {},
   "source": [
    "#### Define Cost Function (sqrd error)"
   ]
  },
  {
   "cell_type": "code",
   "execution_count": 8,
   "metadata": {},
   "outputs": [],
   "source": [
    "ys_model = m * xs_placeholder + b\n",
    "total_error = tf.reduce_sum((ys_placeholder - ys_model) ** 2)"
   ]
  },
  {
   "cell_type": "markdown",
   "metadata": {},
   "source": [
    "#### Define Optimiser"
   ]
  },
  {
   "cell_type": "code",
   "execution_count": 9,
   "metadata": {},
   "outputs": [],
   "source": [
    "optimizer_op = tf.train.GradientDescentOptimizer(learning_rate = 0.001).minimize(total_error)"
   ]
  },
  {
   "cell_type": "markdown",
   "metadata": {},
   "source": [
    "#### Define Initialiser"
   ]
  },
  {
   "cell_type": "code",
   "execution_count": 10,
   "metadata": {},
   "outputs": [],
   "source": [
    "initializer_op = tf.global_variables_initializer()"
   ]
  },
  {
   "cell_type": "markdown",
   "metadata": {},
   "source": [
    "#### Execute Session"
   ]
  },
  {
   "cell_type": "code",
   "execution_count": 11,
   "metadata": {},
   "outputs": [],
   "source": [
    "with tf.Session() as session:\n",
    "    session.run(initializer_op)\n",
    "    \n",
    "    n_epochs = 1000\n",
    "    for i in range(n_epochs):\n",
    "        random_indices = np.random.randint(len(xs), size = batch_size)\n",
    "        feed = {\n",
    "            xs_placeholder : xs[random_indices],\n",
    "            ys_placeholder : ys[random_indices]\n",
    "        }\n",
    "        session.run(optimizer_op, feed_dict = feed)\n",
    "    \n",
    "    slope, intercept = session.run([m, b])"
   ]
  },
  {
   "cell_type": "code",
   "execution_count": 12,
   "metadata": {},
   "outputs": [
    {
     "data": {
      "text/plain": [
       "0.25109151"
      ]
     },
     "execution_count": 12,
     "metadata": {},
     "output_type": "execute_result"
    }
   ],
   "source": [
    "slope"
   ]
  },
  {
   "cell_type": "code",
   "execution_count": 13,
   "metadata": {},
   "outputs": [
    {
     "data": {
      "text/plain": [
       "-0.66868329"
      ]
     },
     "execution_count": 13,
     "metadata": {},
     "output_type": "execute_result"
    }
   ],
   "source": [
    "intercept"
   ]
  },
  {
   "cell_type": "code",
   "execution_count": 14,
   "metadata": {},
   "outputs": [],
   "source": [
    "y_hat = slope + intercept * np.array(xs)"
   ]
  },
  {
   "cell_type": "code",
   "execution_count": 15,
   "metadata": {},
   "outputs": [
    {
     "data": {
      "text/html": [
       "<div>\n",
       "<table border=\"1\" class=\"dataframe\">\n",
       "  <thead>\n",
       "    <tr style=\"text-align: right;\">\n",
       "      <th></th>\n",
       "      <th>y</th>\n",
       "      <th>y_hat</th>\n",
       "    </tr>\n",
       "  </thead>\n",
       "  <tbody>\n",
       "    <tr>\n",
       "      <th>0</th>\n",
       "      <td>-0.625493</td>\n",
       "      <td>0.251092</td>\n",
       "    </tr>\n",
       "    <tr>\n",
       "      <th>1</th>\n",
       "      <td>-0.720739</td>\n",
       "      <td>0.251091</td>\n",
       "    </tr>\n",
       "    <tr>\n",
       "      <th>2</th>\n",
       "      <td>-0.602846</td>\n",
       "      <td>0.251090</td>\n",
       "    </tr>\n",
       "    <tr>\n",
       "      <th>3</th>\n",
       "      <td>-0.471545</td>\n",
       "      <td>0.251090</td>\n",
       "    </tr>\n",
       "    <tr>\n",
       "      <th>4</th>\n",
       "      <td>-0.735122</td>\n",
       "      <td>0.251089</td>\n",
       "    </tr>\n",
       "    <tr>\n",
       "      <th>5</th>\n",
       "      <td>-0.735119</td>\n",
       "      <td>0.251088</td>\n",
       "    </tr>\n",
       "    <tr>\n",
       "      <th>6</th>\n",
       "      <td>-0.463117</td>\n",
       "      <td>0.251087</td>\n",
       "    </tr>\n",
       "    <tr>\n",
       "      <th>7</th>\n",
       "      <td>-0.584883</td>\n",
       "      <td>0.251087</td>\n",
       "    </tr>\n",
       "    <tr>\n",
       "      <th>8</th>\n",
       "      <td>-0.770419</td>\n",
       "      <td>0.251086</td>\n",
       "    </tr>\n",
       "    <tr>\n",
       "      <th>9</th>\n",
       "      <td>-0.618614</td>\n",
       "      <td>0.251085</td>\n",
       "    </tr>\n",
       "    <tr>\n",
       "      <th>10</th>\n",
       "      <td>-0.769510</td>\n",
       "      <td>0.251085</td>\n",
       "    </tr>\n",
       "    <tr>\n",
       "      <th>11</th>\n",
       "      <td>-0.769857</td>\n",
       "      <td>0.251084</td>\n",
       "    </tr>\n",
       "    <tr>\n",
       "      <th>12</th>\n",
       "      <td>-0.663703</td>\n",
       "      <td>0.251083</td>\n",
       "    </tr>\n",
       "    <tr>\n",
       "      <th>13</th>\n",
       "      <td>-0.986989</td>\n",
       "      <td>0.251083</td>\n",
       "    </tr>\n",
       "    <tr>\n",
       "      <th>14</th>\n",
       "      <td>-0.958734</td>\n",
       "      <td>0.251082</td>\n",
       "    </tr>\n",
       "    <tr>\n",
       "      <th>15</th>\n",
       "      <td>-0.784339</td>\n",
       "      <td>0.251081</td>\n",
       "    </tr>\n",
       "    <tr>\n",
       "      <th>16</th>\n",
       "      <td>-0.851921</td>\n",
       "      <td>0.251081</td>\n",
       "    </tr>\n",
       "    <tr>\n",
       "      <th>17</th>\n",
       "      <td>-0.652859</td>\n",
       "      <td>0.251080</td>\n",
       "    </tr>\n",
       "    <tr>\n",
       "      <th>18</th>\n",
       "      <td>-0.836199</td>\n",
       "      <td>0.251079</td>\n",
       "    </tr>\n",
       "    <tr>\n",
       "      <th>19</th>\n",
       "      <td>-0.911841</td>\n",
       "      <td>0.251079</td>\n",
       "    </tr>\n",
       "    <tr>\n",
       "      <th>20</th>\n",
       "      <td>-0.480148</td>\n",
       "      <td>0.251078</td>\n",
       "    </tr>\n",
       "    <tr>\n",
       "      <th>21</th>\n",
       "      <td>-0.733861</td>\n",
       "      <td>0.251077</td>\n",
       "    </tr>\n",
       "    <tr>\n",
       "      <th>22</th>\n",
       "      <td>-0.689865</td>\n",
       "      <td>0.251077</td>\n",
       "    </tr>\n",
       "    <tr>\n",
       "      <th>23</th>\n",
       "      <td>-0.913706</td>\n",
       "      <td>0.251076</td>\n",
       "    </tr>\n",
       "    <tr>\n",
       "      <th>24</th>\n",
       "      <td>-0.781651</td>\n",
       "      <td>0.251075</td>\n",
       "    </tr>\n",
       "    <tr>\n",
       "      <th>25</th>\n",
       "      <td>-0.683355</td>\n",
       "      <td>0.251075</td>\n",
       "    </tr>\n",
       "    <tr>\n",
       "      <th>26</th>\n",
       "      <td>-0.872643</td>\n",
       "      <td>0.251074</td>\n",
       "    </tr>\n",
       "    <tr>\n",
       "      <th>27</th>\n",
       "      <td>-0.643639</td>\n",
       "      <td>0.251073</td>\n",
       "    </tr>\n",
       "    <tr>\n",
       "      <th>28</th>\n",
       "      <td>-0.790089</td>\n",
       "      <td>0.251073</td>\n",
       "    </tr>\n",
       "    <tr>\n",
       "      <th>29</th>\n",
       "      <td>-0.743747</td>\n",
       "      <td>0.251072</td>\n",
       "    </tr>\n",
       "    <tr>\n",
       "      <th>...</th>\n",
       "      <td>...</td>\n",
       "      <td>...</td>\n",
       "    </tr>\n",
       "    <tr>\n",
       "      <th>7999970</th>\n",
       "      <td>1.304380</td>\n",
       "      <td>-5.098355</td>\n",
       "    </tr>\n",
       "    <tr>\n",
       "      <th>7999971</th>\n",
       "      <td>1.307038</td>\n",
       "      <td>-5.098356</td>\n",
       "    </tr>\n",
       "    <tr>\n",
       "      <th>7999972</th>\n",
       "      <td>1.250543</td>\n",
       "      <td>-5.098357</td>\n",
       "    </tr>\n",
       "    <tr>\n",
       "      <th>7999973</th>\n",
       "      <td>1.219989</td>\n",
       "      <td>-5.098357</td>\n",
       "    </tr>\n",
       "    <tr>\n",
       "      <th>7999974</th>\n",
       "      <td>1.241194</td>\n",
       "      <td>-5.098358</td>\n",
       "    </tr>\n",
       "    <tr>\n",
       "      <th>7999975</th>\n",
       "      <td>1.228729</td>\n",
       "      <td>-5.098359</td>\n",
       "    </tr>\n",
       "    <tr>\n",
       "      <th>7999976</th>\n",
       "      <td>1.595625</td>\n",
       "      <td>-5.098359</td>\n",
       "    </tr>\n",
       "    <tr>\n",
       "      <th>7999977</th>\n",
       "      <td>1.161923</td>\n",
       "      <td>-5.098360</td>\n",
       "    </tr>\n",
       "    <tr>\n",
       "      <th>7999978</th>\n",
       "      <td>1.416181</td>\n",
       "      <td>-5.098361</td>\n",
       "    </tr>\n",
       "    <tr>\n",
       "      <th>7999979</th>\n",
       "      <td>1.354162</td>\n",
       "      <td>-5.098361</td>\n",
       "    </tr>\n",
       "    <tr>\n",
       "      <th>7999980</th>\n",
       "      <td>1.249541</td>\n",
       "      <td>-5.098362</td>\n",
       "    </tr>\n",
       "    <tr>\n",
       "      <th>7999981</th>\n",
       "      <td>0.969684</td>\n",
       "      <td>-5.098363</td>\n",
       "    </tr>\n",
       "    <tr>\n",
       "      <th>7999982</th>\n",
       "      <td>1.191219</td>\n",
       "      <td>-5.098363</td>\n",
       "    </tr>\n",
       "    <tr>\n",
       "      <th>7999983</th>\n",
       "      <td>1.413351</td>\n",
       "      <td>-5.098364</td>\n",
       "    </tr>\n",
       "    <tr>\n",
       "      <th>7999984</th>\n",
       "      <td>1.354244</td>\n",
       "      <td>-5.098365</td>\n",
       "    </tr>\n",
       "    <tr>\n",
       "      <th>7999985</th>\n",
       "      <td>1.271469</td>\n",
       "      <td>-5.098365</td>\n",
       "    </tr>\n",
       "    <tr>\n",
       "      <th>7999986</th>\n",
       "      <td>1.252091</td>\n",
       "      <td>-5.098366</td>\n",
       "    </tr>\n",
       "    <tr>\n",
       "      <th>7999987</th>\n",
       "      <td>1.299871</td>\n",
       "      <td>-5.098367</td>\n",
       "    </tr>\n",
       "    <tr>\n",
       "      <th>7999988</th>\n",
       "      <td>1.385735</td>\n",
       "      <td>-5.098367</td>\n",
       "    </tr>\n",
       "    <tr>\n",
       "      <th>7999989</th>\n",
       "      <td>1.169909</td>\n",
       "      <td>-5.098368</td>\n",
       "    </tr>\n",
       "    <tr>\n",
       "      <th>7999990</th>\n",
       "      <td>1.386746</td>\n",
       "      <td>-5.098369</td>\n",
       "    </tr>\n",
       "    <tr>\n",
       "      <th>7999991</th>\n",
       "      <td>1.336945</td>\n",
       "      <td>-5.098369</td>\n",
       "    </tr>\n",
       "    <tr>\n",
       "      <th>7999992</th>\n",
       "      <td>1.292076</td>\n",
       "      <td>-5.098370</td>\n",
       "    </tr>\n",
       "    <tr>\n",
       "      <th>7999993</th>\n",
       "      <td>1.223388</td>\n",
       "      <td>-5.098371</td>\n",
       "    </tr>\n",
       "    <tr>\n",
       "      <th>7999994</th>\n",
       "      <td>1.533419</td>\n",
       "      <td>-5.098371</td>\n",
       "    </tr>\n",
       "    <tr>\n",
       "      <th>7999995</th>\n",
       "      <td>1.350669</td>\n",
       "      <td>-5.098372</td>\n",
       "    </tr>\n",
       "    <tr>\n",
       "      <th>7999996</th>\n",
       "      <td>1.209170</td>\n",
       "      <td>-5.098373</td>\n",
       "    </tr>\n",
       "    <tr>\n",
       "      <th>7999997</th>\n",
       "      <td>1.322536</td>\n",
       "      <td>-5.098373</td>\n",
       "    </tr>\n",
       "    <tr>\n",
       "      <th>7999998</th>\n",
       "      <td>1.619833</td>\n",
       "      <td>-5.098374</td>\n",
       "    </tr>\n",
       "    <tr>\n",
       "      <th>7999999</th>\n",
       "      <td>1.315411</td>\n",
       "      <td>-5.098375</td>\n",
       "    </tr>\n",
       "  </tbody>\n",
       "</table>\n",
       "<p>8000000 rows × 2 columns</p>\n",
       "</div>"
      ],
      "text/plain": [
       "                y     y_hat\n",
       "0       -0.625493  0.251092\n",
       "1       -0.720739  0.251091\n",
       "2       -0.602846  0.251090\n",
       "3       -0.471545  0.251090\n",
       "4       -0.735122  0.251089\n",
       "5       -0.735119  0.251088\n",
       "6       -0.463117  0.251087\n",
       "7       -0.584883  0.251087\n",
       "8       -0.770419  0.251086\n",
       "9       -0.618614  0.251085\n",
       "10      -0.769510  0.251085\n",
       "11      -0.769857  0.251084\n",
       "12      -0.663703  0.251083\n",
       "13      -0.986989  0.251083\n",
       "14      -0.958734  0.251082\n",
       "15      -0.784339  0.251081\n",
       "16      -0.851921  0.251081\n",
       "17      -0.652859  0.251080\n",
       "18      -0.836199  0.251079\n",
       "19      -0.911841  0.251079\n",
       "20      -0.480148  0.251078\n",
       "21      -0.733861  0.251077\n",
       "22      -0.689865  0.251077\n",
       "23      -0.913706  0.251076\n",
       "24      -0.781651  0.251075\n",
       "25      -0.683355  0.251075\n",
       "26      -0.872643  0.251074\n",
       "27      -0.643639  0.251073\n",
       "28      -0.790089  0.251073\n",
       "29      -0.743747  0.251072\n",
       "...           ...       ...\n",
       "7999970  1.304380 -5.098355\n",
       "7999971  1.307038 -5.098356\n",
       "7999972  1.250543 -5.098357\n",
       "7999973  1.219989 -5.098357\n",
       "7999974  1.241194 -5.098358\n",
       "7999975  1.228729 -5.098359\n",
       "7999976  1.595625 -5.098359\n",
       "7999977  1.161923 -5.098360\n",
       "7999978  1.416181 -5.098361\n",
       "7999979  1.354162 -5.098361\n",
       "7999980  1.249541 -5.098362\n",
       "7999981  0.969684 -5.098363\n",
       "7999982  1.191219 -5.098363\n",
       "7999983  1.413351 -5.098364\n",
       "7999984  1.354244 -5.098365\n",
       "7999985  1.271469 -5.098365\n",
       "7999986  1.252091 -5.098366\n",
       "7999987  1.299871 -5.098367\n",
       "7999988  1.385735 -5.098367\n",
       "7999989  1.169909 -5.098368\n",
       "7999990  1.386746 -5.098369\n",
       "7999991  1.336945 -5.098369\n",
       "7999992  1.292076 -5.098370\n",
       "7999993  1.223388 -5.098371\n",
       "7999994  1.533419 -5.098371\n",
       "7999995  1.350669 -5.098372\n",
       "7999996  1.209170 -5.098373\n",
       "7999997  1.322536 -5.098373\n",
       "7999998  1.619833 -5.098374\n",
       "7999999  1.315411 -5.098375\n",
       "\n",
       "[8000000 rows x 2 columns]"
      ]
     },
     "execution_count": 15,
     "metadata": {},
     "output_type": "execute_result"
    }
   ],
   "source": [
    "pd.DataFrame(list(zip(ys, y_hat)), columns = [\"y\", \"y_hat\"])"
   ]
  },
  {
   "cell_type": "code",
   "execution_count": 16,
   "metadata": {},
   "outputs": [
    {
     "data": {
      "text/plain": [
       "[<matplotlib.lines.Line2D at 0x7f8ed61a4668>]"
      ]
     },
     "execution_count": 16,
     "metadata": {},
     "output_type": "execute_result"
    },
    {
     "data": {
      "image/png": "[encoded data removed]",
      "text/plain": [
       "<matplotlib.figure.Figure at 0x7f8f39fa68d0>"
      ]
     },
     "metadata": {},
     "output_type": "display_data"
    }
   ],
   "source": [
    "fig, ax = plt.subplots()\n",
    "data_subset = pd.DataFrame(list(zip(xs, ys)), columns = [\"x\", \"y\"]).sample(1000)\n",
    "ax.scatter(data_subset.x, data_subset.y)\n",
    "x_min, x_max = ax.get_xlim()\n",
    "y_min, y_max = intercept, intercept + slope * (x_max - x_min)\n",
    "ax.plot([x_min, x_max], [y_min, y_max])"
   ]
  },
  {
   "cell_type": "code",
   "execution_count": null,
   "metadata": {},
   "outputs": [],
   "source": []
  }
 ],
 "metadata": {
  "kernelspec": {
   "display_name": "Python 3",
   "language": "python",
   "name": "python3"
  },
  "language_info": {
   "codemirror_mode": {
    "name": "ipython",
    "version": 3
   },
   "file_extension": ".py",
   "mimetype": "text/x-python",
   "name": "python",
   "nbconvert_exporter": "python",
   "pygments_lexer": "ipython3",
   "version": "3.6.2"
  }
 },
 "nbformat": 4,
 "nbformat_minor": 2
}
