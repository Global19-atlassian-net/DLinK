{
 "cells": [
  {
   "cell_type": "markdown",
   "metadata": {},
   "source": [
    "# Toon Feedback Analysis"
   ]
  },
  {
   "cell_type": "markdown",
   "metadata": {},
   "source": [
    "#### Load Dependencies"
   ]
  },
  {
   "cell_type": "code",
   "execution_count": 1,
   "metadata": {},
   "outputs": [],
   "source": [
    "import nltk\n",
    "import gensim\n",
    "from gensim.models.word2vec import Word2Vec\n",
    "from sklearn.manifold import TSNE\n",
    "from nltk.tokenize import word_tokenize\n",
    "\n",
    "import pandas as pd\n",
    "\n",
    "from bokeh.io import output_notebook\n",
    "from bokeh.plotting import show, figure\n",
    "%matplotlib inline"
   ]
  },
  {
   "cell_type": "code",
   "execution_count": 2,
   "metadata": {},
   "outputs": [
    {
     "name": "stdout",
     "output_type": "stream",
     "text": [
      "[nltk_data] Downloading package punkt to /home/jovyan/nltk_data...\n",
      "[nltk_data]   Unzipping tokenizers/punkt.zip.\n"
     ]
    },
    {
     "data": {
      "text/plain": [
       "True"
      ]
     },
     "execution_count": 2,
     "metadata": {},
     "output_type": "execute_result"
    }
   ],
   "source": [
    "nltk.download('punkt')"
   ]
  },
  {
   "cell_type": "markdown",
   "metadata": {},
   "source": [
    "#### Load Data"
   ]
  },
  {
   "cell_type": "code",
   "execution_count": 3,
   "metadata": {},
   "outputs": [],
   "source": [
    "df = pd.read_csv('../../toon_feedback.csv')"
   ]
  },
  {
   "cell_type": "markdown",
   "metadata": {},
   "source": [
    "#### Tokenize Text"
   ]
  },
  {
   "cell_type": "code",
   "execution_count": 4,
   "metadata": {},
   "outputs": [],
   "source": [
    "# tokens = word_tokenize()\n",
    "df['feedback'].dropna(inplace=True)\n",
    "tokens = df['feedback'].apply(word_tokenize)"
   ]
  },
  {
   "cell_type": "markdown",
   "metadata": {},
   "source": [
    "#### Run Word2Vec"
   ]
  },
  {
   "cell_type": "code",
   "execution_count": 5,
   "metadata": {},
   "outputs": [],
   "source": [
    "# size == dimensions\n",
    "# window 10: 20 context words, 10 to the left and 10 to the right\n",
    "model = Word2Vec(sentences=tokens, size=16, sg=1, window=10, min_count=5, seed=42, workers=2)"
   ]
  },
  {
   "cell_type": "markdown",
   "metadata": {},
   "source": [
    "#### Explore the Model"
   ]
  },
  {
   "cell_type": "code",
   "execution_count": 22,
   "metadata": {},
   "outputs": [
    {
     "name": "stderr",
     "output_type": "stream",
     "text": [
      "/opt/conda/lib/python3.6/site-packages/ipykernel_launcher.py:1: DeprecationWarning: Call to deprecated `most_similar` (Method will be removed in 4.0.0, use self.wv.most_similar() instead).\n",
      "  \"\"\"Entry point for launching an IPython kernel.\n"
     ]
    },
    {
     "data": {
      "text/plain": [
       "[('heel', 0.9982264637947083),\n",
       " ('uur', 0.998160719871521),\n",
       " ('apparaat', 0.9980355501174927),\n",
       " ('maand', 0.9979389905929565),\n",
       " ('veel', 0.9979153275489807),\n",
       " ('huis', 0.9978872537612915),\n",
       " ('iets', 0.9978526830673218),\n",
       " ('duurt', 0.9978247880935669),\n",
       " ('vervangen', 0.9978152513504028),\n",
       " ('tweede', 0.9977284669876099)]"
      ]
     },
     "execution_count": 22,
     "metadata": {},
     "output_type": "execute_result"
    }
   ],
   "source": [
    "model.most_similar('Waarom')"
   ]
  },
  {
   "cell_type": "code",
   "execution_count": 7,
   "metadata": {},
   "outputs": [
    {
     "name": "stderr",
     "output_type": "stream",
     "text": [
      "/opt/conda/lib/python3.6/site-packages/ipykernel_launcher.py:1: DeprecationWarning: Call to deprecated `most_similar` (Method will be removed in 4.0.0, use self.wv.most_similar() instead).\n",
      "  \"\"\"Entry point for launching an IPython kernel.\n"
     ]
    },
    {
     "data": {
      "text/plain": [
       "[('volgens', 0.9934536218643188),\n",
       " ('gebruikt', 0.9933327436447144),\n",
       " ('dezelfde', 0.9930551648139954),\n",
       " ('meer', 0.9926056861877441),\n",
       " ('Siemens', 0.9925239086151123),\n",
       " ('ik', 0.9924845695495605),\n",
       " ('degelijk', 0.9922384023666382),\n",
       " ('zuinig', 0.9917610883712769),\n",
       " ('wat', 0.9917236566543579),\n",
       " ('zegt', 0.9914828538894653)]"
      ]
     },
     "execution_count": 7,
     "metadata": {},
     "output_type": "execute_result"
    }
   ],
   "source": [
    "model.most_similar(positive=['droger', 'onzuinig'], negative=['A++'])"
   ]
  },
  {
   "cell_type": "code",
   "execution_count": 8,
   "metadata": {},
   "outputs": [
    {
     "name": "stderr",
     "output_type": "stream",
     "text": [
      "/opt/conda/lib/python3.6/site-packages/ipykernel_launcher.py:1: DeprecationWarning: Call to deprecated `most_similar` (Method will be removed in 4.0.0, use self.wv.most_similar() instead).\n",
      "  \"\"\"Entry point for launching an IPython kernel.\n"
     ]
    },
    {
     "data": {
      "text/plain": [
       "[('vriezer', 0.9890153408050537),\n",
       " ('lager', 0.9889931678771973),\n",
       " ('verbruik', 0.9881815314292908),\n",
       " ('te', 0.9876009821891785),\n",
       " ('vaatwasser', 0.9872927665710449),\n",
       " ('ingevuld', 0.9872103333473206),\n",
       " ('wasmachine', 0.9871746301651001),\n",
       " ('zonder', 0.9870684146881104),\n",
       " ('en', 0.987014651298523),\n",
       " ('aan', 0.9869326949119568)]"
      ]
     },
     "execution_count": 8,
     "metadata": {},
     "output_type": "execute_result"
    }
   ],
   "source": [
    "model.most_similar(positive=['koelkast','1'], negative=['koelkasten'])"
   ]
  },
  {
   "cell_type": "markdown",
   "metadata": {},
   "source": [
    "#### Reduce word vector dimensionality with t-SNE"
   ]
  },
  {
   "cell_type": "markdown",
   "metadata": {},
   "source": [
    "t-Distributed Stochastic Name Embedding"
   ]
  },
  {
   "cell_type": "code",
   "execution_count": 9,
   "metadata": {},
   "outputs": [
    {
     "data": {
      "text/plain": [
       "400"
      ]
     },
     "execution_count": 9,
     "metadata": {},
     "output_type": "execute_result"
    }
   ],
   "source": [
    "len(model.wv.vocab)"
   ]
  },
  {
   "cell_type": "code",
   "execution_count": 10,
   "metadata": {},
   "outputs": [
    {
     "name": "stderr",
     "output_type": "stream",
     "text": [
      "/opt/conda/lib/python3.6/site-packages/ipykernel_launcher.py:1: DeprecationWarning: Call to deprecated `__getitem__` (Method will be removed in 4.0.0, use self.wv.__getitem__() instead).\n",
      "  \"\"\"Entry point for launching an IPython kernel.\n"
     ]
    }
   ],
   "source": [
    "X = model[model.wv.vocab]"
   ]
  },
  {
   "cell_type": "code",
   "execution_count": 11,
   "metadata": {},
   "outputs": [],
   "source": [
    "tsne = TSNE(n_components=2, n_iter=250)"
   ]
  },
  {
   "cell_type": "code",
   "execution_count": 12,
   "metadata": {},
   "outputs": [],
   "source": [
    "X_2d = tsne.fit_transform(X)"
   ]
  },
  {
   "cell_type": "code",
   "execution_count": 13,
   "metadata": {},
   "outputs": [],
   "source": [
    "coords_df = pd.DataFrame(X_2d, columns=['x', 'y'])\n",
    "coords_df['token'] = model.wv.vocab.keys()"
   ]
  },
  {
   "cell_type": "code",
   "execution_count": 14,
   "metadata": {},
   "outputs": [
    {
     "data": {
      "text/html": [
       "<div>\n",
       "<style scoped>\n",
       "    .dataframe tbody tr th:only-of-type {\n",
       "        vertical-align: middle;\n",
       "    }\n",
       "\n",
       "    .dataframe tbody tr th {\n",
       "        vertical-align: top;\n",
       "    }\n",
       "\n",
       "    .dataframe thead th {\n",
       "        text-align: right;\n",
       "    }\n",
       "</style>\n",
       "<table border=\"1\" class=\"dataframe\">\n",
       "  <thead>\n",
       "    <tr style=\"text-align: right;\">\n",
       "      <th></th>\n",
       "      <th>x</th>\n",
       "      <th>y</th>\n",
       "      <th>token</th>\n",
       "    </tr>\n",
       "  </thead>\n",
       "  <tbody>\n",
       "    <tr>\n",
       "      <th>0</th>\n",
       "      <td>2.272964</td>\n",
       "      <td>0.165535</td>\n",
       "      <td>Deze</td>\n",
       "    </tr>\n",
       "    <tr>\n",
       "      <th>1</th>\n",
       "      <td>-0.526294</td>\n",
       "      <td>-0.140893</td>\n",
       "      <td>droger</td>\n",
       "    </tr>\n",
       "    <tr>\n",
       "      <th>2</th>\n",
       "      <td>1.987803</td>\n",
       "      <td>-0.089416</td>\n",
       "      <td>is</td>\n",
       "    </tr>\n",
       "    <tr>\n",
       "      <th>3</th>\n",
       "      <td>-0.805704</td>\n",
       "      <td>0.255777</td>\n",
       "      <td>niet</td>\n",
       "    </tr>\n",
       "    <tr>\n",
       "      <th>4</th>\n",
       "      <td>0.267648</td>\n",
       "      <td>-0.186815</td>\n",
       "      <td>zuinig</td>\n",
       "    </tr>\n",
       "  </tbody>\n",
       "</table>\n",
       "</div>"
      ],
      "text/plain": [
       "          x         y   token\n",
       "0  2.272964  0.165535    Deze\n",
       "1 -0.526294 -0.140893  droger\n",
       "2  1.987803 -0.089416      is\n",
       "3 -0.805704  0.255777    niet\n",
       "4  0.267648 -0.186815  zuinig"
      ]
     },
     "execution_count": 14,
     "metadata": {},
     "output_type": "execute_result"
    }
   ],
   "source": [
    "coords_df.head()"
   ]
  },
  {
   "cell_type": "code",
   "execution_count": 15,
   "metadata": {},
   "outputs": [],
   "source": [
    "coords_df.to_csv('toon_feedback_tsne.csv', index=False)"
   ]
  },
  {
   "cell_type": "markdown",
   "metadata": {},
   "source": [
    "#### Visualise 2D representation of word vectors"
   ]
  },
  {
   "cell_type": "code",
   "execution_count": 16,
   "metadata": {},
   "outputs": [],
   "source": [
    "coorrds_df = pd.read_csv('toon_feedback_tsne.csv')"
   ]
  },
  {
   "cell_type": "code",
   "execution_count": 17,
   "metadata": {},
   "outputs": [
    {
     "data": {
      "text/html": [
       "<div>\n",
       "<style scoped>\n",
       "    .dataframe tbody tr th:only-of-type {\n",
       "        vertical-align: middle;\n",
       "    }\n",
       "\n",
       "    .dataframe tbody tr th {\n",
       "        vertical-align: top;\n",
       "    }\n",
       "\n",
       "    .dataframe thead th {\n",
       "        text-align: right;\n",
       "    }\n",
       "</style>\n",
       "<table border=\"1\" class=\"dataframe\">\n",
       "  <thead>\n",
       "    <tr style=\"text-align: right;\">\n",
       "      <th></th>\n",
       "      <th>x</th>\n",
       "      <th>y</th>\n",
       "      <th>token</th>\n",
       "    </tr>\n",
       "  </thead>\n",
       "  <tbody>\n",
       "    <tr>\n",
       "      <th>0</th>\n",
       "      <td>2.272964</td>\n",
       "      <td>0.165535</td>\n",
       "      <td>Deze</td>\n",
       "    </tr>\n",
       "    <tr>\n",
       "      <th>1</th>\n",
       "      <td>-0.526294</td>\n",
       "      <td>-0.140893</td>\n",
       "      <td>droger</td>\n",
       "    </tr>\n",
       "    <tr>\n",
       "      <th>2</th>\n",
       "      <td>1.987803</td>\n",
       "      <td>-0.089416</td>\n",
       "      <td>is</td>\n",
       "    </tr>\n",
       "    <tr>\n",
       "      <th>3</th>\n",
       "      <td>-0.805704</td>\n",
       "      <td>0.255777</td>\n",
       "      <td>niet</td>\n",
       "    </tr>\n",
       "    <tr>\n",
       "      <th>4</th>\n",
       "      <td>0.267648</td>\n",
       "      <td>-0.186815</td>\n",
       "      <td>zuinig</td>\n",
       "    </tr>\n",
       "  </tbody>\n",
       "</table>\n",
       "</div>"
      ],
      "text/plain": [
       "          x         y   token\n",
       "0  2.272964  0.165535    Deze\n",
       "1 -0.526294 -0.140893  droger\n",
       "2  1.987803 -0.089416      is\n",
       "3 -0.805704  0.255777    niet\n",
       "4  0.267648 -0.186815  zuinig"
      ]
     },
     "execution_count": 17,
     "metadata": {},
     "output_type": "execute_result"
    }
   ],
   "source": [
    "coords_df.head()"
   ]
  },
  {
   "cell_type": "code",
   "execution_count": 18,
   "metadata": {},
   "outputs": [
    {
     "data": {
      "image/png": "[encoded data removed]",
      "text/plain": [
       "<matplotlib.figure.Figure at 0x7f60e00164e0>"
      ]
     },
     "metadata": {},
     "output_type": "display_data"
    }
   ],
   "source": [
    "_ = coords_df.plot.scatter('x', 'y', figsize=(8,8), marker='o', s=10, alpha=0.2)"
   ]
  },
  {
   "cell_type": "code",
   "execution_count": 19,
   "metadata": {},
   "outputs": [
    {
     "data": {
      "text/html": [
       "\n",
       "    <div class=\"bk-root\">\n",
       "        <a href=\"https://bokeh.pydata.org\" target=\"_blank\" class=\"bk-logo bk-logo-small bk-logo-notebook\"></a>\n",
       "        <span id=\"de426aac-7ec8-4f79-855e-cd63456ddf98\">Loading BokehJS ...</span>\n",
       "    </div>"
      ]
     },
     "metadata": {},
     "output_type": "display_data"
    },
    {
     "data": {
      "application/javascript": [
       "\n",
       "(function(root) {\n",
       "  function now() {\n",
       "    return new Date();\n",
       "  }\n",
       "\n",
       "  var force = true;\n",
       "\n",
       "  if (typeof (root._bokeh_onload_callbacks) === \"undefined\" || force === true) {\n",
       "    root._bokeh_onload_callbacks = [];\n",
       "    root._bokeh_is_loading = undefined;\n",
       "  }\n",
       "\n",
       "  var JS_MIME_TYPE = 'application/javascript';\n",
       "  var HTML_MIME_TYPE = 'text/html';\n",
       "  var EXEC_MIME_TYPE = 'application/vnd.bokehjs_exec.v0+json';\n",
       "  var CLASS_NAME = 'output_bokeh rendered_html';\n",
       "\n",
       "  /**\n",
       "   * Render data to the DOM node\n",
       "   */\n",
       "  function render(props, node) {\n",
       "    var script = document.createElement(\"script\");\n",
       "    node.appendChild(script);\n",
       "  }\n",
       "\n",
       "  /**\n",
       "   * Handle when an output is cleared or removed\n",
       "   */\n",
       "  function handleClearOutput(event, handle) {\n",
       "    var cell = handle.cell;\n",
       "\n",
       "    var id = cell.output_area._bokeh_element_id;\n",
       "    var server_id = cell.output_area._bokeh_server_id;\n",
       "    // Clean up Bokeh references\n",
       "    if (id !== undefined) {\n",
       "      Bokeh.index[id].model.document.clear();\n",
       "      delete Bokeh.index[id];\n",
       "    }\n",
       "\n",
       "    if (server_id !== undefined) {\n",
       "      // Clean up Bokeh references\n",
       "      var cmd = \"from bokeh.io.state import curstate; print(curstate().uuid_to_server['\" + server_id + \"'].get_sessions()[0].document.roots[0]._id)\";\n",
       "      cell.notebook.kernel.execute(cmd, {\n",
       "        iopub: {\n",
       "          output: function(msg) {\n",
       "            var element_id = msg.content.text.trim();\n",
       "            Bokeh.index[element_id].model.document.clear();\n",
       "            delete Bokeh.index[element_id];\n",
       "          }\n",
       "        }\n",
       "      });\n",
       "      // Destroy server and session\n",
       "      var cmd = \"import bokeh.io.notebook as ion; ion.destroy_server('\" + server_id + \"')\";\n",
       "      cell.notebook.kernel.execute(cmd);\n",
       "    }\n",
       "  }\n",
       "\n",
       "  /**\n",
       "   * Handle when a new output is added\n",
       "   */\n",
       "  function handleAddOutput(event, handle) {\n",
       "    var output_area = handle.output_area;\n",
       "    var output = handle.output;\n",
       "\n",
       "    // limit handleAddOutput to display_data with EXEC_MIME_TYPE content only\n",
       "    if ((output.output_type != \"display_data\") || (!output.data.hasOwnProperty(EXEC_MIME_TYPE))) {\n",
       "      return\n",
       "    }\n",
       "\n",
       "    var toinsert = output_area.element.find(\".\" + CLASS_NAME.split(' ')[0]);\n",
       "\n",
       "    if (output.metadata[EXEC_MIME_TYPE][\"id\"] !== undefined) {\n",
       "      toinsert[toinsert.length - 1].firstChild.textContent = output.data[JS_MIME_TYPE];\n",
       "      // store reference to embed id on output_area\n",
       "      output_area._bokeh_element_id = output.metadata[EXEC_MIME_TYPE][\"id\"];\n",
       "    }\n",
       "    if (output.metadata[EXEC_MIME_TYPE][\"server_id\"] !== undefined) {\n",
       "      var bk_div = document.createElement(\"div\");\n",
       "      bk_div.innerHTML = output.data[HTML_MIME_TYPE];\n",
       "      var script_attrs = bk_div.children[0].attributes;\n",
       "      for (var i = 0; i < script_attrs.length; i++) {\n",
       "        toinsert[toinsert.length - 1].firstChild.setAttribute(script_attrs[i].name, script_attrs[i].value);\n",
       "      }\n",
       "      // store reference to server id on output_area\n",
       "      output_area._bokeh_server_id = output.metadata[EXEC_MIME_TYPE][\"server_id\"];\n",
       "    }\n",
       "  }\n",
       "\n",
       "  function register_renderer(events, OutputArea) {\n",
       "\n",
       "    function append_mime(data, metadata, element) {\n",
       "      // create a DOM node to render to\n",
       "      var toinsert = this.create_output_subarea(\n",
       "        metadata,\n",
       "        CLASS_NAME,\n",
       "        EXEC_MIME_TYPE\n",
       "      );\n",
       "      this.keyboard_manager.register_events(toinsert);\n",
       "      // Render to node\n",
       "      var props = {data: data, metadata: metadata[EXEC_MIME_TYPE]};\n",
       "      render(props, toinsert[toinsert.length - 1]);\n",
       "      element.append(toinsert);\n",
       "      return toinsert\n",
       "    }\n",
       "\n",
       "    /* Handle when an output is cleared or removed */\n",
       "    events.on('clear_output.CodeCell', handleClearOutput);\n",
       "    events.on('delete.Cell', handleClearOutput);\n",
       "\n",
       "    /* Handle when a new output is added */\n",
       "    events.on('output_added.OutputArea', handleAddOutput);\n",
       "\n",
       "    /**\n",
       "     * Register the mime type and append_mime function with output_area\n",
       "     */\n",
       "    OutputArea.prototype.register_mime_type(EXEC_MIME_TYPE, append_mime, {\n",
       "      /* Is output safe? */\n",
       "      safe: true,\n",
       "      /* Index of renderer in `output_area.display_order` */\n",
       "      index: 0\n",
       "    });\n",
       "  }\n",
       "\n",
       "  // register the mime type if in Jupyter Notebook environment and previously unregistered\n",
       "  if (root.Jupyter !== undefined) {\n",
       "    var events = require('base/js/events');\n",
       "    var OutputArea = require('notebook/js/outputarea').OutputArea;\n",
       "\n",
       "    if (OutputArea.prototype.mime_types().indexOf(EXEC_MIME_TYPE) == -1) {\n",
       "      register_renderer(events, OutputArea);\n",
       "    }\n",
       "  }\n",
       "\n",
       "  \n",
       "  if (typeof (root._bokeh_timeout) === \"undefined\" || force === true) {\n",
       "    root._bokeh_timeout = Date.now() + 5000;\n",
       "    root._bokeh_failed_load = false;\n",
       "  }\n",
       "\n",
       "  var NB_LOAD_WARNING = {'data': {'text/html':\n",
       "     \"<div style='background-color: #fdd'>\\n\"+\n",
       "     \"<p>\\n\"+\n",
       "     \"BokehJS does not appear to have successfully loaded. If loading BokehJS from CDN, this \\n\"+\n",
       "     \"may be due to a slow or bad network connection. Possible fixes:\\n\"+\n",
       "     \"</p>\\n\"+\n",
       "     \"<ul>\\n\"+\n",
       "     \"<li>re-rerun `output_notebook()` to attempt to load from CDN again, or</li>\\n\"+\n",
       "     \"<li>use INLINE resources instead, as so:</li>\\n\"+\n",
       "     \"</ul>\\n\"+\n",
       "     \"<code>\\n\"+\n",
       "     \"from bokeh.resources import INLINE\\n\"+\n",
       "     \"output_notebook(resources=INLINE)\\n\"+\n",
       "     \"</code>\\n\"+\n",
       "     \"</div>\"}};\n",
       "\n",
       "  function display_loaded() {\n",
       "    var el = document.getElementById(\"de426aac-7ec8-4f79-855e-cd63456ddf98\");\n",
       "    if (el != null) {\n",
       "      el.textContent = \"BokehJS is loading...\";\n",
       "    }\n",
       "    if (root.Bokeh !== undefined) {\n",
       "      if (el != null) {\n",
       "        el.textContent = \"BokehJS \" + root.Bokeh.version + \" successfully loaded.\";\n",
       "      }\n",
       "    } else if (Date.now() < root._bokeh_timeout) {\n",
       "      setTimeout(display_loaded, 100)\n",
       "    }\n",
       "  }\n",
       "\n",
       "\n",
       "  function run_callbacks() {\n",
       "    try {\n",
       "      root._bokeh_onload_callbacks.forEach(function(callback) { callback() });\n",
       "    }\n",
       "    finally {\n",
       "      delete root._bokeh_onload_callbacks\n",
       "    }\n",
       "    console.info(\"Bokeh: all callbacks have finished\");\n",
       "  }\n",
       "\n",
       "  function load_libs(js_urls, callback) {\n",
       "    root._bokeh_onload_callbacks.push(callback);\n",
       "    if (root._bokeh_is_loading > 0) {\n",
       "      console.log(\"Bokeh: BokehJS is being loaded, scheduling callback at\", now());\n",
       "      return null;\n",
       "    }\n",
       "    if (js_urls == null || js_urls.length === 0) {\n",
       "      run_callbacks();\n",
       "      return null;\n",
       "    }\n",
       "    console.log(\"Bokeh: BokehJS not loaded, scheduling load and callback at\", now());\n",
       "    root._bokeh_is_loading = js_urls.length;\n",
       "    for (var i = 0; i < js_urls.length; i++) {\n",
       "      var url = js_urls[i];\n",
       "      var s = document.createElement('script');\n",
       "      s.src = url;\n",
       "      s.async = false;\n",
       "      s.onreadystatechange = s.onload = function() {\n",
       "        root._bokeh_is_loading--;\n",
       "        if (root._bokeh_is_loading === 0) {\n",
       "          console.log(\"Bokeh: all BokehJS libraries loaded\");\n",
       "          run_callbacks()\n",
       "        }\n",
       "      };\n",
       "      s.onerror = function() {\n",
       "        console.warn(\"failed to load library \" + url);\n",
       "      };\n",
       "      console.log(\"Bokeh: injecting script tag for BokehJS library: \", url);\n",
       "      document.getElementsByTagName(\"head\")[0].appendChild(s);\n",
       "    }\n",
       "  };var element = document.getElementById(\"de426aac-7ec8-4f79-855e-cd63456ddf98\");\n",
       "  if (element == null) {\n",
       "    console.log(\"Bokeh: ERROR: autoload.js configured with elementid 'de426aac-7ec8-4f79-855e-cd63456ddf98' but no matching script tag was found. \")\n",
       "    return false;\n",
       "  }\n",
       "\n",
       "  var js_urls = [\"https://cdn.pydata.org/bokeh/release/bokeh-0.12.15.min.js\", \"https://cdn.pydata.org/bokeh/release/bokeh-widgets-0.12.15.min.js\", \"https://cdn.pydata.org/bokeh/release/bokeh-tables-0.12.15.min.js\", \"https://cdn.pydata.org/bokeh/release/bokeh-gl-0.12.15.min.js\"];\n",
       "\n",
       "  var inline_js = [\n",
       "    function(Bokeh) {\n",
       "      Bokeh.set_log_level(\"info\");\n",
       "    },\n",
       "    \n",
       "    function(Bokeh) {\n",
       "      \n",
       "    },\n",
       "    function(Bokeh) {\n",
       "      console.log(\"Bokeh: injecting CSS: https://cdn.pydata.org/bokeh/release/bokeh-0.12.15.min.css\");\n",
       "      Bokeh.embed.inject_css(\"https://cdn.pydata.org/bokeh/release/bokeh-0.12.15.min.css\");\n",
       "      console.log(\"Bokeh: injecting CSS: https://cdn.pydata.org/bokeh/release/bokeh-widgets-0.12.15.min.css\");\n",
       "      Bokeh.embed.inject_css(\"https://cdn.pydata.org/bokeh/release/bokeh-widgets-0.12.15.min.css\");\n",
       "      console.log(\"Bokeh: injecting CSS: https://cdn.pydata.org/bokeh/release/bokeh-tables-0.12.15.min.css\");\n",
       "      Bokeh.embed.inject_css(\"https://cdn.pydata.org/bokeh/release/bokeh-tables-0.12.15.min.css\");\n",
       "    }\n",
       "  ];\n",
       "\n",
       "  function run_inline_js() {\n",
       "    \n",
       "    if ((root.Bokeh !== undefined) || (force === true)) {\n",
       "      for (var i = 0; i < inline_js.length; i++) {\n",
       "        inline_js[i].call(root, root.Bokeh);\n",
       "      }if (force === true) {\n",
       "        display_loaded();\n",
       "      }} else if (Date.now() < root._bokeh_timeout) {\n",
       "      setTimeout(run_inline_js, 100);\n",
       "    } else if (!root._bokeh_failed_load) {\n",
       "      console.log(\"Bokeh: BokehJS failed to load within specified timeout.\");\n",
       "      root._bokeh_failed_load = true;\n",
       "    } else if (force !== true) {\n",
       "      var cell = $(document.getElementById(\"de426aac-7ec8-4f79-855e-cd63456ddf98\")).parents('.cell').data().cell;\n",
       "      cell.output_area.append_execute_result(NB_LOAD_WARNING)\n",
       "    }\n",
       "\n",
       "  }\n",
       "\n",
       "  if (root._bokeh_is_loading === 0) {\n",
       "    console.log(\"Bokeh: BokehJS loaded, going straight to plotting\");\n",
       "    run_inline_js();\n",
       "  } else {\n",
       "    load_libs(js_urls, function() {\n",
       "      console.log(\"Bokeh: BokehJS plotting callback run at\", now());\n",
       "      run_inline_js();\n",
       "    });\n",
       "  }\n",
       "}(window));"
      ],
      "application/vnd.bokehjs_load.v0+json": "\n(function(root) {\n  function now() {\n    return new Date();\n  }\n\n  var force = true;\n\n  if (typeof (root._bokeh_onload_callbacks) === \"undefined\" || force === true) {\n    root._bokeh_onload_callbacks = [];\n    root._bokeh_is_loading = undefined;\n  }\n\n  \n\n  \n  if (typeof (root._bokeh_timeout) === \"undefined\" || force === true) {\n    root._bokeh_timeout = Date.now() + 5000;\n    root._bokeh_failed_load = false;\n  }\n\n  var NB_LOAD_WARNING = {'data': {'text/html':\n     \"<div style='background-color: #fdd'>\\n\"+\n     \"<p>\\n\"+\n     \"BokehJS does not appear to have successfully loaded. If loading BokehJS from CDN, this \\n\"+\n     \"may be due to a slow or bad network connection. Possible fixes:\\n\"+\n     \"</p>\\n\"+\n     \"<ul>\\n\"+\n     \"<li>re-rerun `output_notebook()` to attempt to load from CDN again, or</li>\\n\"+\n     \"<li>use INLINE resources instead, as so:</li>\\n\"+\n     \"</ul>\\n\"+\n     \"<code>\\n\"+\n     \"from bokeh.resources import INLINE\\n\"+\n     \"output_notebook(resources=INLINE)\\n\"+\n     \"</code>\\n\"+\n     \"</div>\"}};\n\n  function display_loaded() {\n    var el = document.getElementById(\"de426aac-7ec8-4f79-855e-cd63456ddf98\");\n    if (el != null) {\n      el.textContent = \"BokehJS is loading...\";\n    }\n    if (root.Bokeh !== undefined) {\n      if (el != null) {\n        el.textContent = \"BokehJS \" + root.Bokeh.version + \" successfully loaded.\";\n      }\n    } else if (Date.now() < root._bokeh_timeout) {\n      setTimeout(display_loaded, 100)\n    }\n  }\n\n\n  function run_callbacks() {\n    try {\n      root._bokeh_onload_callbacks.forEach(function(callback) { callback() });\n    }\n    finally {\n      delete root._bokeh_onload_callbacks\n    }\n    console.info(\"Bokeh: all callbacks have finished\");\n  }\n\n  function load_libs(js_urls, callback) {\n    root._bokeh_onload_callbacks.push(callback);\n    if (root._bokeh_is_loading > 0) {\n      console.log(\"Bokeh: BokehJS is being loaded, scheduling callback at\", now());\n      return null;\n    }\n    if (js_urls == null || js_urls.length === 0) {\n      run_callbacks();\n      return null;\n    }\n    console.log(\"Bokeh: BokehJS not loaded, scheduling load and callback at\", now());\n    root._bokeh_is_loading = js_urls.length;\n    for (var i = 0; i < js_urls.length; i++) {\n      var url = js_urls[i];\n      var s = document.createElement('script');\n      s.src = url;\n      s.async = false;\n      s.onreadystatechange = s.onload = function() {\n        root._bokeh_is_loading--;\n        if (root._bokeh_is_loading === 0) {\n          console.log(\"Bokeh: all BokehJS libraries loaded\");\n          run_callbacks()\n        }\n      };\n      s.onerror = function() {\n        console.warn(\"failed to load library \" + url);\n      };\n      console.log(\"Bokeh: injecting script tag for BokehJS library: \", url);\n      document.getElementsByTagName(\"head\")[0].appendChild(s);\n    }\n  };var element = document.getElementById(\"de426aac-7ec8-4f79-855e-cd63456ddf98\");\n  if (element == null) {\n    console.log(\"Bokeh: ERROR: autoload.js configured with elementid 'de426aac-7ec8-4f79-855e-cd63456ddf98' but no matching script tag was found. \")\n    return false;\n  }\n\n  var js_urls = [\"https://cdn.pydata.org/bokeh/release/bokeh-0.12.15.min.js\", \"https://cdn.pydata.org/bokeh/release/bokeh-widgets-0.12.15.min.js\", \"https://cdn.pydata.org/bokeh/release/bokeh-tables-0.12.15.min.js\", \"https://cdn.pydata.org/bokeh/release/bokeh-gl-0.12.15.min.js\"];\n\n  var inline_js = [\n    function(Bokeh) {\n      Bokeh.set_log_level(\"info\");\n    },\n    \n    function(Bokeh) {\n      \n    },\n    function(Bokeh) {\n      console.log(\"Bokeh: injecting CSS: https://cdn.pydata.org/bokeh/release/bokeh-0.12.15.min.css\");\n      Bokeh.embed.inject_css(\"https://cdn.pydata.org/bokeh/release/bokeh-0.12.15.min.css\");\n      console.log(\"Bokeh: injecting CSS: https://cdn.pydata.org/bokeh/release/bokeh-widgets-0.12.15.min.css\");\n      Bokeh.embed.inject_css(\"https://cdn.pydata.org/bokeh/release/bokeh-widgets-0.12.15.min.css\");\n      console.log(\"Bokeh: injecting CSS: https://cdn.pydata.org/bokeh/release/bokeh-tables-0.12.15.min.css\");\n      Bokeh.embed.inject_css(\"https://cdn.pydata.org/bokeh/release/bokeh-tables-0.12.15.min.css\");\n    }\n  ];\n\n  function run_inline_js() {\n    \n    if ((root.Bokeh !== undefined) || (force === true)) {\n      for (var i = 0; i < inline_js.length; i++) {\n        inline_js[i].call(root, root.Bokeh);\n      }if (force === true) {\n        display_loaded();\n      }} else if (Date.now() < root._bokeh_timeout) {\n      setTimeout(run_inline_js, 100);\n    } else if (!root._bokeh_failed_load) {\n      console.log(\"Bokeh: BokehJS failed to load within specified timeout.\");\n      root._bokeh_failed_load = true;\n    } else if (force !== true) {\n      var cell = $(document.getElementById(\"de426aac-7ec8-4f79-855e-cd63456ddf98\")).parents('.cell').data().cell;\n      cell.output_area.append_execute_result(NB_LOAD_WARNING)\n    }\n\n  }\n\n  if (root._bokeh_is_loading === 0) {\n    console.log(\"Bokeh: BokehJS loaded, going straight to plotting\");\n    run_inline_js();\n  } else {\n    load_libs(js_urls, function() {\n      console.log(\"Bokeh: BokehJS plotting callback run at\", now());\n      run_inline_js();\n    });\n  }\n}(window));"
     },
     "metadata": {},
     "output_type": "display_data"
    }
   ],
   "source": [
    "output_notebook()"
   ]
  },
  {
   "cell_type": "code",
   "execution_count": 20,
   "metadata": {},
   "outputs": [
    {
     "data": {
      "text/html": [
       "<div style=\"display: table;\"><div style=\"display: table-row;\"><div style=\"display: table-cell;\"><b title=\"bokeh.models.renderers.GlyphRenderer\">GlyphRenderer</b>(</div><div style=\"display: table-cell;\">id&nbsp;=&nbsp;'3b02a701-17c6-48fe-a9c8-0257a6c6535f', <span id=\"9d4becb2-d3e4-48a3-8762-cbff39cb52f9\" style=\"cursor: pointer;\">&hellip;)</span></div></div><div class=\"809ecedc-cd75-4b94-888e-961caed77e49\" style=\"display: none;\"><div style=\"display: table-cell;\"></div><div style=\"display: table-cell;\">data_source&nbsp;=&nbsp;ColumnDataSource(id='5703c6d2-4210-4d1c-a76f-c58ea924de1f', ...),</div></div><div class=\"809ecedc-cd75-4b94-888e-961caed77e49\" style=\"display: none;\"><div style=\"display: table-cell;\"></div><div style=\"display: table-cell;\">glyph&nbsp;=&nbsp;Text(id='3774b32d-7f17-461b-a7f9-883c17427dd6', ...),</div></div><div class=\"809ecedc-cd75-4b94-888e-961caed77e49\" style=\"display: none;\"><div style=\"display: table-cell;\"></div><div style=\"display: table-cell;\">hover_glyph&nbsp;=&nbsp;None,</div></div><div class=\"809ecedc-cd75-4b94-888e-961caed77e49\" style=\"display: none;\"><div style=\"display: table-cell;\"></div><div style=\"display: table-cell;\">js_event_callbacks&nbsp;=&nbsp;{},</div></div><div class=\"809ecedc-cd75-4b94-888e-961caed77e49\" style=\"display: none;\"><div style=\"display: table-cell;\"></div><div style=\"display: table-cell;\">js_property_callbacks&nbsp;=&nbsp;{},</div></div><div class=\"809ecedc-cd75-4b94-888e-961caed77e49\" style=\"display: none;\"><div style=\"display: table-cell;\"></div><div style=\"display: table-cell;\">level&nbsp;=&nbsp;'glyph',</div></div><div class=\"809ecedc-cd75-4b94-888e-961caed77e49\" style=\"display: none;\"><div style=\"display: table-cell;\"></div><div style=\"display: table-cell;\">muted&nbsp;=&nbsp;False,</div></div><div class=\"809ecedc-cd75-4b94-888e-961caed77e49\" style=\"display: none;\"><div style=\"display: table-cell;\"></div><div style=\"display: table-cell;\">muted_glyph&nbsp;=&nbsp;None,</div></div><div class=\"809ecedc-cd75-4b94-888e-961caed77e49\" style=\"display: none;\"><div style=\"display: table-cell;\"></div><div style=\"display: table-cell;\">name&nbsp;=&nbsp;None,</div></div><div class=\"809ecedc-cd75-4b94-888e-961caed77e49\" style=\"display: none;\"><div style=\"display: table-cell;\"></div><div style=\"display: table-cell;\">nonselection_glyph&nbsp;=&nbsp;Text(id='554f3d0e-680c-4543-a530-27b5db63c482', ...),</div></div><div class=\"809ecedc-cd75-4b94-888e-961caed77e49\" style=\"display: none;\"><div style=\"display: table-cell;\"></div><div style=\"display: table-cell;\">selection_glyph&nbsp;=&nbsp;None,</div></div><div class=\"809ecedc-cd75-4b94-888e-961caed77e49\" style=\"display: none;\"><div style=\"display: table-cell;\"></div><div style=\"display: table-cell;\">subscribed_events&nbsp;=&nbsp;[],</div></div><div class=\"809ecedc-cd75-4b94-888e-961caed77e49\" style=\"display: none;\"><div style=\"display: table-cell;\"></div><div style=\"display: table-cell;\">tags&nbsp;=&nbsp;[],</div></div><div class=\"809ecedc-cd75-4b94-888e-961caed77e49\" style=\"display: none;\"><div style=\"display: table-cell;\"></div><div style=\"display: table-cell;\">view&nbsp;=&nbsp;CDSView(id='74f016ff-c973-46cc-a0ee-e67f3397ad32', ...),</div></div><div class=\"809ecedc-cd75-4b94-888e-961caed77e49\" style=\"display: none;\"><div style=\"display: table-cell;\"></div><div style=\"display: table-cell;\">visible&nbsp;=&nbsp;True,</div></div><div class=\"809ecedc-cd75-4b94-888e-961caed77e49\" style=\"display: none;\"><div style=\"display: table-cell;\"></div><div style=\"display: table-cell;\">x_range_name&nbsp;=&nbsp;'default',</div></div><div class=\"809ecedc-cd75-4b94-888e-961caed77e49\" style=\"display: none;\"><div style=\"display: table-cell;\"></div><div style=\"display: table-cell;\">y_range_name&nbsp;=&nbsp;'default')</div></div></div>\n",
       "<script>\n",
       "(function() {\n",
       "  var expanded = false;\n",
       "  var ellipsis = document.getElementById(\"9d4becb2-d3e4-48a3-8762-cbff39cb52f9\");\n",
       "  ellipsis.addEventListener(\"click\", function() {\n",
       "    var rows = document.getElementsByClassName(\"809ecedc-cd75-4b94-888e-961caed77e49\");\n",
       "    for (var i = 0; i < rows.length; i++) {\n",
       "      var el = rows[i];\n",
       "      el.style.display = expanded ? \"none\" : \"table-row\";\n",
       "    }\n",
       "    ellipsis.innerHTML = expanded ? \"&hellip;)\" : \"&lsaquo;&lsaquo;&lsaquo;\";\n",
       "    expanded = !expanded;\n",
       "  });\n",
       "})();\n",
       "</script>\n"
      ],
      "text/plain": [
       "GlyphRenderer(id='3b02a701-17c6-48fe-a9c8-0257a6c6535f', ...)"
      ]
     },
     "execution_count": 20,
     "metadata": {},
     "output_type": "execute_result"
    }
   ],
   "source": [
    "p = figure(plot_width=600, plot_height=600)\n",
    "p.text(x=coords_df.x, y=coords_df.y, text=coords_df.token)"
   ]
  },
  {
   "cell_type": "code",
   "execution_count": 21,
   "metadata": {},
   "outputs": [
    {
     "data": {
      "text/html": [
       "\n",
       "<div class=\"bk-root\">\n",
       "    <div class=\"bk-plotdiv\" id=\"7c7aac6e-8317-4ab4-9a61-8b407392cf8c\"></div>\n",
       "</div>"
      ]
     },
     "metadata": {},
     "output_type": "display_data"
    },
    {
     "data": {
      "application/javascript": [
       "(function(root) {\n",
       "  function embed_document(root) {\n",
       "    \n",
       "  var docs_json = {\"9e377e9f-78aa-45a7-81ea-a810ad5ea7b0\":{\"roots\":{\"references\":[{\"attributes\":{\"formatter\":{\"id\":\"6487dbc6-c5f9-4614-ac09-a24819b884d6\",\"type\":\"BasicTickFormatter\"},\"plot\":{\"id\":\"ed843000-bf40-4feb-b263-f655aacc67ab\",\"subtype\":\"Figure\",\"type\":\"Plot\"},\"ticker\":{\"id\":\"95491b2f-3e9d-4820-8688-79e154decd70\",\"type\":\"BasicTicker\"}},\"id\":\"991c7643-9bf6-47c5-baa7-fe2d53d5922c\",\"type\":\"LinearAxis\"},{\"attributes\":{},\"id\":\"777009ed-0e79-4845-94cf-a2c5001437a9\",\"type\":\"LinearScale\"},{\"attributes\":{},\"id\":\"c0ed4ba3-e00e-46b0-9b78-736d627d141e\",\"type\":\"HelpTool\"},{\"attributes\":{\"text_color\":{\"value\":\"black\"},\"x\":{\"field\":\"x\"},\"y\":{\"field\":\"y\"}},\"id\":\"3774b32d-7f17-461b-a7f9-883c17427dd6\",\"type\":\"Text\"},{\"attributes\":{\"callback\":null,\"column_names\":[\"x\",\"y\",\"text\"],\"data\":{\"text\":[\"Deze\",\"droger\",\"is\",\"niet\",\"zuinig\",\"zegt\",\"toon\",\"maar\",\"hij\",\"4\",\"weken\",\"oud\",\"...\",\".\",\"label\",\"en\",\"?\",\"het\",\"een\",\"warmtepompdroger\",\"a++\",\"hoe\",\"wil\",\"je\",\"hem\",\"dan\",\"zuiniger\",\"Lijkt\",\"me\",\"te\",\"kloppen\",\"Toon\",\"waarschijnlijk\",\"apparaten\",\"door\",\"elkaar\",\"Wasmachine\",\"van\",\"goed\",\"naar\",\",\",\"terwijl\",\"deze\",\"sinds\",\"app\",\"nog\",\"gebruikt\",\"Dit\",\"Ik\",\"heb\",\"warmtepomp\",\"klopt\",\"niets\",\"Het\",\"nieuwe\",\"wasmachine\",\"kan\",\"dat\",\"januari\",\"was\",\"mijn\",\"effici\\u00ebnt\",\"nu\",\"ineens\",\"ineffici\\u00ebnt\",\"Hoe\",\"Sinds\",\"vandaag\",\"dit\",\"geen\",\"wasdroger\",\"vindt\",\"ik\",\"gewoon\",\"de\",\"buiten\",\"vaatwasser\",\"met\",\"hand\",\"erg\",\"veel\",\"voor\",\"apparaat\",\"machine\",\"altijd\",\"op\",\"vreemd\",\"aangeeft\",\"bij\",\"Misschien\",\"beter\",\"worden\",\"als\",\"er\",\"zit\",\"thermostaat\",\"zijn\",\"gebruik\",\"De\",\"om\",\"energie\",\"in\",\"andere\",\"tot\",\"ook\",\"staan\",\"hier\",\"mij\",\"Maar\",\"wordt\",\"verspilling\",\"checker\",\"Is\",\"toe\",\"!\",\"zou\",\"onzuinig\",\"jaar\",\"heeft\",\"A++\",\"lijkt\",\"Apparaat\",\"volgens\",\"geeft\",\"aan\",\"(\",\"nieuw\",\")\",\"Heel\",\"raar\",\"Samsung\",\"Eco\",\"Dat\",\"2\",\"combinatie\",\"koelkasten\",\"vriezer\",\"Heb\",\"aparte\",\"diepvries\",\"krijg\",\"steeds\",\"melding\",\"koelkast\",\"A+++\",\"and\",\"gaat\",\"Onze\",\"al\",\"twee\",\"dus\",\"wel\",\"heel\",\"Kan\",\"verspillingschecker\",\"opnieuw\",\"losse\",\"1\",\"vervangen\",\"week\",\"laten\",\"moet\",\"ouder\",\"model\",\"I\",\"have\",\"a\",\"herkend\",\"klasse\",\"gemeten\",\"denk\",\"ziet\",\"Die\",\"wat\",\"Mijn\",\"a+++\",\"na\",\"gedraaid\",\"%\",\"combi\",\"vrieskast\",\"want\",\"alle\",\"verbruik\",\"condensdroger\",\"onze\",\"Miele\",\"kg\",\"energieklasse\",\"staat\",\":\",\"3\",\"grote\",\"vriezers\",\"die\",\"dryer\",\"vind\",\"helemaal\",\"of\",\"keuken\",\"uit\",\"graag\",\"terug\",\"alles\",\"Wellicht\",\"minder\",\"AEG\",\"gekocht\",\"oude\",\"weer\",\"aangepast\",\"We\",\"hebben\",\"eens\",\"Vreemd\",\"opwarmen\",\"zuinigste\",\"Jullie\",\"geven\",\"Vaatwasser\",\"per\",\"dag\",\"daar\",\"mee\",\"omdat\",\"Wij\",\"gebruiken\",\"soms\",\"langer\",\"nodig\",\"warmen\",\"miele\",\"eerst\",\"gas\",\"inefficient\",\"net\",\"draaien\",\"bezit\",\"water\",\"keer\",\"verwarmen\",\"doet\",\"minuten\",\"tijd\",\"14\",\"iets\",\"Bosch\",\"juist\",\"-\",\"6\",\"betreft\",\"En\",\"slang\",\"graden\",\"programma\",\"12\",\"min\",\"over\",\"zuinige\",\"verbruikt\",\"Klopt\",\"we\",\"Wat\",\"apart\",\"meest\",\"30\",\"dagen\",\"geleden\",\"warmte\",\"pomp\",\"ingesteld\",\"zeer\",\"Droger\",\"vaak\",\"ons\",\"huis\",\"alleen\",\"In\",\"eerder\",\"Hebben\",\"meer\",\"8\",\"Een\",\"toch\",\"blijft\",\"\\u2019\",\"Amerikaanse\",\"jullie\",\"stroom\",\"drie\",\"waarom\",\"zelf\",\"wassen\",\"Was\",\"temperatuur\",\"wast\",\"weet\",\"wanneer\",\"Waar\",\"laatste\",\"wij\",\"Nieuwe\",\"anders\",\"Ook\",\"enkele\",\"doen\",\"info\",\"duurt\",\"stond\",\"groen\",\"maanden\",\"eco\",\"stand\",\"koude\",\"ruimte\",\"40\",\"lang\",\"half\",\"aangeven\",\"invullen\",\"analyse\",\"Hij\",\"tip\",\"hogere\",\"temperaturen\",\"Geen\",\"zonder\",\"dezelfde\",\"boiler\",\"kunnen\",\"Bij\",\"gegevens\",\"efficient\",\"tips\",\"Waarom\",\"gemiddeld\",\"bijna\",\"af\",\"drogen\",\"maand\",\"verschil\",\"zien\",\"tweede\",\"word\",\"nieuwste\",\"A\",\"hoog\",\"koelvries\",\"tafelmodel\",\"schuur\",\"20\",\"condens\",\"zeggen\",\"koud\",\"paar\",\"echt\",\"Toch\",\"ben\",\"draait\",\"A+\",\"aquarium\",\"onzin\",\"ander\",\"kouder\",\"welke\",\"Siemens\",\"vanaf\",\"ingevuld\",\"type\",\"snap\",\"komt\",\"degelijk\",\"aangeschaft\",\"meten\",\"zie\",\"nooit\",\"zo\",\"vragen\",\"checken\",\"\\u00e9\\u00e9n\",\"Dus\",\"pas\",\"gr\",\"lager\",\"Er\",\"allemaal\",\"aangegeven\",\"x\",\"gedaan\",\"echter\",\"kort\",\"nergens\",\"komen\",\"60\",\"moeten\",\"duur\",\"bosch\",\"vinden\",\"opwarmt\",\"uur\"],\"x\":{\"__ndarray__\":\"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\",\"dtype\":\"float32\",\"shape\":[400]},\"y\":{\"__ndarray__\":\"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\",\"dtype\":\"float32\",\"shape\":[400]}},\"selected\":null,\"selection_policy\":null},\"id\":\"5703c6d2-4210-4d1c-a76f-c58ea924de1f\",\"type\":\"ColumnDataSource\"},{\"attributes\":{},\"id\":\"238e2d35-be14-4361-8391-b514e3788c28\",\"type\":\"LinearScale\"},{\"attributes\":{\"callback\":null},\"id\":\"2acaa9ec-2e0b-41d8-997f-02973104c097\",\"type\":\"DataRange1d\"},{\"attributes\":{\"plot\":{\"id\":\"ed843000-bf40-4feb-b263-f655aacc67ab\",\"subtype\":\"Figure\",\"type\":\"Plot\"},\"ticker\":{\"id\":\"2ef1cf4a-d5bd-4e45-be27-3390039451f4\",\"type\":\"BasicTicker\"}},\"id\":\"41ea3768-67ab-43b1-a761-a7e5fcddb53d\",\"type\":\"Grid\"},{\"attributes\":{\"formatter\":{\"id\":\"7f6ef388-388d-432e-8a52-a7e07fd152ff\",\"type\":\"BasicTickFormatter\"},\"plot\":{\"id\":\"ed843000-bf40-4feb-b263-f655aacc67ab\",\"subtype\":\"Figure\",\"type\":\"Plot\"},\"ticker\":{\"id\":\"2ef1cf4a-d5bd-4e45-be27-3390039451f4\",\"type\":\"BasicTicker\"}},\"id\":\"38303e23-b3b3-4f0c-bb42-d3808c418b84\",\"type\":\"LinearAxis\"},{\"attributes\":{},\"id\":\"6487dbc6-c5f9-4614-ac09-a24819b884d6\",\"type\":\"BasicTickFormatter\"},{\"attributes\":{\"below\":[{\"id\":\"38303e23-b3b3-4f0c-bb42-d3808c418b84\",\"type\":\"LinearAxis\"}],\"left\":[{\"id\":\"991c7643-9bf6-47c5-baa7-fe2d53d5922c\",\"type\":\"LinearAxis\"}],\"renderers\":[{\"id\":\"38303e23-b3b3-4f0c-bb42-d3808c418b84\",\"type\":\"LinearAxis\"},{\"id\":\"41ea3768-67ab-43b1-a761-a7e5fcddb53d\",\"type\":\"Grid\"},{\"id\":\"991c7643-9bf6-47c5-baa7-fe2d53d5922c\",\"type\":\"LinearAxis\"},{\"id\":\"7b94353a-2a75-4e2f-ae1d-935bd27f286a\",\"type\":\"Grid\"},{\"id\":\"8b609317-c04b-4eb3-995e-1ed9dbbad62b\",\"type\":\"BoxAnnotation\"},{\"id\":\"3b02a701-17c6-48fe-a9c8-0257a6c6535f\",\"type\":\"GlyphRenderer\"}],\"title\":{\"id\":\"4574ceff-2647-44e7-ae9f-d2a16c3158f9\",\"type\":\"Title\"},\"toolbar\":{\"id\":\"901d7dac-2e3e-45ee-a391-5223d6262ced\",\"type\":\"Toolbar\"},\"x_range\":{\"id\":\"d18f67f4-4a8c-4d0e-9726-c939abc7a416\",\"type\":\"DataRange1d\"},\"x_scale\":{\"id\":\"777009ed-0e79-4845-94cf-a2c5001437a9\",\"type\":\"LinearScale\"},\"y_range\":{\"id\":\"2acaa9ec-2e0b-41d8-997f-02973104c097\",\"type\":\"DataRange1d\"},\"y_scale\":{\"id\":\"238e2d35-be14-4361-8391-b514e3788c28\",\"type\":\"LinearScale\"}},\"id\":\"ed843000-bf40-4feb-b263-f655aacc67ab\",\"subtype\":\"Figure\",\"type\":\"Plot\"},{\"attributes\":{\"plot\":null,\"text\":\"\"},\"id\":\"4574ceff-2647-44e7-ae9f-d2a16c3158f9\",\"type\":\"Title\"},{\"attributes\":{},\"id\":\"2c63a433-7992-4270-9661-3705748d63c2\",\"type\":\"WheelZoomTool\"},{\"attributes\":{\"dimension\":1,\"plot\":{\"id\":\"ed843000-bf40-4feb-b263-f655aacc67ab\",\"subtype\":\"Figure\",\"type\":\"Plot\"},\"ticker\":{\"id\":\"95491b2f-3e9d-4820-8688-79e154decd70\",\"type\":\"BasicTicker\"}},\"id\":\"7b94353a-2a75-4e2f-ae1d-935bd27f286a\",\"type\":\"Grid\"},{\"attributes\":{\"bottom_units\":\"screen\",\"fill_alpha\":{\"value\":0.5},\"fill_color\":{\"value\":\"lightgrey\"},\"left_units\":\"screen\",\"level\":\"overlay\",\"line_alpha\":{\"value\":1.0},\"line_color\":{\"value\":\"black\"},\"line_dash\":[4,4],\"line_width\":{\"value\":2},\"plot\":null,\"render_mode\":\"css\",\"right_units\":\"screen\",\"top_units\":\"screen\"},\"id\":\"8b609317-c04b-4eb3-995e-1ed9dbbad62b\",\"type\":\"BoxAnnotation\"},{\"attributes\":{\"callback\":null},\"id\":\"d18f67f4-4a8c-4d0e-9726-c939abc7a416\",\"type\":\"DataRange1d\"},{\"attributes\":{\"overlay\":{\"id\":\"8b609317-c04b-4eb3-995e-1ed9dbbad62b\",\"type\":\"BoxAnnotation\"}},\"id\":\"9c327e92-d268-4efc-9975-5c3c62a3c074\",\"type\":\"BoxZoomTool\"},{\"attributes\":{},\"id\":\"95491b2f-3e9d-4820-8688-79e154decd70\",\"type\":\"BasicTicker\"},{\"attributes\":{},\"id\":\"b841fef7-c9ba-494b-ba1b-b77c4e3518f1\",\"type\":\"SaveTool\"},{\"attributes\":{},\"id\":\"7f6ef388-388d-432e-8a52-a7e07fd152ff\",\"type\":\"BasicTickFormatter\"},{\"attributes\":{\"active_drag\":\"auto\",\"active_inspect\":\"auto\",\"active_scroll\":\"auto\",\"active_tap\":\"auto\",\"tools\":[{\"id\":\"c5c0b4f7-514a-4a7f-91b4-75de2d6d65c9\",\"type\":\"PanTool\"},{\"id\":\"2c63a433-7992-4270-9661-3705748d63c2\",\"type\":\"WheelZoomTool\"},{\"id\":\"9c327e92-d268-4efc-9975-5c3c62a3c074\",\"type\":\"BoxZoomTool\"},{\"id\":\"b841fef7-c9ba-494b-ba1b-b77c4e3518f1\",\"type\":\"SaveTool\"},{\"id\":\"530517c6-4906-4e11-9668-d3fd4e96cf17\",\"type\":\"ResetTool\"},{\"id\":\"c0ed4ba3-e00e-46b0-9b78-736d627d141e\",\"type\":\"HelpTool\"}]},\"id\":\"901d7dac-2e3e-45ee-a391-5223d6262ced\",\"type\":\"Toolbar\"},{\"attributes\":{},\"id\":\"530517c6-4906-4e11-9668-d3fd4e96cf17\",\"type\":\"ResetTool\"},{\"attributes\":{},\"id\":\"c5c0b4f7-514a-4a7f-91b4-75de2d6d65c9\",\"type\":\"PanTool\"},{\"attributes\":{},\"id\":\"2ef1cf4a-d5bd-4e45-be27-3390039451f4\",\"type\":\"BasicTicker\"},{\"attributes\":{\"source\":{\"id\":\"5703c6d2-4210-4d1c-a76f-c58ea924de1f\",\"type\":\"ColumnDataSource\"}},\"id\":\"74f016ff-c973-46cc-a0ee-e67f3397ad32\",\"type\":\"CDSView\"},{\"attributes\":{\"text_alpha\":{\"value\":0.1},\"text_color\":{\"value\":\"black\"},\"x\":{\"field\":\"x\"},\"y\":{\"field\":\"y\"}},\"id\":\"554f3d0e-680c-4543-a530-27b5db63c482\",\"type\":\"Text\"},{\"attributes\":{\"data_source\":{\"id\":\"5703c6d2-4210-4d1c-a76f-c58ea924de1f\",\"type\":\"ColumnDataSource\"},\"glyph\":{\"id\":\"3774b32d-7f17-461b-a7f9-883c17427dd6\",\"type\":\"Text\"},\"hover_glyph\":null,\"muted_glyph\":null,\"nonselection_glyph\":{\"id\":\"554f3d0e-680c-4543-a530-27b5db63c482\",\"type\":\"Text\"},\"selection_glyph\":null,\"view\":{\"id\":\"74f016ff-c973-46cc-a0ee-e67f3397ad32\",\"type\":\"CDSView\"}},\"id\":\"3b02a701-17c6-48fe-a9c8-0257a6c6535f\",\"type\":\"GlyphRenderer\"}],\"root_ids\":[\"ed843000-bf40-4feb-b263-f655aacc67ab\"]},\"title\":\"Bokeh Application\",\"version\":\"0.12.15\"}};\n",
       "  var render_items = [{\"docid\":\"9e377e9f-78aa-45a7-81ea-a810ad5ea7b0\",\"elementid\":\"7c7aac6e-8317-4ab4-9a61-8b407392cf8c\",\"modelid\":\"ed843000-bf40-4feb-b263-f655aacc67ab\"}];\n",
       "  root.Bokeh.embed.embed_items_notebook(docs_json, render_items);\n",
       "\n",
       "  }\n",
       "  if (root.Bokeh !== undefined) {\n",
       "    embed_document(root);\n",
       "  } else {\n",
       "    var attempts = 0;\n",
       "    var timer = setInterval(function(root) {\n",
       "      if (root.Bokeh !== undefined) {\n",
       "        embed_document(root);\n",
       "        clearInterval(timer);\n",
       "      }\n",
       "      attempts++;\n",
       "      if (attempts > 100) {\n",
       "        console.log(\"Bokeh: ERROR: Unable to run BokehJS code because BokehJS library is missing\")\n",
       "        clearInterval(timer);\n",
       "      }\n",
       "    }, 10, root)\n",
       "  }\n",
       "})(window);"
      ],
      "application/vnd.bokehjs_exec.v0+json": ""
     },
     "metadata": {
      "application/vnd.bokehjs_exec.v0+json": {
       "id": "ed843000-bf40-4feb-b263-f655aacc67ab"
      }
     },
     "output_type": "display_data"
    }
   ],
   "source": [
    "show(p)"
   ]
  },
  {
   "cell_type": "code",
   "execution_count": null,
   "metadata": {},
   "outputs": [],
   "source": []
  }
 ],
 "metadata": {
  "kernelspec": {
   "display_name": "Python 3",
   "language": "python",
   "name": "python3"
  },
  "language_info": {
   "codemirror_mode": {
    "name": "ipython",
    "version": 3
   },
   "file_extension": ".py",
   "mimetype": "text/x-python",
   "name": "python",
   "nbconvert_exporter": "python",
   "pygments_lexer": "ipython3",
   "version": "3.6.3"
  }
 },
 "nbformat": 4,
 "nbformat_minor": 2
}
