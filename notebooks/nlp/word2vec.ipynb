{
 "cells": [
  {
   "cell_type": "markdown",
   "metadata": {},
   "source": [
    "# Creating Word Vectors with word2vec"
   ]
  },
  {
   "cell_type": "markdown",
   "metadata": {},
   "source": [
    "Let's start with NLTK"
   ]
  },
  {
   "cell_type": "markdown",
   "metadata": {},
   "source": [
    "#### Load Dependencies"
   ]
  },
  {
   "cell_type": "code",
   "execution_count": 1,
   "metadata": {},
   "outputs": [
    {
     "name": "stderr",
     "output_type": "stream",
     "text": [
      "Using TensorFlow backend.\n"
     ]
    }
   ],
   "source": [
    "import nltk\n",
    "from nltk import word_tokenize, sent_tokenize\n",
    "import gensim\n",
    "from gensim.models.word2vec import Word2Vec\n",
    "from sklearn.manifold import TSNE\n",
    "import pandas as pd\n",
    "from bokeh.io import output_notebook\n",
    "from bokeh.plotting import show, figure\n",
    "%matplotlib inline"
   ]
  },
  {
   "cell_type": "code",
   "execution_count": 2,
   "metadata": {},
   "outputs": [
    {
     "name": "stdout",
     "output_type": "stream",
     "text": [
      "[nltk_data] Downloading package punkt to /home/jovyan/nltk_data...\n",
      "[nltk_data]   Package punkt is already up-to-date!\n"
     ]
    },
    {
     "data": {
      "text/plain": [
       "True"
      ]
     },
     "execution_count": 2,
     "metadata": {},
     "output_type": "execute_result"
    }
   ],
   "source": [
    "nltk.download('punkt')"
   ]
  },
  {
   "cell_type": "markdown",
   "metadata": {},
   "source": [
    "#### Load Data"
   ]
  },
  {
   "cell_type": "code",
   "execution_count": 3,
   "metadata": {},
   "outputs": [
    {
     "name": "stdout",
     "output_type": "stream",
     "text": [
      "[nltk_data] Downloading package gutenberg to /home/jovyan/nltk_data...\n",
      "[nltk_data]   Package gutenberg is already up-to-date!\n"
     ]
    },
    {
     "data": {
      "text/plain": [
       "True"
      ]
     },
     "execution_count": 3,
     "metadata": {},
     "output_type": "execute_result"
    }
   ],
   "source": [
    "nltk.download('gutenberg')"
   ]
  },
  {
   "cell_type": "code",
   "execution_count": 4,
   "metadata": {},
   "outputs": [],
   "source": [
    "from nltk.corpus import gutenberg"
   ]
  },
  {
   "cell_type": "code",
   "execution_count": 5,
   "metadata": {},
   "outputs": [
    {
     "data": {
      "text/plain": [
       "['austen-emma.txt',\n",
       " 'austen-persuasion.txt',\n",
       " 'austen-sense.txt',\n",
       " 'bible-kjv.txt',\n",
       " 'blake-poems.txt',\n",
       " 'bryant-stories.txt',\n",
       " 'burgess-busterbrown.txt',\n",
       " 'carroll-alice.txt',\n",
       " 'chesterton-ball.txt',\n",
       " 'chesterton-brown.txt',\n",
       " 'chesterton-thursday.txt',\n",
       " 'edgeworth-parents.txt',\n",
       " 'melville-moby_dick.txt',\n",
       " 'milton-paradise.txt',\n",
       " 'shakespeare-caesar.txt',\n",
       " 'shakespeare-hamlet.txt',\n",
       " 'shakespeare-macbeth.txt',\n",
       " 'whitman-leaves.txt']"
      ]
     },
     "execution_count": 5,
     "metadata": {},
     "output_type": "execute_result"
    }
   ],
   "source": [
    "gutenberg.fileids()"
   ]
  },
  {
   "cell_type": "markdown",
   "metadata": {},
   "source": [
    "#### Tokenize Text"
   ]
  },
  {
   "cell_type": "code",
   "execution_count": 6,
   "metadata": {},
   "outputs": [],
   "source": [
    "# Due to lack of resources, I'm not working with the full Gutenberg dataset (18 books).\n",
    "gberg_sent_tokens = sent_tokenize(gutenberg.raw(fileids='austen-emma.txt'))"
   ]
  },
  {
   "cell_type": "code",
   "execution_count": 7,
   "metadata": {},
   "outputs": [
    {
     "data": {
      "text/plain": [
       "['[Emma by Jane Austen 1816]\\n\\nVOLUME I\\n\\nCHAPTER I\\n\\n\\nEmma Woodhouse, handsome, clever, and rich, with a comfortable home\\nand happy disposition, seemed to unite some of the best blessings\\nof existence; and had lived nearly twenty-one years in the world\\nwith very little to distress or vex her.',\n",
       " \"She was the youngest of the two daughters of a most affectionate,\\nindulgent father; and had, in consequence of her sister's marriage,\\nbeen mistress of his house from a very early period.\",\n",
       " 'Her mother\\nhad died too long ago for her to have more than an indistinct\\nremembrance of her caresses; and her place had been supplied\\nby an excellent woman as governess, who had fallen little short\\nof a mother in affection.',\n",
       " \"Sixteen years had Miss Taylor been in Mr. Woodhouse's family,\\nless as a governess than a friend, very fond of both daughters,\\nbut particularly of Emma.\",\n",
       " 'Between _them_ it was more the intimacy\\nof sisters.']"
      ]
     },
     "execution_count": 7,
     "metadata": {},
     "output_type": "execute_result"
    }
   ],
   "source": [
    "gberg_sent_tokens[0:5]"
   ]
  },
  {
   "cell_type": "code",
   "execution_count": 8,
   "metadata": {},
   "outputs": [
    {
     "data": {
      "text/plain": [
       "\"She was the youngest of the two daughters of a most affectionate,\\nindulgent father; and had, in consequence of her sister's marriage,\\nbeen mistress of his house from a very early period.\""
      ]
     },
     "execution_count": 8,
     "metadata": {},
     "output_type": "execute_result"
    }
   ],
   "source": [
    "gberg_sent_tokens[1]"
   ]
  },
  {
   "cell_type": "code",
   "execution_count": 9,
   "metadata": {},
   "outputs": [
    {
     "data": {
      "text/plain": [
       "['She',\n",
       " 'was',\n",
       " 'the',\n",
       " 'youngest',\n",
       " 'of',\n",
       " 'the',\n",
       " 'two',\n",
       " 'daughters',\n",
       " 'of',\n",
       " 'a',\n",
       " 'most',\n",
       " 'affectionate',\n",
       " ',',\n",
       " 'indulgent',\n",
       " 'father',\n",
       " ';',\n",
       " 'and',\n",
       " 'had',\n",
       " ',',\n",
       " 'in',\n",
       " 'consequence',\n",
       " 'of',\n",
       " 'her',\n",
       " 'sister',\n",
       " \"'s\",\n",
       " 'marriage',\n",
       " ',',\n",
       " 'been',\n",
       " 'mistress',\n",
       " 'of',\n",
       " 'his',\n",
       " 'house',\n",
       " 'from',\n",
       " 'a',\n",
       " 'very',\n",
       " 'early',\n",
       " 'period',\n",
       " '.']"
      ]
     },
     "execution_count": 9,
     "metadata": {},
     "output_type": "execute_result"
    }
   ],
   "source": [
    "word_tokenize(gberg_sent_tokens[1])"
   ]
  },
  {
   "cell_type": "code",
   "execution_count": 10,
   "metadata": {},
   "outputs": [
    {
     "data": {
      "text/plain": [
       "'father'"
      ]
     },
     "execution_count": 10,
     "metadata": {},
     "output_type": "execute_result"
    }
   ],
   "source": [
    "word_tokenize(gberg_sent_tokens[1])[14]"
   ]
  },
  {
   "cell_type": "code",
   "execution_count": 11,
   "metadata": {},
   "outputs": [],
   "source": [
    "# Due to lack of resources, I'm not working with the full Gutenberg dataset (18 books).\n",
    "gberg_sents = gutenberg.sents(fileids='austen-emma.txt')"
   ]
  },
  {
   "cell_type": "code",
   "execution_count": 12,
   "metadata": {},
   "outputs": [
    {
     "data": {
      "text/plain": [
       "[['[', 'Emma', 'by', 'Jane', 'Austen', '1816', ']'],\n",
       " ['VOLUME', 'I'],\n",
       " ['CHAPTER', 'I'],\n",
       " ['Emma',\n",
       "  'Woodhouse',\n",
       "  ',',\n",
       "  'handsome',\n",
       "  ',',\n",
       "  'clever',\n",
       "  ',',\n",
       "  'and',\n",
       "  'rich',\n",
       "  ',',\n",
       "  'with',\n",
       "  'a',\n",
       "  'comfortable',\n",
       "  'home',\n",
       "  'and',\n",
       "  'happy',\n",
       "  'disposition',\n",
       "  ',',\n",
       "  'seemed',\n",
       "  'to',\n",
       "  'unite',\n",
       "  'some',\n",
       "  'of',\n",
       "  'the',\n",
       "  'best',\n",
       "  'blessings',\n",
       "  'of',\n",
       "  'existence',\n",
       "  ';',\n",
       "  'and',\n",
       "  'had',\n",
       "  'lived',\n",
       "  'nearly',\n",
       "  'twenty',\n",
       "  '-',\n",
       "  'one',\n",
       "  'years',\n",
       "  'in',\n",
       "  'the',\n",
       "  'world',\n",
       "  'with',\n",
       "  'very',\n",
       "  'little',\n",
       "  'to',\n",
       "  'distress',\n",
       "  'or',\n",
       "  'vex',\n",
       "  'her',\n",
       "  '.'],\n",
       " ['She',\n",
       "  'was',\n",
       "  'the',\n",
       "  'youngest',\n",
       "  'of',\n",
       "  'the',\n",
       "  'two',\n",
       "  'daughters',\n",
       "  'of',\n",
       "  'a',\n",
       "  'most',\n",
       "  'affectionate',\n",
       "  ',',\n",
       "  'indulgent',\n",
       "  'father',\n",
       "  ';',\n",
       "  'and',\n",
       "  'had',\n",
       "  ',',\n",
       "  'in',\n",
       "  'consequence',\n",
       "  'of',\n",
       "  'her',\n",
       "  'sister',\n",
       "  \"'\",\n",
       "  's',\n",
       "  'marriage',\n",
       "  ',',\n",
       "  'been',\n",
       "  'mistress',\n",
       "  'of',\n",
       "  'his',\n",
       "  'house',\n",
       "  'from',\n",
       "  'a',\n",
       "  'very',\n",
       "  'early',\n",
       "  'period',\n",
       "  '.']]"
      ]
     },
     "execution_count": 12,
     "metadata": {},
     "output_type": "execute_result"
    }
   ],
   "source": [
    "gberg_sents[0:5]"
   ]
  },
  {
   "cell_type": "code",
   "execution_count": 13,
   "metadata": {},
   "outputs": [
    {
     "data": {
      "text/plain": [
       "'father'"
      ]
     },
     "execution_count": 13,
     "metadata": {},
     "output_type": "execute_result"
    }
   ],
   "source": [
    "gberg_sents[4][14]"
   ]
  },
  {
   "cell_type": "code",
   "execution_count": 14,
   "metadata": {},
   "outputs": [
    {
     "data": {
      "text/plain": [
       "['[', 'Emma', 'by', 'Jane', 'Austen', '1816', ']', ...]"
      ]
     },
     "execution_count": 14,
     "metadata": {},
     "output_type": "execute_result"
    }
   ],
   "source": [
    "gutenberg.words()"
   ]
  },
  {
   "cell_type": "code",
   "execution_count": 15,
   "metadata": {},
   "outputs": [
    {
     "data": {
      "text/plain": [
       "192427"
      ]
     },
     "execution_count": 15,
     "metadata": {},
     "output_type": "execute_result"
    }
   ],
   "source": [
    "# Due to lack of resources, I'm not working with the full Gutenberg dataset (18 books).\n",
    "len(gutenberg.words(fileids='austen-emma.txt'))"
   ]
  },
  {
   "cell_type": "markdown",
   "metadata": {},
   "source": [
    "#### Run Word2Vec"
   ]
  },
  {
   "cell_type": "code",
   "execution_count": 16,
   "metadata": {},
   "outputs": [],
   "source": [
    "# size == dimensions\n",
    "# window 10: 20 context words, 10 to the left and 10 to the right\n",
    "model = Word2Vec(sentences=gberg_sents, size=64, sg=1, window=10, min_count=5, seed=42, workers=2)"
   ]
  },
  {
   "cell_type": "code",
   "execution_count": 17,
   "metadata": {},
   "outputs": [],
   "source": [
    "model.save('raw_gutenberg_model.w2v')"
   ]
  },
  {
   "cell_type": "markdown",
   "metadata": {},
   "source": [
    "#### Explore the Model"
   ]
  },
  {
   "cell_type": "code",
   "execution_count": 18,
   "metadata": {},
   "outputs": [],
   "source": [
    "model = Word2Vec.load('raw_gutenberg_model.w2v')"
   ]
  },
  {
   "cell_type": "code",
   "execution_count": 19,
   "metadata": {},
   "outputs": [
    {
     "data": {
      "text/plain": [
       "array([ 0.09977716,  0.16778611, -0.10893027,  0.55660146, -0.15511119,\n",
       "        0.3308087 ,  0.08450987, -0.07111773,  0.29340428, -0.27048996,\n",
       "       -0.06274728, -0.22887023,  0.20214498,  0.01077475, -0.01653849,\n",
       "       -0.32738513, -0.24522357, -0.25388265, -0.19197854,  0.55921948,\n",
       "       -0.13746004,  0.28497157,  0.00963232, -0.07921501, -0.17181559,\n",
       "        0.00751487, -0.17603537, -0.05307808, -0.02164719, -0.12717029,\n",
       "       -0.1631014 , -0.01065134, -0.10981498, -0.14481436, -0.06268612,\n",
       "        0.01398965, -0.19619161, -0.18971278, -0.12686436, -0.16556193,\n",
       "        0.22798036,  0.18360382,  0.06674258,  0.00774681,  0.07856981,\n",
       "       -0.09050936, -0.0897877 , -0.21909328,  0.23826674,  0.10793953,\n",
       "        0.16042301,  0.3497186 ,  0.02615855, -0.1920149 , -0.0928779 ,\n",
       "       -0.12267861,  0.01029645,  0.04465633, -0.00589712,  0.12349036,\n",
       "       -0.33919987, -0.0633767 , -0.21771866,  0.26251501], dtype=float32)"
      ]
     },
     "execution_count": 19,
     "metadata": {},
     "output_type": "execute_result"
    }
   ],
   "source": [
    "model['house']"
   ]
  },
  {
   "cell_type": "code",
   "execution_count": 20,
   "metadata": {},
   "outputs": [
    {
     "data": {
      "text/plain": [
       "64"
      ]
     },
     "execution_count": 20,
     "metadata": {},
     "output_type": "execute_result"
    }
   ],
   "source": [
    "len(model['house'])"
   ]
  },
  {
   "cell_type": "code",
   "execution_count": 21,
   "metadata": {},
   "outputs": [
    {
     "data": {
      "text/plain": [
       "[('ground', 0.9454859495162964),\n",
       " ('falling', 0.9428025484085083),\n",
       " ('lived', 0.9396990537643433),\n",
       " ('servants', 0.9377148747444153),\n",
       " ('daily', 0.9327974319458008),\n",
       " ('schemes', 0.929177463054657),\n",
       " ('front', 0.928971529006958),\n",
       " ('vicarage', 0.927939772605896),\n",
       " ('various', 0.9279013872146606),\n",
       " ('pace', 0.9277021884918213)]"
      ]
     },
     "execution_count": 21,
     "metadata": {},
     "output_type": "execute_result"
    }
   ],
   "source": [
    "model.most_similar('house')"
   ]
  },
  {
   "cell_type": "code",
   "execution_count": 22,
   "metadata": {},
   "outputs": [
    {
     "data": {
      "text/plain": [
       "[('venture', 0.8934624195098877),\n",
       " ('agree', 0.8834666013717651),\n",
       " ('try', 0.8779536485671997),\n",
       " ('assure', 0.8768278360366821),\n",
       " ('hear', 0.8760052919387817),\n",
       " ('believe', 0.8722966909408569),\n",
       " ('advise', 0.8721799850463867),\n",
       " ('suspect', 0.8697831630706787),\n",
       " ('please', 0.8692950010299683),\n",
       " ('guess', 0.868711531162262)]"
      ]
     },
     "execution_count": 22,
     "metadata": {},
     "output_type": "execute_result"
    }
   ],
   "source": [
    "model.most_similar('think')"
   ]
  },
  {
   "cell_type": "code",
   "execution_count": 23,
   "metadata": {},
   "outputs": [
    {
     "data": {
      "text/plain": [
       "[('morning', 0.8699437975883484),\n",
       " ('room', 0.8698983192443848),\n",
       " ('next', 0.8635916113853455),\n",
       " ('evening', 0.8407124280929565),\n",
       " ('party', 0.8384604454040527),\n",
       " ('drawing', 0.8345710039138794),\n",
       " ('morrow', 0.818749189376831),\n",
       " ('night', 0.8176756501197815),\n",
       " ('carriage', 0.8125360012054443),\n",
       " ('Donwell', 0.8090909719467163)]"
      ]
     },
     "execution_count": 23,
     "metadata": {},
     "output_type": "execute_result"
    }
   ],
   "source": [
    "model.most_similar('day')"
   ]
  },
  {
   "cell_type": "code",
   "execution_count": 24,
   "metadata": {},
   "outputs": [
    {
     "data": {
      "text/plain": [
       "[('aunt', 0.875019371509552),\n",
       " ('uncle', 0.853099524974823),\n",
       " ('eyes', 0.852830171585083),\n",
       " ('brother', 0.8338615894317627),\n",
       " ('mother', 0.8268887996673584),\n",
       " ('son', 0.8150642514228821),\n",
       " ('sake', 0.8144639730453491),\n",
       " ('sister', 0.8143712282180786),\n",
       " ('approbation', 0.8132085204124451),\n",
       " ('resolution', 0.8102056980133057)]"
      ]
     },
     "execution_count": 24,
     "metadata": {},
     "output_type": "execute_result"
    }
   ],
   "source": [
    "model.most_similar('father')"
   ]
  },
  {
   "cell_type": "code",
   "execution_count": 25,
   "metadata": {},
   "outputs": [
    {
     "data": {
      "text/plain": [
       "'mother'"
      ]
     },
     "execution_count": 25,
     "metadata": {},
     "output_type": "execute_result"
    }
   ],
   "source": [
    "model.doesnt_match('mother father daughter house'.split())"
   ]
  },
  {
   "cell_type": "code",
   "execution_count": 26,
   "metadata": {},
   "outputs": [
    {
     "data": {
      "text/plain": [
       "0.69950084739303842"
      ]
     },
     "execution_count": 26,
     "metadata": {},
     "output_type": "execute_result"
    }
   ],
   "source": [
    "model.similarity('father', 'house')"
   ]
  },
  {
   "cell_type": "code",
   "execution_count": 27,
   "metadata": {},
   "outputs": [
    {
     "data": {
      "text/plain": [
       "[('aunt', 0.8311643600463867),\n",
       " ('sake', 0.8274322748184204),\n",
       " ('mind', 0.8263150453567505),\n",
       " ('account', 0.8236722946166992),\n",
       " ('eyes', 0.8226816654205322),\n",
       " ('sister', 0.8186554908752441),\n",
       " ('friend', 0.8080540895462036),\n",
       " ('mother', 0.8057876825332642),\n",
       " ('advantage', 0.7999383211135864),\n",
       " ('pay', 0.7982388734817505)]"
      ]
     },
     "execution_count": 27,
     "metadata": {},
     "output_type": "execute_result"
    }
   ],
   "source": [
    "model.most_similar(positive=['father', 'woman'], negative=['man'])"
   ]
  },
  {
   "cell_type": "code",
   "execution_count": 28,
   "metadata": {},
   "outputs": [
    {
     "data": {
      "text/plain": [
       "[('hearing', 0.8804388046264648),\n",
       " ('illness', 0.873519241809845),\n",
       " ('hint', 0.8642576336860657),\n",
       " ('approbation', 0.8639116287231445),\n",
       " ('eyes', 0.8625419735908508),\n",
       " ('latter', 0.8580889105796814),\n",
       " ('eagerness', 0.8576064109802246),\n",
       " ('head', 0.8569163084030151),\n",
       " ('necessarily', 0.856798529624939),\n",
       " ('vain', 0.852631688117981)]"
      ]
     },
     "execution_count": 28,
     "metadata": {},
     "output_type": "execute_result"
    }
   ],
   "source": [
    "model.most_similar(positive=['son', 'woman'], negative=['man'])"
   ]
  },
  {
   "cell_type": "code",
   "execution_count": 29,
   "metadata": {},
   "outputs": [
    {
     "data": {
      "text/plain": [
       "[('attend', 0.9278405904769897),\n",
       " ('gratitude', 0.9079714417457581),\n",
       " ('sensations', 0.906104564666748),\n",
       " ('advantage', 0.9021086692810059),\n",
       " ('struck', 0.9017846584320068),\n",
       " ('particular', 0.8995164632797241),\n",
       " ('welcome', 0.8990514278411865),\n",
       " ('pay', 0.8974625468254089),\n",
       " ('hurried', 0.8973636627197266),\n",
       " ('secured', 0.8967128992080688)]"
      ]
     },
     "execution_count": 29,
     "metadata": {},
     "output_type": "execute_result"
    }
   ],
   "source": [
    "model.most_similar(positive=['husband', 'woman'], negative=['man'])"
   ]
  },
  {
   "cell_type": "code",
   "execution_count": 30,
   "metadata": {},
   "outputs": [
    {
     "data": {
      "text/plain": [
       "[('aunt', 0.8311643600463867),\n",
       " ('sake', 0.8274322748184204),\n",
       " ('mind', 0.8263150453567505),\n",
       " ('account', 0.8236722946166992),\n",
       " ('eyes', 0.8226816654205322),\n",
       " ('sister', 0.8186554908752441),\n",
       " ('friend', 0.8080540895462036),\n",
       " ('mother', 0.8057876825332642),\n",
       " ('advantage', 0.7999383211135864),\n",
       " ('pay', 0.7982388734817505),\n",
       " ('work', 0.7979395985603333),\n",
       " ('duty', 0.7966616153717041),\n",
       " ('attentions', 0.7959316968917847),\n",
       " ('compassion', 0.7948338389396667),\n",
       " ('resolution', 0.7939754724502563),\n",
       " ('uneasy', 0.7935304641723633),\n",
       " ('wishes', 0.7906163930892944),\n",
       " ('accepting', 0.7885822653770447),\n",
       " ('feelings', 0.7877051830291748),\n",
       " ('opinion', 0.7845355272293091),\n",
       " ('words', 0.7844374179840088),\n",
       " ('own', 0.7837194800376892),\n",
       " ('illness', 0.7825814485549927),\n",
       " ('daughter', 0.7817822694778442),\n",
       " ('judgment', 0.7809430360794067),\n",
       " ('uncle', 0.779557466506958),\n",
       " ('throat', 0.7789691686630249),\n",
       " ('approbation', 0.7788972854614258),\n",
       " ('Isabella', 0.7775689959526062),\n",
       " ('heart', 0.7771206498146057)]"
      ]
     },
     "execution_count": 30,
     "metadata": {},
     "output_type": "execute_result"
    }
   ],
   "source": [
    "model.most_similar(positive=['father', 'woman'], negative=['man'], topn=30)"
   ]
  },
  {
   "cell_type": "markdown",
   "metadata": {},
   "source": [
    "#### Reduce word vector dimensionality with t-SNE"
   ]
  },
  {
   "cell_type": "markdown",
   "metadata": {},
   "source": [
    "t-Distributed Stochastic Name Embedding"
   ]
  },
  {
   "cell_type": "code",
   "execution_count": 31,
   "metadata": {},
   "outputs": [
    {
     "data": {
      "text/plain": [
       "2490"
      ]
     },
     "execution_count": 31,
     "metadata": {},
     "output_type": "execute_result"
    }
   ],
   "source": [
    "len(model.wv.vocab)"
   ]
  },
  {
   "cell_type": "code",
   "execution_count": 32,
   "metadata": {},
   "outputs": [],
   "source": [
    "X = model[model.wv.vocab]"
   ]
  },
  {
   "cell_type": "code",
   "execution_count": 33,
   "metadata": {},
   "outputs": [],
   "source": [
    "tsne = TSNE(n_components=2, n_iter=200)"
   ]
  },
  {
   "cell_type": "code",
   "execution_count": 34,
   "metadata": {},
   "outputs": [],
   "source": [
    "X_2d = tsne.fit_transform(X)"
   ]
  },
  {
   "cell_type": "code",
   "execution_count": 35,
   "metadata": {},
   "outputs": [],
   "source": [
    "coords_df = pd.DataFrame(X_2d, columns=['x', 'y'])\n",
    "coords_df['token'] = model.wv.vocab.keys()"
   ]
  },
  {
   "cell_type": "code",
   "execution_count": 36,
   "metadata": {},
   "outputs": [
    {
     "data": {
      "text/html": [
       "<div>\n",
       "<table border=\"1\" class=\"dataframe\">\n",
       "  <thead>\n",
       "    <tr style=\"text-align: right;\">\n",
       "      <th></th>\n",
       "      <th>x</th>\n",
       "      <th>y</th>\n",
       "      <th>token</th>\n",
       "    </tr>\n",
       "  </thead>\n",
       "  <tbody>\n",
       "    <tr>\n",
       "      <th>0</th>\n",
       "      <td>-0.668035</td>\n",
       "      <td>1.417090</td>\n",
       "      <td>Emma</td>\n",
       "    </tr>\n",
       "    <tr>\n",
       "      <th>1</th>\n",
       "      <td>-3.775371</td>\n",
       "      <td>-7.790711</td>\n",
       "      <td>by</td>\n",
       "    </tr>\n",
       "    <tr>\n",
       "      <th>2</th>\n",
       "      <td>-0.175320</td>\n",
       "      <td>1.574756</td>\n",
       "      <td>Jane</td>\n",
       "    </tr>\n",
       "    <tr>\n",
       "      <th>3</th>\n",
       "      <td>6.455365</td>\n",
       "      <td>1.522645</td>\n",
       "      <td>I</td>\n",
       "    </tr>\n",
       "    <tr>\n",
       "      <th>4</th>\n",
       "      <td>6.594039</td>\n",
       "      <td>5.287827</td>\n",
       "      <td>CHAPTER</td>\n",
       "    </tr>\n",
       "  </tbody>\n",
       "</table>\n",
       "</div>"
      ],
      "text/plain": [
       "          x         y    token\n",
       "0 -0.668035  1.417090     Emma\n",
       "1 -3.775371 -7.790711       by\n",
       "2 -0.175320  1.574756     Jane\n",
       "3  6.455365  1.522645        I\n",
       "4  6.594039  5.287827  CHAPTER"
      ]
     },
     "execution_count": 36,
     "metadata": {},
     "output_type": "execute_result"
    }
   ],
   "source": [
    "coords_df.head()"
   ]
  },
  {
   "cell_type": "code",
   "execution_count": 37,
   "metadata": {},
   "outputs": [],
   "source": [
    "coords_df.to_csv('raw_gutenberg_tsne.csv', index=False)"
   ]
  },
  {
   "cell_type": "markdown",
   "metadata": {},
   "source": [
    "#### Visualise 2D representation of word vectors"
   ]
  },
  {
   "cell_type": "code",
   "execution_count": 38,
   "metadata": {},
   "outputs": [],
   "source": [
    "coorrds_df = pd.read_csv('raw_gutenberg_tsne.csv')"
   ]
  },
  {
   "cell_type": "code",
   "execution_count": 39,
   "metadata": {},
   "outputs": [
    {
     "data": {
      "text/html": [
       "<div>\n",
       "<table border=\"1\" class=\"dataframe\">\n",
       "  <thead>\n",
       "    <tr style=\"text-align: right;\">\n",
       "      <th></th>\n",
       "      <th>x</th>\n",
       "      <th>y</th>\n",
       "      <th>token</th>\n",
       "    </tr>\n",
       "  </thead>\n",
       "  <tbody>\n",
       "    <tr>\n",
       "      <th>0</th>\n",
       "      <td>-0.668035</td>\n",
       "      <td>1.417090</td>\n",
       "      <td>Emma</td>\n",
       "    </tr>\n",
       "    <tr>\n",
       "      <th>1</th>\n",
       "      <td>-3.775371</td>\n",
       "      <td>-7.790711</td>\n",
       "      <td>by</td>\n",
       "    </tr>\n",
       "    <tr>\n",
       "      <th>2</th>\n",
       "      <td>-0.175320</td>\n",
       "      <td>1.574756</td>\n",
       "      <td>Jane</td>\n",
       "    </tr>\n",
       "    <tr>\n",
       "      <th>3</th>\n",
       "      <td>6.455365</td>\n",
       "      <td>1.522645</td>\n",
       "      <td>I</td>\n",
       "    </tr>\n",
       "    <tr>\n",
       "      <th>4</th>\n",
       "      <td>6.594039</td>\n",
       "      <td>5.287827</td>\n",
       "      <td>CHAPTER</td>\n",
       "    </tr>\n",
       "  </tbody>\n",
       "</table>\n",
       "</div>"
      ],
      "text/plain": [
       "          x         y    token\n",
       "0 -0.668035  1.417090     Emma\n",
       "1 -3.775371 -7.790711       by\n",
       "2 -0.175320  1.574756     Jane\n",
       "3  6.455365  1.522645        I\n",
       "4  6.594039  5.287827  CHAPTER"
      ]
     },
     "execution_count": 39,
     "metadata": {},
     "output_type": "execute_result"
    }
   ],
   "source": [
    "coords_df.head()"
   ]
  },
  {
   "cell_type": "code",
   "execution_count": 40,
   "metadata": {},
   "outputs": [
    {
     "data": {
      "image/png": "[encoded data removed]",
      "text/plain": [
       "<matplotlib.figure.Figure at 0x7f2b7625b0f0>"
      ]
     },
     "metadata": {},
     "output_type": "display_data"
    }
   ],
   "source": [
    "_ = coords_df.plot.scatter('x', 'y', figsize=(8,8), marker='o', s=10, alpha=0.2)"
   ]
  },
  {
   "cell_type": "code",
   "execution_count": 41,
   "metadata": {},
   "outputs": [
    {
     "data": {
      "text/html": [
       "\n",
       "    <div class=\"bk-root\">\n",
       "        <a href=\"https://bokeh.pydata.org\" target=\"_blank\" class=\"bk-logo bk-logo-small bk-logo-notebook\"></a>\n",
       "        <span id=\"ab289bfc-faee-437a-9c31-e6336976a9cc\">Loading BokehJS ...</span>\n",
       "    </div>"
      ]
     },
     "metadata": {},
     "output_type": "display_data"
    },
    {
     "data": {
      "application/javascript": [
       "\n",
       "(function(root) {\n",
       "  function now() {\n",
       "    return new Date();\n",
       "  }\n",
       "\n",
       "  var force = true;\n",
       "\n",
       "  if (typeof (root._bokeh_onload_callbacks) === \"undefined\" || force === true) {\n",
       "    root._bokeh_onload_callbacks = [];\n",
       "    root._bokeh_is_loading = undefined;\n",
       "  }\n",
       "\n",
       "  var JS_MIME_TYPE = 'application/javascript';\n",
       "  var HTML_MIME_TYPE = 'text/html';\n",
       "  var EXEC_MIME_TYPE = 'application/vnd.bokehjs_exec.v0+json';\n",
       "  var CLASS_NAME = 'output_bokeh rendered_html';\n",
       "\n",
       "  /**\n",
       "   * Render data to the DOM node\n",
       "   */\n",
       "  function render(props, node) {\n",
       "    var script = document.createElement(\"script\");\n",
       "    node.appendChild(script);\n",
       "  }\n",
       "\n",
       "  /**\n",
       "   * Handle when an output is cleared or removed\n",
       "   */\n",
       "  function handleClearOutput(event, handle) {\n",
       "    var cell = handle.cell;\n",
       "\n",
       "    var id = cell.output_area._bokeh_element_id;\n",
       "    var server_id = cell.output_area._bokeh_server_id;\n",
       "    // Clean up Bokeh references\n",
       "    if (id !== undefined) {\n",
       "      Bokeh.index[id].model.document.clear();\n",
       "      delete Bokeh.index[id];\n",
       "    }\n",
       "\n",
       "    if (server_id !== undefined) {\n",
       "      // Clean up Bokeh references\n",
       "      var cmd = \"from bokeh.io import _state; print(_state.uuid_to_server['\" + server_id + \"'].get_sessions()[0].document.roots[0]._id)\";\n",
       "      cell.notebook.kernel.execute(cmd, {\n",
       "        iopub: {\n",
       "          output: function(msg) {\n",
       "            var element_id = msg.content.text.trim();\n",
       "            Bokeh.index[element_id].model.document.clear();\n",
       "            delete Bokeh.index[element_id];\n",
       "          }\n",
       "        }\n",
       "      });\n",
       "      // Destroy server and session\n",
       "      var cmd = \"from bokeh import io; io._destroy_server('\" + server_id + \"')\";\n",
       "      cell.notebook.kernel.execute(cmd);\n",
       "    }\n",
       "  }\n",
       "\n",
       "  /**\n",
       "   * Handle when a new output is added\n",
       "   */\n",
       "  function handleAddOutput(event, handle) {\n",
       "    var output_area = handle.output_area;\n",
       "    var output = handle.output;\n",
       "\n",
       "    // limit handleAddOutput to display_data with EXEC_MIME_TYPE content only\n",
       "    if ((output.output_type != \"display_data\") || (!output.data.hasOwnProperty(EXEC_MIME_TYPE))) {\n",
       "      return\n",
       "    }\n",
       "\n",
       "    var toinsert = output_area.element.find(`.${CLASS_NAME.split(' ')[0]}`);\n",
       "\n",
       "    if (output.metadata[EXEC_MIME_TYPE][\"id\"] !== undefined) {\n",
       "      toinsert[0].firstChild.textContent = output.data[JS_MIME_TYPE];\n",
       "      // store reference to embed id on output_area\n",
       "      output_area._bokeh_element_id = output.metadata[EXEC_MIME_TYPE][\"id\"];\n",
       "    }\n",
       "    if (output.metadata[EXEC_MIME_TYPE][\"server_id\"] !== undefined) {\n",
       "      var bk_div = document.createElement(\"div\");\n",
       "      bk_div.innerHTML = output.data[HTML_MIME_TYPE];\n",
       "      var script_attrs = bk_div.children[0].attributes;\n",
       "      for (var i = 0; i < script_attrs.length; i++) {\n",
       "        toinsert[0].firstChild.setAttribute(script_attrs[i].name, script_attrs[i].value);\n",
       "      }\n",
       "      // store reference to server id on output_area\n",
       "      output_area._bokeh_server_id = output.metadata[EXEC_MIME_TYPE][\"server_id\"];\n",
       "    }\n",
       "  }\n",
       "\n",
       "  function register_renderer(events, OutputArea) {\n",
       "\n",
       "    function append_mime(data, metadata, element) {\n",
       "      // create a DOM node to render to\n",
       "      var toinsert = this.create_output_subarea(\n",
       "        metadata,\n",
       "        CLASS_NAME,\n",
       "        EXEC_MIME_TYPE\n",
       "      );\n",
       "      this.keyboard_manager.register_events(toinsert);\n",
       "      // Render to node\n",
       "      var props = {data: data, metadata: metadata[EXEC_MIME_TYPE]};\n",
       "      render(props, toinsert[0]);\n",
       "      element.append(toinsert);\n",
       "      return toinsert\n",
       "    }\n",
       "\n",
       "    /* Handle when an output is cleared or removed */\n",
       "    events.on('clear_output.CodeCell', handleClearOutput);\n",
       "    events.on('delete.Cell', handleClearOutput);\n",
       "\n",
       "    /* Handle when a new output is added */\n",
       "    events.on('output_added.OutputArea', handleAddOutput);\n",
       "\n",
       "    /**\n",
       "     * Register the mime type and append_mime function with output_area\n",
       "     */\n",
       "    OutputArea.prototype.register_mime_type(EXEC_MIME_TYPE, append_mime, {\n",
       "      /* Is output safe? */\n",
       "      safe: true,\n",
       "      /* Index of renderer in `output_area.display_order` */\n",
       "      index: 0\n",
       "    });\n",
       "  }\n",
       "\n",
       "  // register the mime type if in Jupyter Notebook environment and previously unregistered\n",
       "  if (root.Jupyter !== undefined) {\n",
       "    var events = require('base/js/events');\n",
       "    var OutputArea = require('notebook/js/outputarea').OutputArea;\n",
       "\n",
       "    if (OutputArea.prototype.mime_types().indexOf(EXEC_MIME_TYPE) == -1) {\n",
       "      register_renderer(events, OutputArea);\n",
       "    }\n",
       "  }\n",
       "\n",
       "  \n",
       "  if (typeof (root._bokeh_timeout) === \"undefined\" || force === true) {\n",
       "    root._bokeh_timeout = Date.now() + 5000;\n",
       "    root._bokeh_failed_load = false;\n",
       "  }\n",
       "\n",
       "  var NB_LOAD_WARNING = {'data': {'text/html':\n",
       "     \"<div style='background-color: #fdd'>\\n\"+\n",
       "     \"<p>\\n\"+\n",
       "     \"BokehJS does not appear to have successfully loaded. If loading BokehJS from CDN, this \\n\"+\n",
       "     \"may be due to a slow or bad network connection. Possible fixes:\\n\"+\n",
       "     \"</p>\\n\"+\n",
       "     \"<ul>\\n\"+\n",
       "     \"<li>re-rerun `output_notebook()` to attempt to load from CDN again, or</li>\\n\"+\n",
       "     \"<li>use INLINE resources instead, as so:</li>\\n\"+\n",
       "     \"</ul>\\n\"+\n",
       "     \"<code>\\n\"+\n",
       "     \"from bokeh.resources import INLINE\\n\"+\n",
       "     \"output_notebook(resources=INLINE)\\n\"+\n",
       "     \"</code>\\n\"+\n",
       "     \"</div>\"}};\n",
       "\n",
       "  function display_loaded() {\n",
       "    var el = document.getElementById(\"ab289bfc-faee-437a-9c31-e6336976a9cc\");\n",
       "    if (el != null) {\n",
       "      el.textContent = \"BokehJS is loading...\";\n",
       "    }\n",
       "    if (root.Bokeh !== undefined) {\n",
       "      if (el != null) {\n",
       "        el.textContent = \"BokehJS \" + root.Bokeh.version + \" successfully loaded.\";\n",
       "      }\n",
       "    } else if (Date.now() < root._bokeh_timeout) {\n",
       "      setTimeout(display_loaded, 100)\n",
       "    }\n",
       "  }\n",
       "\n",
       "\n",
       "  function run_callbacks() {\n",
       "    try {\n",
       "      root._bokeh_onload_callbacks.forEach(function(callback) { callback() });\n",
       "    }\n",
       "    finally {\n",
       "      delete root._bokeh_onload_callbacks\n",
       "    }\n",
       "    console.info(\"Bokeh: all callbacks have finished\");\n",
       "  }\n",
       "\n",
       "  function load_libs(js_urls, callback) {\n",
       "    root._bokeh_onload_callbacks.push(callback);\n",
       "    if (root._bokeh_is_loading > 0) {\n",
       "      console.log(\"Bokeh: BokehJS is being loaded, scheduling callback at\", now());\n",
       "      return null;\n",
       "    }\n",
       "    if (js_urls == null || js_urls.length === 0) {\n",
       "      run_callbacks();\n",
       "      return null;\n",
       "    }\n",
       "    console.log(\"Bokeh: BokehJS not loaded, scheduling load and callback at\", now());\n",
       "    root._bokeh_is_loading = js_urls.length;\n",
       "    for (var i = 0; i < js_urls.length; i++) {\n",
       "      var url = js_urls[i];\n",
       "      var s = document.createElement('script');\n",
       "      s.src = url;\n",
       "      s.async = false;\n",
       "      s.onreadystatechange = s.onload = function() {\n",
       "        root._bokeh_is_loading--;\n",
       "        if (root._bokeh_is_loading === 0) {\n",
       "          console.log(\"Bokeh: all BokehJS libraries loaded\");\n",
       "          run_callbacks()\n",
       "        }\n",
       "      };\n",
       "      s.onerror = function() {\n",
       "        console.warn(\"failed to load library \" + url);\n",
       "      };\n",
       "      console.log(\"Bokeh: injecting script tag for BokehJS library: \", url);\n",
       "      document.getElementsByTagName(\"head\")[0].appendChild(s);\n",
       "    }\n",
       "  };var element = document.getElementById(\"ab289bfc-faee-437a-9c31-e6336976a9cc\");\n",
       "  if (element == null) {\n",
       "    console.log(\"Bokeh: ERROR: autoload.js configured with elementid 'ab289bfc-faee-437a-9c31-e6336976a9cc' but no matching script tag was found. \")\n",
       "    return false;\n",
       "  }\n",
       "\n",
       "  var js_urls = [\"https://cdn.pydata.org/bokeh/release/bokeh-0.12.9.min.js\", \"https://cdn.pydata.org/bokeh/release/bokeh-widgets-0.12.9.min.js\", \"https://cdn.pydata.org/bokeh/release/bokeh-tables-0.12.9.min.js\", \"https://cdn.pydata.org/bokeh/release/bokeh-gl-0.12.9.min.js\"];\n",
       "\n",
       "  var inline_js = [\n",
       "    function(Bokeh) {\n",
       "      Bokeh.set_log_level(\"info\");\n",
       "    },\n",
       "    \n",
       "    function(Bokeh) {\n",
       "      \n",
       "    },\n",
       "    function(Bokeh) {\n",
       "      console.log(\"Bokeh: injecting CSS: https://cdn.pydata.org/bokeh/release/bokeh-0.12.9.min.css\");\n",
       "      Bokeh.embed.inject_css(\"https://cdn.pydata.org/bokeh/release/bokeh-0.12.9.min.css\");\n",
       "      console.log(\"Bokeh: injecting CSS: https://cdn.pydata.org/bokeh/release/bokeh-widgets-0.12.9.min.css\");\n",
       "      Bokeh.embed.inject_css(\"https://cdn.pydata.org/bokeh/release/bokeh-widgets-0.12.9.min.css\");\n",
       "      console.log(\"Bokeh: injecting CSS: https://cdn.pydata.org/bokeh/release/bokeh-tables-0.12.9.min.css\");\n",
       "      Bokeh.embed.inject_css(\"https://cdn.pydata.org/bokeh/release/bokeh-tables-0.12.9.min.css\");\n",
       "    }\n",
       "  ];\n",
       "\n",
       "  function run_inline_js() {\n",
       "    \n",
       "    if ((root.Bokeh !== undefined) || (force === true)) {\n",
       "      for (var i = 0; i < inline_js.length; i++) {\n",
       "        inline_js[i].call(root, root.Bokeh);\n",
       "      }if (force === true) {\n",
       "        display_loaded();\n",
       "      }} else if (Date.now() < root._bokeh_timeout) {\n",
       "      setTimeout(run_inline_js, 100);\n",
       "    } else if (!root._bokeh_failed_load) {\n",
       "      console.log(\"Bokeh: BokehJS failed to load within specified timeout.\");\n",
       "      root._bokeh_failed_load = true;\n",
       "    } else if (force !== true) {\n",
       "      var cell = $(document.getElementById(\"ab289bfc-faee-437a-9c31-e6336976a9cc\")).parents('.cell').data().cell;\n",
       "      cell.output_area.append_execute_result(NB_LOAD_WARNING)\n",
       "    }\n",
       "\n",
       "  }\n",
       "\n",
       "  if (root._bokeh_is_loading === 0) {\n",
       "    console.log(\"Bokeh: BokehJS loaded, going straight to plotting\");\n",
       "    run_inline_js();\n",
       "  } else {\n",
       "    load_libs(js_urls, function() {\n",
       "      console.log(\"Bokeh: BokehJS plotting callback run at\", now());\n",
       "      run_inline_js();\n",
       "    });\n",
       "  }\n",
       "}(window));"
      ],
      "application/vnd.bokehjs_load.v0+json": "\n(function(root) {\n  function now() {\n    return new Date();\n  }\n\n  var force = true;\n\n  if (typeof (root._bokeh_onload_callbacks) === \"undefined\" || force === true) {\n    root._bokeh_onload_callbacks = [];\n    root._bokeh_is_loading = undefined;\n  }\n\n  \n\n  \n  if (typeof (root._bokeh_timeout) === \"undefined\" || force === true) {\n    root._bokeh_timeout = Date.now() + 5000;\n    root._bokeh_failed_load = false;\n  }\n\n  var NB_LOAD_WARNING = {'data': {'text/html':\n     \"<div style='background-color: #fdd'>\\n\"+\n     \"<p>\\n\"+\n     \"BokehJS does not appear to have successfully loaded. If loading BokehJS from CDN, this \\n\"+\n     \"may be due to a slow or bad network connection. Possible fixes:\\n\"+\n     \"</p>\\n\"+\n     \"<ul>\\n\"+\n     \"<li>re-rerun `output_notebook()` to attempt to load from CDN again, or</li>\\n\"+\n     \"<li>use INLINE resources instead, as so:</li>\\n\"+\n     \"</ul>\\n\"+\n     \"<code>\\n\"+\n     \"from bokeh.resources import INLINE\\n\"+\n     \"output_notebook(resources=INLINE)\\n\"+\n     \"</code>\\n\"+\n     \"</div>\"}};\n\n  function display_loaded() {\n    var el = document.getElementById(\"ab289bfc-faee-437a-9c31-e6336976a9cc\");\n    if (el != null) {\n      el.textContent = \"BokehJS is loading...\";\n    }\n    if (root.Bokeh !== undefined) {\n      if (el != null) {\n        el.textContent = \"BokehJS \" + root.Bokeh.version + \" successfully loaded.\";\n      }\n    } else if (Date.now() < root._bokeh_timeout) {\n      setTimeout(display_loaded, 100)\n    }\n  }\n\n\n  function run_callbacks() {\n    try {\n      root._bokeh_onload_callbacks.forEach(function(callback) { callback() });\n    }\n    finally {\n      delete root._bokeh_onload_callbacks\n    }\n    console.info(\"Bokeh: all callbacks have finished\");\n  }\n\n  function load_libs(js_urls, callback) {\n    root._bokeh_onload_callbacks.push(callback);\n    if (root._bokeh_is_loading > 0) {\n      console.log(\"Bokeh: BokehJS is being loaded, scheduling callback at\", now());\n      return null;\n    }\n    if (js_urls == null || js_urls.length === 0) {\n      run_callbacks();\n      return null;\n    }\n    console.log(\"Bokeh: BokehJS not loaded, scheduling load and callback at\", now());\n    root._bokeh_is_loading = js_urls.length;\n    for (var i = 0; i < js_urls.length; i++) {\n      var url = js_urls[i];\n      var s = document.createElement('script');\n      s.src = url;\n      s.async = false;\n      s.onreadystatechange = s.onload = function() {\n        root._bokeh_is_loading--;\n        if (root._bokeh_is_loading === 0) {\n          console.log(\"Bokeh: all BokehJS libraries loaded\");\n          run_callbacks()\n        }\n      };\n      s.onerror = function() {\n        console.warn(\"failed to load library \" + url);\n      };\n      console.log(\"Bokeh: injecting script tag for BokehJS library: \", url);\n      document.getElementsByTagName(\"head\")[0].appendChild(s);\n    }\n  };var element = document.getElementById(\"ab289bfc-faee-437a-9c31-e6336976a9cc\");\n  if (element == null) {\n    console.log(\"Bokeh: ERROR: autoload.js configured with elementid 'ab289bfc-faee-437a-9c31-e6336976a9cc' but no matching script tag was found. \")\n    return false;\n  }\n\n  var js_urls = [\"https://cdn.pydata.org/bokeh/release/bokeh-0.12.9.min.js\", \"https://cdn.pydata.org/bokeh/release/bokeh-widgets-0.12.9.min.js\", \"https://cdn.pydata.org/bokeh/release/bokeh-tables-0.12.9.min.js\", \"https://cdn.pydata.org/bokeh/release/bokeh-gl-0.12.9.min.js\"];\n\n  var inline_js = [\n    function(Bokeh) {\n      Bokeh.set_log_level(\"info\");\n    },\n    \n    function(Bokeh) {\n      \n    },\n    function(Bokeh) {\n      console.log(\"Bokeh: injecting CSS: https://cdn.pydata.org/bokeh/release/bokeh-0.12.9.min.css\");\n      Bokeh.embed.inject_css(\"https://cdn.pydata.org/bokeh/release/bokeh-0.12.9.min.css\");\n      console.log(\"Bokeh: injecting CSS: https://cdn.pydata.org/bokeh/release/bokeh-widgets-0.12.9.min.css\");\n      Bokeh.embed.inject_css(\"https://cdn.pydata.org/bokeh/release/bokeh-widgets-0.12.9.min.css\");\n      console.log(\"Bokeh: injecting CSS: https://cdn.pydata.org/bokeh/release/bokeh-tables-0.12.9.min.css\");\n      Bokeh.embed.inject_css(\"https://cdn.pydata.org/bokeh/release/bokeh-tables-0.12.9.min.css\");\n    }\n  ];\n\n  function run_inline_js() {\n    \n    if ((root.Bokeh !== undefined) || (force === true)) {\n      for (var i = 0; i < inline_js.length; i++) {\n        inline_js[i].call(root, root.Bokeh);\n      }if (force === true) {\n        display_loaded();\n      }} else if (Date.now() < root._bokeh_timeout) {\n      setTimeout(run_inline_js, 100);\n    } else if (!root._bokeh_failed_load) {\n      console.log(\"Bokeh: BokehJS failed to load within specified timeout.\");\n      root._bokeh_failed_load = true;\n    } else if (force !== true) {\n      var cell = $(document.getElementById(\"ab289bfc-faee-437a-9c31-e6336976a9cc\")).parents('.cell').data().cell;\n      cell.output_area.append_execute_result(NB_LOAD_WARNING)\n    }\n\n  }\n\n  if (root._bokeh_is_loading === 0) {\n    console.log(\"Bokeh: BokehJS loaded, going straight to plotting\");\n    run_inline_js();\n  } else {\n    load_libs(js_urls, function() {\n      console.log(\"Bokeh: BokehJS plotting callback run at\", now());\n      run_inline_js();\n    });\n  }\n}(window));"
     },
     "metadata": {},
     "output_type": "display_data"
    }
   ],
   "source": [
    "output_notebook()"
   ]
  },
  {
   "cell_type": "code",
   "execution_count": 42,
   "metadata": {},
   "outputs": [],
   "source": [
    "subset_df = coords_df.sample(n=500)"
   ]
  },
  {
   "cell_type": "code",
   "execution_count": 43,
   "metadata": {},
   "outputs": [],
   "source": [
    "p = figure(plot_width=600, plot_height=600)\n",
    "_ = p.text(x=subset_df.x, y=subset_df.y, text=subset_df.token)"
   ]
  },
  {
   "cell_type": "code",
   "execution_count": 44,
   "metadata": {},
   "outputs": [
    {
     "data": {
      "text/html": [
       "\n",
       "<div class=\"bk-root\">\n",
       "    <div class=\"bk-plotdiv\" id=\"e4422894-a71a-4194-acd6-d26cef8294b6\"></div>\n",
       "</div>"
      ]
     },
     "metadata": {},
     "output_type": "display_data"
    },
    {
     "data": {
      "application/javascript": [
       "(function(root) {\n",
       "  function embed_document(root) {\n",
       "    var docs_json = {\"cd37a3b1-0598-4832-b202-d1c48956738f\":{\"roots\":{\"references\":[{\"attributes\":{},\"id\":\"ab804482-1b8d-4df7-842a-1da2648c4fc6\",\"type\":\"LinearScale\"},{\"attributes\":{},\"id\":\"be563e0a-4f56-466a-8dab-891deecb4eea\",\"type\":\"BasicTickFormatter\"},{\"attributes\":{\"callback\":null},\"id\":\"0c10e9e6-445e-4eda-a3a9-7cef5fd1f1d3\",\"type\":\"DataRange1d\"},{\"attributes\":{},\"id\":\"627df8b1-d13e-46ac-8b50-3c71d1d9c796\",\"type\":\"BasicTicker\"},{\"attributes\":{\"text_color\":{\"value\":\"black\"},\"x\":{\"field\":\"x\"},\"y\":{\"field\":\"y\"}},\"id\":\"f98b9efc-181f-4db9-b68b-29378b0b2579\",\"type\":\"Text\"},{\"attributes\":{\"overlay\":{\"id\":\"d2e229f1-61af-40a7-837c-7218e68b5d81\",\"type\":\"BoxAnnotation\"}},\"id\":\"ef39bf04-3683-41d7-87c4-7ca6358e4585\",\"type\":\"BoxZoomTool\"},{\"attributes\":{\"formatter\":{\"id\":\"2f9a0825-cb15-4cf9-893b-92695feb65aa\",\"type\":\"BasicTickFormatter\"},\"plot\":{\"id\":\"5aaf105b-04ba-43a8-83b0-c77c06a2479f\",\"subtype\":\"Figure\",\"type\":\"Plot\"},\"ticker\":{\"id\":\"627df8b1-d13e-46ac-8b50-3c71d1d9c796\",\"type\":\"BasicTicker\"}},\"id\":\"74009fd1-be81-454c-a096-c58edf4de283\",\"type\":\"LinearAxis\"},{\"attributes\":{\"plot\":{\"id\":\"5aaf105b-04ba-43a8-83b0-c77c06a2479f\",\"subtype\":\"Figure\",\"type\":\"Plot\"},\"ticker\":{\"id\":\"7f94602c-5a0e-4bdc-b8eb-d541a65303ff\",\"type\":\"BasicTicker\"}},\"id\":\"2c5d2fed-9719-4d65-93b6-018f98a41a8d\",\"type\":\"Grid\"},{\"attributes\":{\"dimension\":1,\"plot\":{\"id\":\"5aaf105b-04ba-43a8-83b0-c77c06a2479f\",\"subtype\":\"Figure\",\"type\":\"Plot\"},\"ticker\":{\"id\":\"627df8b1-d13e-46ac-8b50-3c71d1d9c796\",\"type\":\"BasicTicker\"}},\"id\":\"dbefd265-16a4-4660-bd70-a1ad047a6c40\",\"type\":\"Grid\"},{\"attributes\":{\"plot\":null,\"text\":\"\"},\"id\":\"4d350563-a3e1-4386-b218-e037b882db67\",\"type\":\"Title\"},{\"attributes\":{\"bottom_units\":\"screen\",\"fill_alpha\":{\"value\":0.5},\"fill_color\":{\"value\":\"lightgrey\"},\"left_units\":\"screen\",\"level\":\"overlay\",\"line_alpha\":{\"value\":1.0},\"line_color\":{\"value\":\"black\"},\"line_dash\":[4,4],\"line_width\":{\"value\":2},\"plot\":null,\"render_mode\":\"css\",\"right_units\":\"screen\",\"top_units\":\"screen\"},\"id\":\"d2e229f1-61af-40a7-837c-7218e68b5d81\",\"type\":\"BoxAnnotation\"},{\"attributes\":{},\"id\":\"7f94602c-5a0e-4bdc-b8eb-d541a65303ff\",\"type\":\"BasicTicker\"},{\"attributes\":{\"below\":[{\"id\":\"1535f28f-3272-4ae4-b41e-42a05914c402\",\"type\":\"LinearAxis\"}],\"left\":[{\"id\":\"74009fd1-be81-454c-a096-c58edf4de283\",\"type\":\"LinearAxis\"}],\"renderers\":[{\"id\":\"1535f28f-3272-4ae4-b41e-42a05914c402\",\"type\":\"LinearAxis\"},{\"id\":\"2c5d2fed-9719-4d65-93b6-018f98a41a8d\",\"type\":\"Grid\"},{\"id\":\"74009fd1-be81-454c-a096-c58edf4de283\",\"type\":\"LinearAxis\"},{\"id\":\"dbefd265-16a4-4660-bd70-a1ad047a6c40\",\"type\":\"Grid\"},{\"id\":\"d2e229f1-61af-40a7-837c-7218e68b5d81\",\"type\":\"BoxAnnotation\"},{\"id\":\"06252a90-928a-496b-925a-53fe57a2a5fd\",\"type\":\"GlyphRenderer\"}],\"title\":{\"id\":\"4d350563-a3e1-4386-b218-e037b882db67\",\"type\":\"Title\"},\"toolbar\":{\"id\":\"d8b70642-20eb-454f-b4d1-46027cc92a6b\",\"type\":\"Toolbar\"},\"x_range\":{\"id\":\"0c10e9e6-445e-4eda-a3a9-7cef5fd1f1d3\",\"type\":\"DataRange1d\"},\"x_scale\":{\"id\":\"ab804482-1b8d-4df7-842a-1da2648c4fc6\",\"type\":\"LinearScale\"},\"y_range\":{\"id\":\"c1576c1c-4de0-4ae8-aeb0-8327c31565ee\",\"type\":\"DataRange1d\"},\"y_scale\":{\"id\":\"46dc45d3-924a-4ddc-b8ac-bb27f6134b4a\",\"type\":\"LinearScale\"}},\"id\":\"5aaf105b-04ba-43a8-83b0-c77c06a2479f\",\"subtype\":\"Figure\",\"type\":\"Plot\"},{\"attributes\":{},\"id\":\"46dc45d3-924a-4ddc-b8ac-bb27f6134b4a\",\"type\":\"LinearScale\"},{\"attributes\":{},\"id\":\"b69603c9-8e2c-4052-a278-fd71427bb78b\",\"type\":\"HelpTool\"},{\"attributes\":{\"text_alpha\":{\"value\":0.1},\"text_color\":{\"value\":\"black\"},\"x\":{\"field\":\"x\"},\"y\":{\"field\":\"y\"}},\"id\":\"8b336545-8601-4e77-8d33-b21d03c7931c\",\"type\":\"Text\"},{\"attributes\":{},\"id\":\"41c1240c-1b45-421a-83a2-76829c917ac2\",\"type\":\"PanTool\"},{\"attributes\":{\"active_drag\":\"auto\",\"active_inspect\":\"auto\",\"active_scroll\":\"auto\",\"active_tap\":\"auto\",\"tools\":[{\"id\":\"41c1240c-1b45-421a-83a2-76829c917ac2\",\"type\":\"PanTool\"},{\"id\":\"838690bf-a6e7-411b-8ffa-2c74a6a11c6b\",\"type\":\"WheelZoomTool\"},{\"id\":\"ef39bf04-3683-41d7-87c4-7ca6358e4585\",\"type\":\"BoxZoomTool\"},{\"id\":\"d4293a38-0ad6-4252-81d6-5381aeb739cb\",\"type\":\"SaveTool\"},{\"id\":\"3d0cd555-be4f-4a31-a1e0-41f32289337b\",\"type\":\"ResetTool\"},{\"id\":\"b69603c9-8e2c-4052-a278-fd71427bb78b\",\"type\":\"HelpTool\"}]},\"id\":\"d8b70642-20eb-454f-b4d1-46027cc92a6b\",\"type\":\"Toolbar\"},{\"attributes\":{},\"id\":\"3d0cd555-be4f-4a31-a1e0-41f32289337b\",\"type\":\"ResetTool\"},{\"attributes\":{},\"id\":\"2f9a0825-cb15-4cf9-893b-92695feb65aa\",\"type\":\"BasicTickFormatter\"},{\"attributes\":{\"callback\":null},\"id\":\"c1576c1c-4de0-4ae8-aeb0-8327c31565ee\",\"type\":\"DataRange1d\"},{\"attributes\":{},\"id\":\"838690bf-a6e7-411b-8ffa-2c74a6a11c6b\",\"type\":\"WheelZoomTool\"},{\"attributes\":{\"data_source\":{\"id\":\"28471f31-6c68-4152-8485-10a07e333421\",\"type\":\"ColumnDataSource\"},\"glyph\":{\"id\":\"f98b9efc-181f-4db9-b68b-29378b0b2579\",\"type\":\"Text\"},\"hover_glyph\":null,\"muted_glyph\":null,\"nonselection_glyph\":{\"id\":\"8b336545-8601-4e77-8d33-b21d03c7931c\",\"type\":\"Text\"},\"selection_glyph\":null,\"view\":{\"id\":\"182e39e5-246e-4629-abd7-02f07451f174\",\"type\":\"CDSView\"}},\"id\":\"06252a90-928a-496b-925a-53fe57a2a5fd\",\"type\":\"GlyphRenderer\"},{\"attributes\":{\"formatter\":{\"id\":\"be563e0a-4f56-466a-8dab-891deecb4eea\",\"type\":\"BasicTickFormatter\"},\"plot\":{\"id\":\"5aaf105b-04ba-43a8-83b0-c77c06a2479f\",\"subtype\":\"Figure\",\"type\":\"Plot\"},\"ticker\":{\"id\":\"7f94602c-5a0e-4bdc-b8eb-d541a65303ff\",\"type\":\"BasicTicker\"}},\"id\":\"1535f28f-3272-4ae4-b41e-42a05914c402\",\"type\":\"LinearAxis\"},{\"attributes\":{},\"id\":\"d4293a38-0ad6-4252-81d6-5381aeb739cb\",\"type\":\"SaveTool\"},{\"attributes\":{\"callback\":null,\"column_names\":[\"x\",\"y\",\"text\"],\"data\":{\"text\":[\"determined\",\"start\",\"draught\",\"forced\",\"indeed\",\"wishes\",\"street\",\"informed\",\"appeared\",\"shewing\",\"thousands\",\"house\",\"endeavour\",\"effects\",\"drinking\",\"instant\",\"distance\",\"year\",\"As\",\"recovered\",\"endure\",\"nature\",\"girl\",\"happy\",\"enter\",\"strange\",\"assure\",\"constantly\",\"Have\",\"size\",\"all\",\"boarder\",\"tired\",\"independent\",\"foolish\",\"watched\",\"character\",\"system\",\"felicity\",\"parlour\",\"would\",\"invitation\",\"relief\",\"conceive\",\"Never\",\"distress\",\"plaister\",\"going\",\"invited\",\"imagination\",\"upright\",\"Perhaps\",\"hardly\",\"shop\",\"excellent\",\"sea\",\"_not_\",\"altered\",\"at\",\"On\",\"longer\",\"hence\",\"general\",\"amiable\",\"advantage\",\"Let\",\"eye\",\"trust\",\"distinction\",\"wanted\",\"illness\",\"staid\",\"barely\",\"heartily\",\"carried\",\"pleased\",\"him\",\"preparation\",\"entire\",\"cutting\",\"strength\",\"soft\",\"natured\",\"sisters\",\"variety\",\"may\",\"refrain\",\"quickly\",\"learn\",\"lover\",\"t\",\"candour\",\"yet\",\"proud\",\"husband\",\"Perry\",\"fear\",\"expect\",\"lively\",\"such\",\"pretence\",\"mentioning\",\"talent\",\"silent\",\"days\",\"somehow\",\"occurred\",\"lucky\",\"his\",\"wonder\",\"finest\",\"earnest\",\"sentiments\",\"merit\",\"gay\",\"Two\",\"thankful\",\"away\",\"grief\",\"are\",\"gates\",\"ye\",\"negligent\",\"month\",\"rational\",\"motive\",\"hall\",\"do\",\"fortunate\",\"compliments\",\"shewn\",\"declined\",\"beyond\",\"spare\",\"horror\",\"concerned\",\"personal\",\"wretched\",\"s\",\"plans\",\"miles\",\"natural\",\"charity\",\"suddenly\",\"uneasy\",\"sensible\",\"apologies\",\"another\",\"road\",\"cease\",\"At\",\"fact\",\"warmest\",\"children\",\"garden\",\"consciousness\",\"Indeed\",\"unless\",\"animated\",\"death\",\"fearful\",\"--\\\"\",\"suspense\",\"new\",\"observe\",\"steady\",\"putting\",\"stop\",\"laid\",\"eagerness\",\"choice\",\"vanity\",\"partial\",\"source\",\"Here\",\"parade\",\"benefit\",\"led\",\"being\",\"supply\",\"stir\",\"winter\",\"noble\",\"son\",\"unreasonable\",\"ceremony\",\"self\",\"own\",\"work\",\"Hill\",\"taste\",\"recollect\",\"inquiries\",\"parties\",\"brother\",\"especially\",\"heat\",\"pleasant\",\"few\",\"employed\",\"looks\",\"aunt\",\"men\",\"deficient\",\"Hawkins\",\"While\",\"conscious\",\"blushed\",\"Every\",\"came\",\"peace\",\"immediately\",\"resolved\",\"encouragement\",\"rate\",\"acting\",\"recollections\",\"servant\",\"spirits\",\"think\",\"shook\",\"admitted\",\"previous\",\"E\",\"ear\",\"unworthy\",\"herself\",\"still\",\"neighbour\",\"requires\",\"evident\",\"forgotten\",\"quarter\",\"moving\",\"All\",\"pains\",\"containing\",\"greater\",\"communication\",\"pass\",\"politeness\",\"Bath\",\"risk\",\"scruple\",\"require\",\"go\",\"dance\",\"considered\",\"addition\",\"places\",\"lose\",\"court\",\"judging\",\"civility\",\"voice\",\"unusual\",\"reserved\",\"condition\",\"humble\",\"Eltons\",\"mortification\",\"indignation\",\"Abbey\",\"comfortably\",\"dearer\",\"explanation\",\"preferred\",\"!'\",\"my\",\"detained\",\"supper\",\"unfortunately\",\"lace\",\"evils\",\"excepting\",\"poor\",\"improvement\",\"hands\",\"momentary\",\"Colonel\",\"better\",\"probably\",\"mind\",\"odd\",\"deeply\",\"taken\",\"some\",\"weather\",\"Hodges\",\"quickness\",\"plenty\",\"reserve\",\"November\",\"strong\",\"eager\",\"lasting\",\"positively\",\"daily\",\"assurance\",\"relate\",\"reflections\",\"_him_\",\"walk\",\"means\",\"while\",\"delightfully\",\"stay\",\"three\",\"distinguishing\",\"the\",\"recover\",\"true\",\"Enscombe\",\"authority\",\"free\",\"unexceptionable\",\"angry\",\"gentlemen\",\"manners\",\"prudence\",\"warmth\",\"don\",\"miserable\",\"communicated\",\"Be\",\"working\",\"apple\",\"happened\",\"knew\",\"resemblance\",\"mother\",\"happiest\",\"Has\",\"cold\",\"symptoms\",\"intelligible\",\"powers\",\"hurrying\",\"six\",\"following\",\"plain\",\"wherever\",\"encouraged\",\"compared\",\"Don\",\"deserves\",\"low\",\"carrying\",\"besides\",\"like\",\"arm\",\"September\",\"melancholy\",\"triumph\",\"received\",\"it\",\"Sucklings\",\"generally\",\"returning\",\"visiting\",\"family\",\"enjoy\",\"Who\",\"apt\",\"vulgar\",\"concerns\",\"agree\",\"joined\",\"imprudent\",\"frequently\",\"sat\",\"perhaps\",\"certain\",\"reconciled\",\"observations\",\"wholesome\",\"outward\",\"begun\",\"depended\",\"third\",\"parted\",\"gentility\",\"others\",\"Why\",\"why\",\"flow\",\"guard\",\"scruples\",\"extraordinary\",\"engagement\",\"possession\",\"papa\",\"laughing\",\"myself\",\"afternoon\",\"steps\",\"speak\",\"established\",\"introduced\",\"Our\",\"talker\",\",'\",\"spread\",\"approved\",\"pay\",\"They\",\"hints\",\"friendly\",\"particularly\",\"displeasure\",\"Bragge\",\"formed\",\"been\",\"round\",\"pleasing\",\"credit\",\"school\",\"brought\",\"exertion\",\"latter\",\"South\",\"improve\",\"reading\",\"tall\",\"probability\",\"simple\",\"Will\",\"warmly\",\"ought\",\"value\",\"interesting\",\"time\",\"quiet\",\"occasionally\",\"least\",\"Crown\",\"miss\",\"ashamed\",\"deny\",\"downright\",\"doing\",\"houses\",\"couple\",\"excited\",\"last\",\"eldest\",\"ordered\",\"strawberries\",\"You\",\"bride\",\"told\",\"compose\",\"induced\",\"happiness\",\"urge\",\"presumed\",\"opinion\",\"confidence\",\"ended\",\"hair\",\"continued\",\"lovely\",\"impossible\",\"unreserve\",\"unfortunate\",\"creating\",\"parcel\",\"gives\",\"Dear\",\"dare\",\"!\\\"\",\"attached\",\"Campbells\",\"passion\",\"cause\",\"curiosity\",\"marriage\",\"understanding\",\"fit\",\"astonishment\",\"coming\",\"kindly\",\"important\",\"introduce\",\"?\",\"remembrance\",\"constant\",\"getting\",\"forgive\",\"fault\",\"exert\",\"stronger\",\"directed\",\"cannot\",\"communications\",\"separate\",\"crowd\",\"prepared\",\"farmer\",\"sincerely\"],\"x\":{\"__ndarray__\":\"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\",\"dtype\":\"float64\",\"shape\":[500]},\"y\":{\"__ndarray__\":\"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\",\"dtype\":\"float64\",\"shape\":[500]}}},\"id\":\"28471f31-6c68-4152-8485-10a07e333421\",\"type\":\"ColumnDataSource\"},{\"attributes\":{\"source\":{\"id\":\"28471f31-6c68-4152-8485-10a07e333421\",\"type\":\"ColumnDataSource\"}},\"id\":\"182e39e5-246e-4629-abd7-02f07451f174\",\"type\":\"CDSView\"}],\"root_ids\":[\"5aaf105b-04ba-43a8-83b0-c77c06a2479f\"]},\"title\":\"Bokeh Application\",\"version\":\"0.12.9\"}};\n",
       "    var render_items = [{\"docid\":\"cd37a3b1-0598-4832-b202-d1c48956738f\",\"elementid\":\"e4422894-a71a-4194-acd6-d26cef8294b6\",\"modelid\":\"5aaf105b-04ba-43a8-83b0-c77c06a2479f\"}];\n",
       "\n",
       "    root.Bokeh.embed.embed_items(docs_json, render_items);\n",
       "  }\n",
       "\n",
       "  if (root.Bokeh !== undefined) {\n",
       "    embed_document(root);\n",
       "  } else {\n",
       "    var attempts = 0;\n",
       "    var timer = setInterval(function(root) {\n",
       "      if (root.Bokeh !== undefined) {\n",
       "        embed_document(root);\n",
       "        clearInterval(timer);\n",
       "      }\n",
       "      attempts++;\n",
       "      if (attempts > 100) {\n",
       "        console.log(\"Bokeh: ERROR: Unable to embed document because BokehJS library is missing\")\n",
       "        clearInterval(timer);\n",
       "      }\n",
       "    }, 10, root)\n",
       "  }\n",
       "})(window);"
      ],
      "application/vnd.bokehjs_exec.v0+json": ""
     },
     "metadata": {
      "application/vnd.bokehjs_exec.v0+json": {
       "id": "5aaf105b-04ba-43a8-83b0-c77c06a2479f"
      }
     },
     "output_type": "display_data"
    }
   ],
   "source": [
    "show(p)"
   ]
  },
  {
   "cell_type": "code",
   "execution_count": null,
   "metadata": {},
   "outputs": [],
   "source": []
  }
 ],
 "metadata": {
  "kernelspec": {
   "display_name": "Python 3",
   "language": "python",
   "name": "python3"
  },
  "language_info": {
   "codemirror_mode": {
    "name": "ipython",
    "version": 3
   },
   "file_extension": ".py",
   "mimetype": "text/x-python",
   "name": "python",
   "nbconvert_exporter": "python",
   "pygments_lexer": "ipython3",
   "version": "3.6.2"
  }
 },
 "nbformat": 4,
 "nbformat_minor": 2
}
