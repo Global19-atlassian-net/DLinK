{
 "cells": [
  {
   "cell_type": "markdown",
   "metadata": {},
   "source": [
    "# Creating Word Vectors with word2vec"
   ]
  },
  {
   "cell_type": "markdown",
   "metadata": {},
   "source": [
    "Let's start with NLTK"
   ]
  },
  {
   "cell_type": "markdown",
   "metadata": {},
   "source": [
    "#### Load Dependencies"
   ]
  },
  {
   "cell_type": "code",
   "execution_count": 1,
   "metadata": {},
   "outputs": [
    {
     "name": "stderr",
     "output_type": "stream",
     "text": [
      "Using TensorFlow backend.\n"
     ]
    }
   ],
   "source": [
    "import nltk\n",
    "from nltk import word_tokenize, sent_tokenize\n",
    "import gensim\n",
    "from gensim.models.word2vec import Word2Vec\n",
    "from sklearn.manifold import TSNE\n",
    "import pandas as pd\n",
    "from bokeh.io import output_notebook\n",
    "from bokeh.plotting import show, figure\n",
    "%matplotlib inline"
   ]
  },
  {
   "cell_type": "code",
   "execution_count": 2,
   "metadata": {},
   "outputs": [
    {
     "name": "stdout",
     "output_type": "stream",
     "text": [
      "[nltk_data] Downloading package punkt to /home/jovyan/nltk_data...\n",
      "[nltk_data]   Package punkt is already up-to-date!\n"
     ]
    },
    {
     "data": {
      "text/plain": [
       "True"
      ]
     },
     "execution_count": 2,
     "metadata": {},
     "output_type": "execute_result"
    }
   ],
   "source": [
    "nltk.download('punkt')"
   ]
  },
  {
   "cell_type": "markdown",
   "metadata": {},
   "source": [
    "#### Load Data"
   ]
  },
  {
   "cell_type": "code",
   "execution_count": 3,
   "metadata": {},
   "outputs": [
    {
     "name": "stdout",
     "output_type": "stream",
     "text": [
      "[nltk_data] Downloading package gutenberg to /home/jovyan/nltk_data...\n",
      "[nltk_data]   Package gutenberg is already up-to-date!\n"
     ]
    },
    {
     "data": {
      "text/plain": [
       "True"
      ]
     },
     "execution_count": 3,
     "metadata": {},
     "output_type": "execute_result"
    }
   ],
   "source": [
    "nltk.download('gutenberg')"
   ]
  },
  {
   "cell_type": "code",
   "execution_count": 4,
   "metadata": {},
   "outputs": [],
   "source": [
    "from nltk.corpus import gutenberg"
   ]
  },
  {
   "cell_type": "code",
   "execution_count": 5,
   "metadata": {},
   "outputs": [
    {
     "data": {
      "text/plain": [
       "['austen-emma.txt',\n",
       " 'austen-persuasion.txt',\n",
       " 'austen-sense.txt',\n",
       " 'bible-kjv.txt',\n",
       " 'blake-poems.txt',\n",
       " 'bryant-stories.txt',\n",
       " 'burgess-busterbrown.txt',\n",
       " 'carroll-alice.txt',\n",
       " 'chesterton-ball.txt',\n",
       " 'chesterton-brown.txt',\n",
       " 'chesterton-thursday.txt',\n",
       " 'edgeworth-parents.txt',\n",
       " 'melville-moby_dick.txt',\n",
       " 'milton-paradise.txt',\n",
       " 'shakespeare-caesar.txt',\n",
       " 'shakespeare-hamlet.txt',\n",
       " 'shakespeare-macbeth.txt',\n",
       " 'whitman-leaves.txt']"
      ]
     },
     "execution_count": 5,
     "metadata": {},
     "output_type": "execute_result"
    }
   ],
   "source": [
    "gutenberg.fileids()"
   ]
  },
  {
   "cell_type": "markdown",
   "metadata": {},
   "source": [
    "#### Tokenize Text"
   ]
  },
  {
   "cell_type": "code",
   "execution_count": 6,
   "metadata": {},
   "outputs": [],
   "source": [
    "# Due to lack of resources, I'm not working with the full Gutenberg dataset (18 books).\n",
    "gberg_sent_tokens = sent_tokenize(gutenberg.raw(fileids=['austen-emma.txt', 'austen-persuasion.txt', 'austen-sense.txt', 'carroll-alice.txt']))"
   ]
  },
  {
   "cell_type": "code",
   "execution_count": 7,
   "metadata": {},
   "outputs": [
    {
     "data": {
      "text/plain": [
       "['[Emma by Jane Austen 1816]\\n\\nVOLUME I\\n\\nCHAPTER I\\n\\n\\nEmma Woodhouse, handsome, clever, and rich, with a comfortable home\\nand happy disposition, seemed to unite some of the best blessings\\nof existence; and had lived nearly twenty-one years in the world\\nwith very little to distress or vex her.',\n",
       " \"She was the youngest of the two daughters of a most affectionate,\\nindulgent father; and had, in consequence of her sister's marriage,\\nbeen mistress of his house from a very early period.\",\n",
       " 'Her mother\\nhad died too long ago for her to have more than an indistinct\\nremembrance of her caresses; and her place had been supplied\\nby an excellent woman as governess, who had fallen little short\\nof a mother in affection.',\n",
       " \"Sixteen years had Miss Taylor been in Mr. Woodhouse's family,\\nless as a governess than a friend, very fond of both daughters,\\nbut particularly of Emma.\",\n",
       " 'Between _them_ it was more the intimacy\\nof sisters.']"
      ]
     },
     "execution_count": 7,
     "metadata": {},
     "output_type": "execute_result"
    }
   ],
   "source": [
    "gberg_sent_tokens[0:5]"
   ]
  },
  {
   "cell_type": "code",
   "execution_count": 8,
   "metadata": {},
   "outputs": [
    {
     "data": {
      "text/plain": [
       "\"She was the youngest of the two daughters of a most affectionate,\\nindulgent father; and had, in consequence of her sister's marriage,\\nbeen mistress of his house from a very early period.\""
      ]
     },
     "execution_count": 8,
     "metadata": {},
     "output_type": "execute_result"
    }
   ],
   "source": [
    "gberg_sent_tokens[1]"
   ]
  },
  {
   "cell_type": "code",
   "execution_count": 9,
   "metadata": {},
   "outputs": [
    {
     "data": {
      "text/plain": [
       "['She',\n",
       " 'was',\n",
       " 'the',\n",
       " 'youngest',\n",
       " 'of',\n",
       " 'the',\n",
       " 'two',\n",
       " 'daughters',\n",
       " 'of',\n",
       " 'a',\n",
       " 'most',\n",
       " 'affectionate',\n",
       " ',',\n",
       " 'indulgent',\n",
       " 'father',\n",
       " ';',\n",
       " 'and',\n",
       " 'had',\n",
       " ',',\n",
       " 'in',\n",
       " 'consequence',\n",
       " 'of',\n",
       " 'her',\n",
       " 'sister',\n",
       " \"'s\",\n",
       " 'marriage',\n",
       " ',',\n",
       " 'been',\n",
       " 'mistress',\n",
       " 'of',\n",
       " 'his',\n",
       " 'house',\n",
       " 'from',\n",
       " 'a',\n",
       " 'very',\n",
       " 'early',\n",
       " 'period',\n",
       " '.']"
      ]
     },
     "execution_count": 9,
     "metadata": {},
     "output_type": "execute_result"
    }
   ],
   "source": [
    "word_tokenize(gberg_sent_tokens[1])"
   ]
  },
  {
   "cell_type": "code",
   "execution_count": 10,
   "metadata": {},
   "outputs": [
    {
     "data": {
      "text/plain": [
       "'father'"
      ]
     },
     "execution_count": 10,
     "metadata": {},
     "output_type": "execute_result"
    }
   ],
   "source": [
    "word_tokenize(gberg_sent_tokens[1])[14]"
   ]
  },
  {
   "cell_type": "code",
   "execution_count": 11,
   "metadata": {},
   "outputs": [],
   "source": [
    "# Due to lack of resources, I'm not working with the full Gutenberg dataset (18 books).\n",
    "gberg_sents = gutenberg.sents(fileids=['austen-emma.txt', 'austen-persuasion.txt', 'austen-sense.txt', 'carroll-alice.txt'])"
   ]
  },
  {
   "cell_type": "code",
   "execution_count": 12,
   "metadata": {},
   "outputs": [
    {
     "data": {
      "text/plain": [
       "[['[', 'Emma', 'by', 'Jane', 'Austen', '1816', ']'],\n",
       " ['VOLUME', 'I'],\n",
       " ['CHAPTER', 'I'],\n",
       " ['Emma',\n",
       "  'Woodhouse',\n",
       "  ',',\n",
       "  'handsome',\n",
       "  ',',\n",
       "  'clever',\n",
       "  ',',\n",
       "  'and',\n",
       "  'rich',\n",
       "  ',',\n",
       "  'with',\n",
       "  'a',\n",
       "  'comfortable',\n",
       "  'home',\n",
       "  'and',\n",
       "  'happy',\n",
       "  'disposition',\n",
       "  ',',\n",
       "  'seemed',\n",
       "  'to',\n",
       "  'unite',\n",
       "  'some',\n",
       "  'of',\n",
       "  'the',\n",
       "  'best',\n",
       "  'blessings',\n",
       "  'of',\n",
       "  'existence',\n",
       "  ';',\n",
       "  'and',\n",
       "  'had',\n",
       "  'lived',\n",
       "  'nearly',\n",
       "  'twenty',\n",
       "  '-',\n",
       "  'one',\n",
       "  'years',\n",
       "  'in',\n",
       "  'the',\n",
       "  'world',\n",
       "  'with',\n",
       "  'very',\n",
       "  'little',\n",
       "  'to',\n",
       "  'distress',\n",
       "  'or',\n",
       "  'vex',\n",
       "  'her',\n",
       "  '.'],\n",
       " ['She',\n",
       "  'was',\n",
       "  'the',\n",
       "  'youngest',\n",
       "  'of',\n",
       "  'the',\n",
       "  'two',\n",
       "  'daughters',\n",
       "  'of',\n",
       "  'a',\n",
       "  'most',\n",
       "  'affectionate',\n",
       "  ',',\n",
       "  'indulgent',\n",
       "  'father',\n",
       "  ';',\n",
       "  'and',\n",
       "  'had',\n",
       "  ',',\n",
       "  'in',\n",
       "  'consequence',\n",
       "  'of',\n",
       "  'her',\n",
       "  'sister',\n",
       "  \"'\",\n",
       "  's',\n",
       "  'marriage',\n",
       "  ',',\n",
       "  'been',\n",
       "  'mistress',\n",
       "  'of',\n",
       "  'his',\n",
       "  'house',\n",
       "  'from',\n",
       "  'a',\n",
       "  'very',\n",
       "  'early',\n",
       "  'period',\n",
       "  '.']]"
      ]
     },
     "execution_count": 12,
     "metadata": {},
     "output_type": "execute_result"
    }
   ],
   "source": [
    "gberg_sents[0:5]"
   ]
  },
  {
   "cell_type": "code",
   "execution_count": 13,
   "metadata": {},
   "outputs": [
    {
     "data": {
      "text/plain": [
       "'father'"
      ]
     },
     "execution_count": 13,
     "metadata": {},
     "output_type": "execute_result"
    }
   ],
   "source": [
    "gberg_sents[4][14]"
   ]
  },
  {
   "cell_type": "code",
   "execution_count": 14,
   "metadata": {},
   "outputs": [
    {
     "data": {
      "text/plain": [
       "['[', 'Emma', 'by', 'Jane', 'Austen', '1816', ']', ...]"
      ]
     },
     "execution_count": 14,
     "metadata": {},
     "output_type": "execute_result"
    }
   ],
   "source": [
    "gutenberg.words()"
   ]
  },
  {
   "cell_type": "code",
   "execution_count": 15,
   "metadata": {},
   "outputs": [
    {
     "data": {
      "text/plain": [
       "466284"
      ]
     },
     "execution_count": 15,
     "metadata": {},
     "output_type": "execute_result"
    }
   ],
   "source": [
    "# Due to lack of resources, I'm not working with the full Gutenberg dataset (18 books).\n",
    "len(gutenberg.words(fileids=['austen-emma.txt', 'austen-persuasion.txt', 'austen-sense.txt', 'carroll-alice.txt']))"
   ]
  },
  {
   "cell_type": "markdown",
   "metadata": {},
   "source": [
    "#### Run Word2Vec"
   ]
  },
  {
   "cell_type": "code",
   "execution_count": 16,
   "metadata": {},
   "outputs": [],
   "source": [
    "# size == dimensions\n",
    "# window 10: 20 context words, 10 to the left and 10 to the right\n",
    "model = Word2Vec(sentences=gberg_sents, size=64, sg=1, window=10, min_count=5, seed=42, workers=2)"
   ]
  },
  {
   "cell_type": "code",
   "execution_count": 17,
   "metadata": {},
   "outputs": [],
   "source": [
    "# We don't have to save the model if we don't want to. It's being done here as demonstration.\n",
    "model.save('raw_gutenberg_model.w2v')"
   ]
  },
  {
   "cell_type": "markdown",
   "metadata": {},
   "source": [
    "#### Explore the Model"
   ]
  },
  {
   "cell_type": "code",
   "execution_count": 18,
   "metadata": {},
   "outputs": [],
   "source": [
    "model = Word2Vec.load('raw_gutenberg_model.w2v')"
   ]
  },
  {
   "cell_type": "code",
   "execution_count": 19,
   "metadata": {},
   "outputs": [
    {
     "data": {
      "text/plain": [
       "array([ 0.43951929,  0.20345363, -0.12350496, -0.22693247,  0.13012436,\n",
       "        0.43263096, -0.06086079, -0.28693768,  0.03658728, -0.16363265,\n",
       "        0.08530718,  0.17591736,  0.02361562, -0.12141223,  0.19483131,\n",
       "       -0.12127479, -0.3244608 ,  0.76228642,  0.12957637, -0.40177354,\n",
       "        0.10379501, -0.20748216, -0.10074964, -0.21412633,  0.14703584,\n",
       "        0.05053272, -0.01361896,  0.10677844,  0.40056241, -0.0289387 ,\n",
       "        0.10345098,  0.31935829,  0.07284847, -0.09583906,  0.34848803,\n",
       "       -0.49537802,  0.18112972, -0.3836998 ,  0.10134034,  0.11419357,\n",
       "        0.63601786, -0.12048271,  0.28826013,  0.25589827,  0.17686081,\n",
       "       -0.11655235, -0.09858518,  0.07610506,  0.27675855,  0.12048908,\n",
       "       -0.13589375,  0.37858659, -0.1755271 , -0.07064102, -0.38758591,\n",
       "        0.02026783,  0.26397982, -0.09220792, -0.06000375,  0.17543206,\n",
       "       -0.18837382, -0.09307611, -0.14029233, -0.04388688], dtype=float32)"
      ]
     },
     "execution_count": 19,
     "metadata": {},
     "output_type": "execute_result"
    }
   ],
   "source": [
    "model['house']"
   ]
  },
  {
   "cell_type": "code",
   "execution_count": 20,
   "metadata": {},
   "outputs": [
    {
     "data": {
      "text/plain": [
       "64"
      ]
     },
     "execution_count": 20,
     "metadata": {},
     "output_type": "execute_result"
    }
   ],
   "source": [
    "len(model['house'])"
   ]
  },
  {
   "cell_type": "code",
   "execution_count": 21,
   "metadata": {},
   "outputs": [
    {
     "data": {
      "text/plain": [
       "[('Place', 0.811130166053772),\n",
       " ('shop', 0.8057742714881897),\n",
       " ('dining', 0.7984946966171265),\n",
       " ('Camden', 0.793912410736084),\n",
       " ('drove', 0.7894566059112549),\n",
       " ('card', 0.7870776057243347),\n",
       " ('carriages', 0.7848575115203857),\n",
       " ('landau', 0.7848074436187744),\n",
       " ('doors', 0.7846565246582031),\n",
       " ('dressing', 0.7832915782928467)]"
      ]
     },
     "execution_count": 21,
     "metadata": {},
     "output_type": "execute_result"
    }
   ],
   "source": [
    "model.most_similar('house')"
   ]
  },
  {
   "cell_type": "code",
   "execution_count": 22,
   "metadata": {},
   "outputs": [
    {
     "data": {
      "text/plain": [
       "[('grant', 0.8283084630966187),\n",
       " ('agree', 0.816801905632019),\n",
       " ('manage', 0.8121541738510132),\n",
       " ('deny', 0.8087695837020874),\n",
       " ('expect', 0.8077518939971924),\n",
       " ('pretend', 0.8055640459060669),\n",
       " ('hesitate', 0.8037261962890625),\n",
       " ('forgive', 0.7959498167037964),\n",
       " ('venture', 0.7946842312812805),\n",
       " ('suppose', 0.7916132211685181)]"
      ]
     },
     "execution_count": 22,
     "metadata": {},
     "output_type": "execute_result"
    }
   ],
   "source": [
    "model.most_similar('think')"
   ]
  },
  {
   "cell_type": "code",
   "execution_count": 23,
   "metadata": {},
   "outputs": [
    {
     "data": {
      "text/plain": [
       "[('evening', 0.8378722071647644),\n",
       " ('morning', 0.8360257744789124),\n",
       " ('night', 0.7744661569595337),\n",
       " ('month', 0.7601619958877563),\n",
       " ('spend', 0.7497485876083374),\n",
       " ('next', 0.7461041212081909),\n",
       " ('Box', 0.7449760437011719),\n",
       " ('week', 0.7388782501220703),\n",
       " ('afternoon', 0.7373006343841553),\n",
       " ('Saturday', 0.7325820922851562)]"
      ]
     },
     "execution_count": 23,
     "metadata": {},
     "output_type": "execute_result"
    }
   ],
   "source": [
    "model.most_similar('day')"
   ]
  },
  {
   "cell_type": "code",
   "execution_count": 24,
   "metadata": {},
   "outputs": [
    {
     "data": {
      "text/plain": [
       "[('mother', 0.8715599775314331),\n",
       " ('aunt', 0.8328174352645874),\n",
       " ('brother', 0.8229626417160034),\n",
       " ('husband', 0.8143963813781738),\n",
       " ('wishes', 0.8131052851676941),\n",
       " ('sister', 0.8092051148414612),\n",
       " ('sake', 0.7808470129966736),\n",
       " ('Isabella', 0.7767211198806763),\n",
       " ('uncle', 0.7749599814414978),\n",
       " ('daughter', 0.7736835479736328)]"
      ]
     },
     "execution_count": 24,
     "metadata": {},
     "output_type": "execute_result"
    }
   ],
   "source": [
    "model.most_similar('father')"
   ]
  },
  {
   "cell_type": "code",
   "execution_count": 25,
   "metadata": {},
   "outputs": [
    {
     "data": {
      "text/plain": [
       "'house'"
      ]
     },
     "execution_count": 25,
     "metadata": {},
     "output_type": "execute_result"
    }
   ],
   "source": [
    "model.doesnt_match('mother father daughter house'.split())"
   ]
  },
  {
   "cell_type": "code",
   "execution_count": 26,
   "metadata": {},
   "outputs": [
    {
     "data": {
      "text/plain": [
       "0.52142599915970789"
      ]
     },
     "execution_count": 26,
     "metadata": {},
     "output_type": "execute_result"
    }
   ],
   "source": [
    "model.similarity('father', 'house')"
   ]
  },
  {
   "cell_type": "code",
   "execution_count": 27,
   "metadata": {},
   "outputs": [
    {
     "data": {
      "text/plain": [
       "[('mother', 0.7976123690605164),\n",
       " ('husband', 0.7698510885238647),\n",
       " ('sister', 0.7507162094116211),\n",
       " ('aunt', 0.7425578832626343),\n",
       " ('wishes', 0.7321113348007202),\n",
       " ('friend', 0.7317440509796143),\n",
       " ('daughter', 0.7195297479629517),\n",
       " ('nurse', 0.7042011618614197),\n",
       " ('sake', 0.6932041645050049),\n",
       " ('affections', 0.6879606246948242)]"
      ]
     },
     "execution_count": 27,
     "metadata": {},
     "output_type": "execute_result"
    }
   ],
   "source": [
    "model.most_similar(positive=['father', 'woman'], negative=['man'])"
   ]
  },
  {
   "cell_type": "code",
   "execution_count": 28,
   "metadata": {},
   "outputs": [
    {
     "data": {
      "text/plain": [
       "[('law', 0.7740381956100464),\n",
       " ('daughter', 0.7688101530075073),\n",
       " ('Wallis', 0.7640249729156494),\n",
       " ('friend', 0.7596955299377441),\n",
       " ('brother', 0.7563303709030151),\n",
       " ('nurse', 0.7447747588157654),\n",
       " ('husband', 0.744299054145813),\n",
       " ('eldest', 0.7153913974761963),\n",
       " ('Harville', 0.7145655155181885),\n",
       " ('daughters', 0.7111117243766785)]"
      ]
     },
     "execution_count": 28,
     "metadata": {},
     "output_type": "execute_result"
    }
   ],
   "source": [
    "model.most_similar(positive=['son', 'woman'], negative=['man'])"
   ]
  },
  {
   "cell_type": "code",
   "execution_count": 29,
   "metadata": {},
   "outputs": [
    {
     "data": {
      "text/plain": [
       "[('sister', 0.752424955368042),\n",
       " ('friend', 0.7332223653793335),\n",
       " ('father', 0.726719319820404),\n",
       " ('mother', 0.7208641767501831),\n",
       " ('nurse', 0.7087678909301758),\n",
       " ('daughter', 0.7065379619598389),\n",
       " ('wishes', 0.7026852369308472),\n",
       " ('particularly', 0.6882469654083252),\n",
       " ('patience', 0.6876028776168823),\n",
       " ('wishing', 0.6839585304260254)]"
      ]
     },
     "execution_count": 29,
     "metadata": {},
     "output_type": "execute_result"
    }
   ],
   "source": [
    "model.most_similar(positive=['husband', 'woman'], negative=['man'])"
   ]
  },
  {
   "cell_type": "code",
   "execution_count": 30,
   "metadata": {},
   "outputs": [
    {
     "data": {
      "text/plain": [
       "[('mother', 0.7976123690605164),\n",
       " ('husband', 0.7698510885238647),\n",
       " ('sister', 0.7507162094116211),\n",
       " ('aunt', 0.7425578832626343),\n",
       " ('wishes', 0.7321113348007202),\n",
       " ('friend', 0.7317440509796143),\n",
       " ('daughter', 0.7195297479629517),\n",
       " ('nurse', 0.7042011618614197),\n",
       " ('sake', 0.6932041645050049),\n",
       " ('affections', 0.6879606246948242),\n",
       " ('brother', 0.6861639618873596),\n",
       " ('Isabella', 0.6848157048225403),\n",
       " ('rights', 0.6789318323135376),\n",
       " ('patience', 0.678371787071228),\n",
       " ('neighbour', 0.673454225063324),\n",
       " ('exertions', 0.6703362464904785),\n",
       " ('intentions', 0.6690245866775513),\n",
       " ('health', 0.6670863032341003),\n",
       " ('blind', 0.6649085283279419),\n",
       " ('heart', 0.6615605354309082),\n",
       " ('excuses', 0.6606819033622742),\n",
       " ('mistress', 0.658902645111084),\n",
       " ('own', 0.6567113399505615),\n",
       " ('kindness', 0.6549253463745117),\n",
       " ('care', 0.6526315212249756),\n",
       " ('companion', 0.6516454815864563),\n",
       " ('daughters', 0.6496641635894775),\n",
       " ('sons', 0.646655797958374),\n",
       " ('uneasy', 0.646139919757843),\n",
       " ('law', 0.6459567546844482)]"
      ]
     },
     "execution_count": 30,
     "metadata": {},
     "output_type": "execute_result"
    }
   ],
   "source": [
    "model.most_similar(positive=['father', 'woman'], negative=['man'], topn=30)"
   ]
  },
  {
   "cell_type": "markdown",
   "metadata": {},
   "source": [
    "#### Reduce word vector dimensionality with t-SNE"
   ]
  },
  {
   "cell_type": "markdown",
   "metadata": {},
   "source": [
    "t-Distributed Stochastic Name Embedding"
   ]
  },
  {
   "cell_type": "code",
   "execution_count": 31,
   "metadata": {},
   "outputs": [
    {
     "data": {
      "text/plain": [
       "4417"
      ]
     },
     "execution_count": 31,
     "metadata": {},
     "output_type": "execute_result"
    }
   ],
   "source": [
    "len(model.wv.vocab)"
   ]
  },
  {
   "cell_type": "code",
   "execution_count": 32,
   "metadata": {},
   "outputs": [],
   "source": [
    "X = model[model.wv.vocab]"
   ]
  },
  {
   "cell_type": "code",
   "execution_count": 33,
   "metadata": {},
   "outputs": [],
   "source": [
    "tsne = TSNE(n_components=2, n_iter=200)"
   ]
  },
  {
   "cell_type": "code",
   "execution_count": 34,
   "metadata": {},
   "outputs": [],
   "source": [
    "X_2d = tsne.fit_transform(X)"
   ]
  },
  {
   "cell_type": "code",
   "execution_count": 35,
   "metadata": {},
   "outputs": [],
   "source": [
    "coords_df = pd.DataFrame(X_2d, columns=['x', 'y'])\n",
    "coords_df['token'] = model.wv.vocab.keys()"
   ]
  },
  {
   "cell_type": "code",
   "execution_count": 36,
   "metadata": {},
   "outputs": [
    {
     "data": {
      "text/html": [
       "<div>\n",
       "<table border=\"1\" class=\"dataframe\">\n",
       "  <thead>\n",
       "    <tr style=\"text-align: right;\">\n",
       "      <th></th>\n",
       "      <th>x</th>\n",
       "      <th>y</th>\n",
       "      <th>token</th>\n",
       "    </tr>\n",
       "  </thead>\n",
       "  <tbody>\n",
       "    <tr>\n",
       "      <th>0</th>\n",
       "      <td>4.060119</td>\n",
       "      <td>3.531895</td>\n",
       "      <td>[</td>\n",
       "    </tr>\n",
       "    <tr>\n",
       "      <th>1</th>\n",
       "      <td>-5.069000</td>\n",
       "      <td>-1.089669</td>\n",
       "      <td>Emma</td>\n",
       "    </tr>\n",
       "    <tr>\n",
       "      <th>2</th>\n",
       "      <td>-2.563363</td>\n",
       "      <td>4.977559</td>\n",
       "      <td>by</td>\n",
       "    </tr>\n",
       "    <tr>\n",
       "      <th>3</th>\n",
       "      <td>-3.506618</td>\n",
       "      <td>-4.016578</td>\n",
       "      <td>Jane</td>\n",
       "    </tr>\n",
       "    <tr>\n",
       "      <th>4</th>\n",
       "      <td>0.324197</td>\n",
       "      <td>-4.388295</td>\n",
       "      <td>I</td>\n",
       "    </tr>\n",
       "  </tbody>\n",
       "</table>\n",
       "</div>"
      ],
      "text/plain": [
       "          x         y token\n",
       "0  4.060119  3.531895     [\n",
       "1 -5.069000 -1.089669  Emma\n",
       "2 -2.563363  4.977559    by\n",
       "3 -3.506618 -4.016578  Jane\n",
       "4  0.324197 -4.388295     I"
      ]
     },
     "execution_count": 36,
     "metadata": {},
     "output_type": "execute_result"
    }
   ],
   "source": [
    "coords_df.head()"
   ]
  },
  {
   "cell_type": "code",
   "execution_count": 37,
   "metadata": {},
   "outputs": [],
   "source": [
    "coords_df.to_csv('raw_gutenberg_tsne.csv', index=False)"
   ]
  },
  {
   "cell_type": "markdown",
   "metadata": {},
   "source": [
    "#### Visualise 2D representation of word vectors"
   ]
  },
  {
   "cell_type": "code",
   "execution_count": 38,
   "metadata": {},
   "outputs": [],
   "source": [
    "coorrds_df = pd.read_csv('raw_gutenberg_tsne.csv')"
   ]
  },
  {
   "cell_type": "code",
   "execution_count": 39,
   "metadata": {},
   "outputs": [
    {
     "data": {
      "text/html": [
       "<div>\n",
       "<table border=\"1\" class=\"dataframe\">\n",
       "  <thead>\n",
       "    <tr style=\"text-align: right;\">\n",
       "      <th></th>\n",
       "      <th>x</th>\n",
       "      <th>y</th>\n",
       "      <th>token</th>\n",
       "    </tr>\n",
       "  </thead>\n",
       "  <tbody>\n",
       "    <tr>\n",
       "      <th>0</th>\n",
       "      <td>4.060119</td>\n",
       "      <td>3.531895</td>\n",
       "      <td>[</td>\n",
       "    </tr>\n",
       "    <tr>\n",
       "      <th>1</th>\n",
       "      <td>-5.069000</td>\n",
       "      <td>-1.089669</td>\n",
       "      <td>Emma</td>\n",
       "    </tr>\n",
       "    <tr>\n",
       "      <th>2</th>\n",
       "      <td>-2.563363</td>\n",
       "      <td>4.977559</td>\n",
       "      <td>by</td>\n",
       "    </tr>\n",
       "    <tr>\n",
       "      <th>3</th>\n",
       "      <td>-3.506618</td>\n",
       "      <td>-4.016578</td>\n",
       "      <td>Jane</td>\n",
       "    </tr>\n",
       "    <tr>\n",
       "      <th>4</th>\n",
       "      <td>0.324197</td>\n",
       "      <td>-4.388295</td>\n",
       "      <td>I</td>\n",
       "    </tr>\n",
       "  </tbody>\n",
       "</table>\n",
       "</div>"
      ],
      "text/plain": [
       "          x         y token\n",
       "0  4.060119  3.531895     [\n",
       "1 -5.069000 -1.089669  Emma\n",
       "2 -2.563363  4.977559    by\n",
       "3 -3.506618 -4.016578  Jane\n",
       "4  0.324197 -4.388295     I"
      ]
     },
     "execution_count": 39,
     "metadata": {},
     "output_type": "execute_result"
    }
   ],
   "source": [
    "coords_df.head()"
   ]
  },
  {
   "cell_type": "code",
   "execution_count": 40,
   "metadata": {},
   "outputs": [
    {
     "data": {
      "image/png": "[encoded data removed]",
      "text/plain": [
       "<matplotlib.figure.Figure at 0x7fd224b79b00>"
      ]
     },
     "metadata": {},
     "output_type": "display_data"
    }
   ],
   "source": [
    "_ = coords_df.plot.scatter('x', 'y', figsize=(8,8), marker='o', s=10, alpha=0.2)"
   ]
  },
  {
   "cell_type": "code",
   "execution_count": 41,
   "metadata": {},
   "outputs": [
    {
     "data": {
      "text/html": [
       "\n",
       "    <div class=\"bk-root\">\n",
       "        <a href=\"https://bokeh.pydata.org\" target=\"_blank\" class=\"bk-logo bk-logo-small bk-logo-notebook\"></a>\n",
       "        <span id=\"a4a40227-3bfd-4c2e-bec0-a16f67c17cb1\">Loading BokehJS ...</span>\n",
       "    </div>"
      ]
     },
     "metadata": {},
     "output_type": "display_data"
    },
    {
     "data": {
      "application/javascript": [
       "\n",
       "(function(root) {\n",
       "  function now() {\n",
       "    return new Date();\n",
       "  }\n",
       "\n",
       "  var force = true;\n",
       "\n",
       "  if (typeof (root._bokeh_onload_callbacks) === \"undefined\" || force === true) {\n",
       "    root._bokeh_onload_callbacks = [];\n",
       "    root._bokeh_is_loading = undefined;\n",
       "  }\n",
       "\n",
       "  var JS_MIME_TYPE = 'application/javascript';\n",
       "  var HTML_MIME_TYPE = 'text/html';\n",
       "  var EXEC_MIME_TYPE = 'application/vnd.bokehjs_exec.v0+json';\n",
       "  var CLASS_NAME = 'output_bokeh rendered_html';\n",
       "\n",
       "  /**\n",
       "   * Render data to the DOM node\n",
       "   */\n",
       "  function render(props, node) {\n",
       "    var script = document.createElement(\"script\");\n",
       "    node.appendChild(script);\n",
       "  }\n",
       "\n",
       "  /**\n",
       "   * Handle when an output is cleared or removed\n",
       "   */\n",
       "  function handleClearOutput(event, handle) {\n",
       "    var cell = handle.cell;\n",
       "\n",
       "    var id = cell.output_area._bokeh_element_id;\n",
       "    var server_id = cell.output_area._bokeh_server_id;\n",
       "    // Clean up Bokeh references\n",
       "    if (id !== undefined) {\n",
       "      Bokeh.index[id].model.document.clear();\n",
       "      delete Bokeh.index[id];\n",
       "    }\n",
       "\n",
       "    if (server_id !== undefined) {\n",
       "      // Clean up Bokeh references\n",
       "      var cmd = \"from bokeh.io import _state; print(_state.uuid_to_server['\" + server_id + \"'].get_sessions()[0].document.roots[0]._id)\";\n",
       "      cell.notebook.kernel.execute(cmd, {\n",
       "        iopub: {\n",
       "          output: function(msg) {\n",
       "            var element_id = msg.content.text.trim();\n",
       "            Bokeh.index[element_id].model.document.clear();\n",
       "            delete Bokeh.index[element_id];\n",
       "          }\n",
       "        }\n",
       "      });\n",
       "      // Destroy server and session\n",
       "      var cmd = \"from bokeh import io; io._destroy_server('\" + server_id + \"')\";\n",
       "      cell.notebook.kernel.execute(cmd);\n",
       "    }\n",
       "  }\n",
       "\n",
       "  /**\n",
       "   * Handle when a new output is added\n",
       "   */\n",
       "  function handleAddOutput(event, handle) {\n",
       "    var output_area = handle.output_area;\n",
       "    var output = handle.output;\n",
       "\n",
       "    // limit handleAddOutput to display_data with EXEC_MIME_TYPE content only\n",
       "    if ((output.output_type != \"display_data\") || (!output.data.hasOwnProperty(EXEC_MIME_TYPE))) {\n",
       "      return\n",
       "    }\n",
       "\n",
       "    var toinsert = output_area.element.find(`.${CLASS_NAME.split(' ')[0]}`);\n",
       "\n",
       "    if (output.metadata[EXEC_MIME_TYPE][\"id\"] !== undefined) {\n",
       "      toinsert[0].firstChild.textContent = output.data[JS_MIME_TYPE];\n",
       "      // store reference to embed id on output_area\n",
       "      output_area._bokeh_element_id = output.metadata[EXEC_MIME_TYPE][\"id\"];\n",
       "    }\n",
       "    if (output.metadata[EXEC_MIME_TYPE][\"server_id\"] !== undefined) {\n",
       "      var bk_div = document.createElement(\"div\");\n",
       "      bk_div.innerHTML = output.data[HTML_MIME_TYPE];\n",
       "      var script_attrs = bk_div.children[0].attributes;\n",
       "      for (var i = 0; i < script_attrs.length; i++) {\n",
       "        toinsert[0].firstChild.setAttribute(script_attrs[i].name, script_attrs[i].value);\n",
       "      }\n",
       "      // store reference to server id on output_area\n",
       "      output_area._bokeh_server_id = output.metadata[EXEC_MIME_TYPE][\"server_id\"];\n",
       "    }\n",
       "  }\n",
       "\n",
       "  function register_renderer(events, OutputArea) {\n",
       "\n",
       "    function append_mime(data, metadata, element) {\n",
       "      // create a DOM node to render to\n",
       "      var toinsert = this.create_output_subarea(\n",
       "        metadata,\n",
       "        CLASS_NAME,\n",
       "        EXEC_MIME_TYPE\n",
       "      );\n",
       "      this.keyboard_manager.register_events(toinsert);\n",
       "      // Render to node\n",
       "      var props = {data: data, metadata: metadata[EXEC_MIME_TYPE]};\n",
       "      render(props, toinsert[0]);\n",
       "      element.append(toinsert);\n",
       "      return toinsert\n",
       "    }\n",
       "\n",
       "    /* Handle when an output is cleared or removed */\n",
       "    events.on('clear_output.CodeCell', handleClearOutput);\n",
       "    events.on('delete.Cell', handleClearOutput);\n",
       "\n",
       "    /* Handle when a new output is added */\n",
       "    events.on('output_added.OutputArea', handleAddOutput);\n",
       "\n",
       "    /**\n",
       "     * Register the mime type and append_mime function with output_area\n",
       "     */\n",
       "    OutputArea.prototype.register_mime_type(EXEC_MIME_TYPE, append_mime, {\n",
       "      /* Is output safe? */\n",
       "      safe: true,\n",
       "      /* Index of renderer in `output_area.display_order` */\n",
       "      index: 0\n",
       "    });\n",
       "  }\n",
       "\n",
       "  // register the mime type if in Jupyter Notebook environment and previously unregistered\n",
       "  if (root.Jupyter !== undefined) {\n",
       "    var events = require('base/js/events');\n",
       "    var OutputArea = require('notebook/js/outputarea').OutputArea;\n",
       "\n",
       "    if (OutputArea.prototype.mime_types().indexOf(EXEC_MIME_TYPE) == -1) {\n",
       "      register_renderer(events, OutputArea);\n",
       "    }\n",
       "  }\n",
       "\n",
       "  \n",
       "  if (typeof (root._bokeh_timeout) === \"undefined\" || force === true) {\n",
       "    root._bokeh_timeout = Date.now() + 5000;\n",
       "    root._bokeh_failed_load = false;\n",
       "  }\n",
       "\n",
       "  var NB_LOAD_WARNING = {'data': {'text/html':\n",
       "     \"<div style='background-color: #fdd'>\\n\"+\n",
       "     \"<p>\\n\"+\n",
       "     \"BokehJS does not appear to have successfully loaded. If loading BokehJS from CDN, this \\n\"+\n",
       "     \"may be due to a slow or bad network connection. Possible fixes:\\n\"+\n",
       "     \"</p>\\n\"+\n",
       "     \"<ul>\\n\"+\n",
       "     \"<li>re-rerun `output_notebook()` to attempt to load from CDN again, or</li>\\n\"+\n",
       "     \"<li>use INLINE resources instead, as so:</li>\\n\"+\n",
       "     \"</ul>\\n\"+\n",
       "     \"<code>\\n\"+\n",
       "     \"from bokeh.resources import INLINE\\n\"+\n",
       "     \"output_notebook(resources=INLINE)\\n\"+\n",
       "     \"</code>\\n\"+\n",
       "     \"</div>\"}};\n",
       "\n",
       "  function display_loaded() {\n",
       "    var el = document.getElementById(\"a4a40227-3bfd-4c2e-bec0-a16f67c17cb1\");\n",
       "    if (el != null) {\n",
       "      el.textContent = \"BokehJS is loading...\";\n",
       "    }\n",
       "    if (root.Bokeh !== undefined) {\n",
       "      if (el != null) {\n",
       "        el.textContent = \"BokehJS \" + root.Bokeh.version + \" successfully loaded.\";\n",
       "      }\n",
       "    } else if (Date.now() < root._bokeh_timeout) {\n",
       "      setTimeout(display_loaded, 100)\n",
       "    }\n",
       "  }\n",
       "\n",
       "\n",
       "  function run_callbacks() {\n",
       "    try {\n",
       "      root._bokeh_onload_callbacks.forEach(function(callback) { callback() });\n",
       "    }\n",
       "    finally {\n",
       "      delete root._bokeh_onload_callbacks\n",
       "    }\n",
       "    console.info(\"Bokeh: all callbacks have finished\");\n",
       "  }\n",
       "\n",
       "  function load_libs(js_urls, callback) {\n",
       "    root._bokeh_onload_callbacks.push(callback);\n",
       "    if (root._bokeh_is_loading > 0) {\n",
       "      console.log(\"Bokeh: BokehJS is being loaded, scheduling callback at\", now());\n",
       "      return null;\n",
       "    }\n",
       "    if (js_urls == null || js_urls.length === 0) {\n",
       "      run_callbacks();\n",
       "      return null;\n",
       "    }\n",
       "    console.log(\"Bokeh: BokehJS not loaded, scheduling load and callback at\", now());\n",
       "    root._bokeh_is_loading = js_urls.length;\n",
       "    for (var i = 0; i < js_urls.length; i++) {\n",
       "      var url = js_urls[i];\n",
       "      var s = document.createElement('script');\n",
       "      s.src = url;\n",
       "      s.async = false;\n",
       "      s.onreadystatechange = s.onload = function() {\n",
       "        root._bokeh_is_loading--;\n",
       "        if (root._bokeh_is_loading === 0) {\n",
       "          console.log(\"Bokeh: all BokehJS libraries loaded\");\n",
       "          run_callbacks()\n",
       "        }\n",
       "      };\n",
       "      s.onerror = function() {\n",
       "        console.warn(\"failed to load library \" + url);\n",
       "      };\n",
       "      console.log(\"Bokeh: injecting script tag for BokehJS library: \", url);\n",
       "      document.getElementsByTagName(\"head\")[0].appendChild(s);\n",
       "    }\n",
       "  };var element = document.getElementById(\"a4a40227-3bfd-4c2e-bec0-a16f67c17cb1\");\n",
       "  if (element == null) {\n",
       "    console.log(\"Bokeh: ERROR: autoload.js configured with elementid 'a4a40227-3bfd-4c2e-bec0-a16f67c17cb1' but no matching script tag was found. \")\n",
       "    return false;\n",
       "  }\n",
       "\n",
       "  var js_urls = [\"https://cdn.pydata.org/bokeh/release/bokeh-0.12.9.min.js\", \"https://cdn.pydata.org/bokeh/release/bokeh-widgets-0.12.9.min.js\", \"https://cdn.pydata.org/bokeh/release/bokeh-tables-0.12.9.min.js\", \"https://cdn.pydata.org/bokeh/release/bokeh-gl-0.12.9.min.js\"];\n",
       "\n",
       "  var inline_js = [\n",
       "    function(Bokeh) {\n",
       "      Bokeh.set_log_level(\"info\");\n",
       "    },\n",
       "    \n",
       "    function(Bokeh) {\n",
       "      \n",
       "    },\n",
       "    function(Bokeh) {\n",
       "      console.log(\"Bokeh: injecting CSS: https://cdn.pydata.org/bokeh/release/bokeh-0.12.9.min.css\");\n",
       "      Bokeh.embed.inject_css(\"https://cdn.pydata.org/bokeh/release/bokeh-0.12.9.min.css\");\n",
       "      console.log(\"Bokeh: injecting CSS: https://cdn.pydata.org/bokeh/release/bokeh-widgets-0.12.9.min.css\");\n",
       "      Bokeh.embed.inject_css(\"https://cdn.pydata.org/bokeh/release/bokeh-widgets-0.12.9.min.css\");\n",
       "      console.log(\"Bokeh: injecting CSS: https://cdn.pydata.org/bokeh/release/bokeh-tables-0.12.9.min.css\");\n",
       "      Bokeh.embed.inject_css(\"https://cdn.pydata.org/bokeh/release/bokeh-tables-0.12.9.min.css\");\n",
       "    }\n",
       "  ];\n",
       "\n",
       "  function run_inline_js() {\n",
       "    \n",
       "    if ((root.Bokeh !== undefined) || (force === true)) {\n",
       "      for (var i = 0; i < inline_js.length; i++) {\n",
       "        inline_js[i].call(root, root.Bokeh);\n",
       "      }if (force === true) {\n",
       "        display_loaded();\n",
       "      }} else if (Date.now() < root._bokeh_timeout) {\n",
       "      setTimeout(run_inline_js, 100);\n",
       "    } else if (!root._bokeh_failed_load) {\n",
       "      console.log(\"Bokeh: BokehJS failed to load within specified timeout.\");\n",
       "      root._bokeh_failed_load = true;\n",
       "    } else if (force !== true) {\n",
       "      var cell = $(document.getElementById(\"a4a40227-3bfd-4c2e-bec0-a16f67c17cb1\")).parents('.cell').data().cell;\n",
       "      cell.output_area.append_execute_result(NB_LOAD_WARNING)\n",
       "    }\n",
       "\n",
       "  }\n",
       "\n",
       "  if (root._bokeh_is_loading === 0) {\n",
       "    console.log(\"Bokeh: BokehJS loaded, going straight to plotting\");\n",
       "    run_inline_js();\n",
       "  } else {\n",
       "    load_libs(js_urls, function() {\n",
       "      console.log(\"Bokeh: BokehJS plotting callback run at\", now());\n",
       "      run_inline_js();\n",
       "    });\n",
       "  }\n",
       "}(window));"
      ],
      "application/vnd.bokehjs_load.v0+json": "\n(function(root) {\n  function now() {\n    return new Date();\n  }\n\n  var force = true;\n\n  if (typeof (root._bokeh_onload_callbacks) === \"undefined\" || force === true) {\n    root._bokeh_onload_callbacks = [];\n    root._bokeh_is_loading = undefined;\n  }\n\n  \n\n  \n  if (typeof (root._bokeh_timeout) === \"undefined\" || force === true) {\n    root._bokeh_timeout = Date.now() + 5000;\n    root._bokeh_failed_load = false;\n  }\n\n  var NB_LOAD_WARNING = {'data': {'text/html':\n     \"<div style='background-color: #fdd'>\\n\"+\n     \"<p>\\n\"+\n     \"BokehJS does not appear to have successfully loaded. If loading BokehJS from CDN, this \\n\"+\n     \"may be due to a slow or bad network connection. Possible fixes:\\n\"+\n     \"</p>\\n\"+\n     \"<ul>\\n\"+\n     \"<li>re-rerun `output_notebook()` to attempt to load from CDN again, or</li>\\n\"+\n     \"<li>use INLINE resources instead, as so:</li>\\n\"+\n     \"</ul>\\n\"+\n     \"<code>\\n\"+\n     \"from bokeh.resources import INLINE\\n\"+\n     \"output_notebook(resources=INLINE)\\n\"+\n     \"</code>\\n\"+\n     \"</div>\"}};\n\n  function display_loaded() {\n    var el = document.getElementById(\"a4a40227-3bfd-4c2e-bec0-a16f67c17cb1\");\n    if (el != null) {\n      el.textContent = \"BokehJS is loading...\";\n    }\n    if (root.Bokeh !== undefined) {\n      if (el != null) {\n        el.textContent = \"BokehJS \" + root.Bokeh.version + \" successfully loaded.\";\n      }\n    } else if (Date.now() < root._bokeh_timeout) {\n      setTimeout(display_loaded, 100)\n    }\n  }\n\n\n  function run_callbacks() {\n    try {\n      root._bokeh_onload_callbacks.forEach(function(callback) { callback() });\n    }\n    finally {\n      delete root._bokeh_onload_callbacks\n    }\n    console.info(\"Bokeh: all callbacks have finished\");\n  }\n\n  function load_libs(js_urls, callback) {\n    root._bokeh_onload_callbacks.push(callback);\n    if (root._bokeh_is_loading > 0) {\n      console.log(\"Bokeh: BokehJS is being loaded, scheduling callback at\", now());\n      return null;\n    }\n    if (js_urls == null || js_urls.length === 0) {\n      run_callbacks();\n      return null;\n    }\n    console.log(\"Bokeh: BokehJS not loaded, scheduling load and callback at\", now());\n    root._bokeh_is_loading = js_urls.length;\n    for (var i = 0; i < js_urls.length; i++) {\n      var url = js_urls[i];\n      var s = document.createElement('script');\n      s.src = url;\n      s.async = false;\n      s.onreadystatechange = s.onload = function() {\n        root._bokeh_is_loading--;\n        if (root._bokeh_is_loading === 0) {\n          console.log(\"Bokeh: all BokehJS libraries loaded\");\n          run_callbacks()\n        }\n      };\n      s.onerror = function() {\n        console.warn(\"failed to load library \" + url);\n      };\n      console.log(\"Bokeh: injecting script tag for BokehJS library: \", url);\n      document.getElementsByTagName(\"head\")[0].appendChild(s);\n    }\n  };var element = document.getElementById(\"a4a40227-3bfd-4c2e-bec0-a16f67c17cb1\");\n  if (element == null) {\n    console.log(\"Bokeh: ERROR: autoload.js configured with elementid 'a4a40227-3bfd-4c2e-bec0-a16f67c17cb1' but no matching script tag was found. \")\n    return false;\n  }\n\n  var js_urls = [\"https://cdn.pydata.org/bokeh/release/bokeh-0.12.9.min.js\", \"https://cdn.pydata.org/bokeh/release/bokeh-widgets-0.12.9.min.js\", \"https://cdn.pydata.org/bokeh/release/bokeh-tables-0.12.9.min.js\", \"https://cdn.pydata.org/bokeh/release/bokeh-gl-0.12.9.min.js\"];\n\n  var inline_js = [\n    function(Bokeh) {\n      Bokeh.set_log_level(\"info\");\n    },\n    \n    function(Bokeh) {\n      \n    },\n    function(Bokeh) {\n      console.log(\"Bokeh: injecting CSS: https://cdn.pydata.org/bokeh/release/bokeh-0.12.9.min.css\");\n      Bokeh.embed.inject_css(\"https://cdn.pydata.org/bokeh/release/bokeh-0.12.9.min.css\");\n      console.log(\"Bokeh: injecting CSS: https://cdn.pydata.org/bokeh/release/bokeh-widgets-0.12.9.min.css\");\n      Bokeh.embed.inject_css(\"https://cdn.pydata.org/bokeh/release/bokeh-widgets-0.12.9.min.css\");\n      console.log(\"Bokeh: injecting CSS: https://cdn.pydata.org/bokeh/release/bokeh-tables-0.12.9.min.css\");\n      Bokeh.embed.inject_css(\"https://cdn.pydata.org/bokeh/release/bokeh-tables-0.12.9.min.css\");\n    }\n  ];\n\n  function run_inline_js() {\n    \n    if ((root.Bokeh !== undefined) || (force === true)) {\n      for (var i = 0; i < inline_js.length; i++) {\n        inline_js[i].call(root, root.Bokeh);\n      }if (force === true) {\n        display_loaded();\n      }} else if (Date.now() < root._bokeh_timeout) {\n      setTimeout(run_inline_js, 100);\n    } else if (!root._bokeh_failed_load) {\n      console.log(\"Bokeh: BokehJS failed to load within specified timeout.\");\n      root._bokeh_failed_load = true;\n    } else if (force !== true) {\n      var cell = $(document.getElementById(\"a4a40227-3bfd-4c2e-bec0-a16f67c17cb1\")).parents('.cell').data().cell;\n      cell.output_area.append_execute_result(NB_LOAD_WARNING)\n    }\n\n  }\n\n  if (root._bokeh_is_loading === 0) {\n    console.log(\"Bokeh: BokehJS loaded, going straight to plotting\");\n    run_inline_js();\n  } else {\n    load_libs(js_urls, function() {\n      console.log(\"Bokeh: BokehJS plotting callback run at\", now());\n      run_inline_js();\n    });\n  }\n}(window));"
     },
     "metadata": {},
     "output_type": "display_data"
    }
   ],
   "source": [
    "output_notebook()"
   ]
  },
  {
   "cell_type": "code",
   "execution_count": 42,
   "metadata": {},
   "outputs": [],
   "source": [
    "subset_df = coords_df.sample(n=500)"
   ]
  },
  {
   "cell_type": "code",
   "execution_count": 43,
   "metadata": {},
   "outputs": [],
   "source": [
    "p = figure(plot_width=600, plot_height=600)\n",
    "_ = p.text(x=subset_df.x, y=subset_df.y, text=subset_df.token)"
   ]
  },
  {
   "cell_type": "code",
   "execution_count": 44,
   "metadata": {},
   "outputs": [
    {
     "data": {
      "text/html": [
       "\n",
       "<div class=\"bk-root\">\n",
       "    <div class=\"bk-plotdiv\" id=\"f62a4131-30fa-4898-88b5-88cc5166d888\"></div>\n",
       "</div>"
      ]
     },
     "metadata": {},
     "output_type": "display_data"
    },
    {
     "data": {
      "application/javascript": [
       "(function(root) {\n",
       "  function embed_document(root) {\n",
       "    var docs_json = {\"2457ea93-1686-41ba-8ef4-e124bdf01499\":{\"roots\":{\"references\":[{\"attributes\":{\"formatter\":{\"id\":\"9a5aacd7-d885-463f-b9c9-c9a59a7dfa6e\",\"type\":\"BasicTickFormatter\"},\"plot\":{\"id\":\"28cf14b1-53f1-4c14-b0c0-97abe07662d2\",\"subtype\":\"Figure\",\"type\":\"Plot\"},\"ticker\":{\"id\":\"c2278471-a94f-42af-bd12-d9aac1070d70\",\"type\":\"BasicTicker\"}},\"id\":\"86ec4a77-2f8d-4c8a-ab57-78894e46f1e2\",\"type\":\"LinearAxis\"},{\"attributes\":{},\"id\":\"ece512f1-ce22-4376-b7fd-dd067e23ee28\",\"type\":\"HelpTool\"},{\"attributes\":{\"overlay\":{\"id\":\"bdda8a1b-c5d1-4149-addc-4c70833579a7\",\"type\":\"BoxAnnotation\"}},\"id\":\"332decee-68cc-46f6-9e91-abf33a5a94ca\",\"type\":\"BoxZoomTool\"},{\"attributes\":{\"text_alpha\":{\"value\":0.1},\"text_color\":{\"value\":\"black\"},\"x\":{\"field\":\"x\"},\"y\":{\"field\":\"y\"}},\"id\":\"0b63bef4-74da-44cd-bff7-94c549676e8b\",\"type\":\"Text\"},{\"attributes\":{},\"id\":\"67a2a577-8ced-4981-a625-27a12209f031\",\"type\":\"LinearScale\"},{\"attributes\":{\"callback\":null},\"id\":\"3ec5c71d-26f2-4bd6-940d-8c7fc63897b8\",\"type\":\"DataRange1d\"},{\"attributes\":{},\"id\":\"02f3034a-0334-4969-9788-06d28471f03a\",\"type\":\"SaveTool\"},{\"attributes\":{\"callback\":null},\"id\":\"b63dd4c5-d052-40e1-86ec-203ab0b112c1\",\"type\":\"DataRange1d\"},{\"attributes\":{\"formatter\":{\"id\":\"175737c4-57e0-42af-8547-b1ddc9907cd2\",\"type\":\"BasicTickFormatter\"},\"plot\":{\"id\":\"28cf14b1-53f1-4c14-b0c0-97abe07662d2\",\"subtype\":\"Figure\",\"type\":\"Plot\"},\"ticker\":{\"id\":\"6caeef95-6245-4360-80bc-7b6b1f63515f\",\"type\":\"BasicTicker\"}},\"id\":\"f0d40c1a-92be-48a1-8a0a-391ae5373b10\",\"type\":\"LinearAxis\"},{\"attributes\":{},\"id\":\"93974f58-22a9-4dc7-9657-a08e99f07d68\",\"type\":\"PanTool\"},{\"attributes\":{},\"id\":\"175737c4-57e0-42af-8547-b1ddc9907cd2\",\"type\":\"BasicTickFormatter\"},{\"attributes\":{\"bottom_units\":\"screen\",\"fill_alpha\":{\"value\":0.5},\"fill_color\":{\"value\":\"lightgrey\"},\"left_units\":\"screen\",\"level\":\"overlay\",\"line_alpha\":{\"value\":1.0},\"line_color\":{\"value\":\"black\"},\"line_dash\":[4,4],\"line_width\":{\"value\":2},\"plot\":null,\"render_mode\":\"css\",\"right_units\":\"screen\",\"top_units\":\"screen\"},\"id\":\"bdda8a1b-c5d1-4149-addc-4c70833579a7\",\"type\":\"BoxAnnotation\"},{\"attributes\":{},\"id\":\"6caeef95-6245-4360-80bc-7b6b1f63515f\",\"type\":\"BasicTicker\"},{\"attributes\":{\"plot\":null,\"text\":\"\"},\"id\":\"ab8446f3-e537-4f60-9f42-fcfb838a2464\",\"type\":\"Title\"},{\"attributes\":{\"active_drag\":\"auto\",\"active_inspect\":\"auto\",\"active_scroll\":\"auto\",\"active_tap\":\"auto\",\"tools\":[{\"id\":\"93974f58-22a9-4dc7-9657-a08e99f07d68\",\"type\":\"PanTool\"},{\"id\":\"81d9b82e-d79b-458e-a3ed-52cb1cef797b\",\"type\":\"WheelZoomTool\"},{\"id\":\"332decee-68cc-46f6-9e91-abf33a5a94ca\",\"type\":\"BoxZoomTool\"},{\"id\":\"02f3034a-0334-4969-9788-06d28471f03a\",\"type\":\"SaveTool\"},{\"id\":\"cbe46d16-7ab7-4b41-8ed4-a035ef84ac7d\",\"type\":\"ResetTool\"},{\"id\":\"ece512f1-ce22-4376-b7fd-dd067e23ee28\",\"type\":\"HelpTool\"}]},\"id\":\"c69298ae-b694-4da8-a655-7f5a7f35a95b\",\"type\":\"Toolbar\"},{\"attributes\":{\"data_source\":{\"id\":\"bcbdd855-bc5e-4c6b-8c85-f28b0e032177\",\"type\":\"ColumnDataSource\"},\"glyph\":{\"id\":\"4ecbf515-2ba6-42b1-9aa9-5292f4fac911\",\"type\":\"Text\"},\"hover_glyph\":null,\"muted_glyph\":null,\"nonselection_glyph\":{\"id\":\"0b63bef4-74da-44cd-bff7-94c549676e8b\",\"type\":\"Text\"},\"selection_glyph\":null,\"view\":{\"id\":\"da8ba0bb-19a1-4d9f-b5c9-a270fbd9e9e8\",\"type\":\"CDSView\"}},\"id\":\"8fb33763-91bd-4847-afd1-7f1b1cac577d\",\"type\":\"GlyphRenderer\"},{\"attributes\":{},\"id\":\"81d9b82e-d79b-458e-a3ed-52cb1cef797b\",\"type\":\"WheelZoomTool\"},{\"attributes\":{\"plot\":{\"id\":\"28cf14b1-53f1-4c14-b0c0-97abe07662d2\",\"subtype\":\"Figure\",\"type\":\"Plot\"},\"ticker\":{\"id\":\"6caeef95-6245-4360-80bc-7b6b1f63515f\",\"type\":\"BasicTicker\"}},\"id\":\"ebc981e8-c10d-405c-ad49-d96004497a84\",\"type\":\"Grid\"},{\"attributes\":{\"dimension\":1,\"plot\":{\"id\":\"28cf14b1-53f1-4c14-b0c0-97abe07662d2\",\"subtype\":\"Figure\",\"type\":\"Plot\"},\"ticker\":{\"id\":\"c2278471-a94f-42af-bd12-d9aac1070d70\",\"type\":\"BasicTicker\"}},\"id\":\"0558d971-3105-4948-b42c-3991b8967f2f\",\"type\":\"Grid\"},{\"attributes\":{\"below\":[{\"id\":\"f0d40c1a-92be-48a1-8a0a-391ae5373b10\",\"type\":\"LinearAxis\"}],\"left\":[{\"id\":\"86ec4a77-2f8d-4c8a-ab57-78894e46f1e2\",\"type\":\"LinearAxis\"}],\"renderers\":[{\"id\":\"f0d40c1a-92be-48a1-8a0a-391ae5373b10\",\"type\":\"LinearAxis\"},{\"id\":\"ebc981e8-c10d-405c-ad49-d96004497a84\",\"type\":\"Grid\"},{\"id\":\"86ec4a77-2f8d-4c8a-ab57-78894e46f1e2\",\"type\":\"LinearAxis\"},{\"id\":\"0558d971-3105-4948-b42c-3991b8967f2f\",\"type\":\"Grid\"},{\"id\":\"bdda8a1b-c5d1-4149-addc-4c70833579a7\",\"type\":\"BoxAnnotation\"},{\"id\":\"8fb33763-91bd-4847-afd1-7f1b1cac577d\",\"type\":\"GlyphRenderer\"}],\"title\":{\"id\":\"ab8446f3-e537-4f60-9f42-fcfb838a2464\",\"type\":\"Title\"},\"toolbar\":{\"id\":\"c69298ae-b694-4da8-a655-7f5a7f35a95b\",\"type\":\"Toolbar\"},\"x_range\":{\"id\":\"b63dd4c5-d052-40e1-86ec-203ab0b112c1\",\"type\":\"DataRange1d\"},\"x_scale\":{\"id\":\"c8966f8d-ab68-4185-ba32-2b4524a6bde9\",\"type\":\"LinearScale\"},\"y_range\":{\"id\":\"3ec5c71d-26f2-4bd6-940d-8c7fc63897b8\",\"type\":\"DataRange1d\"},\"y_scale\":{\"id\":\"67a2a577-8ced-4981-a625-27a12209f031\",\"type\":\"LinearScale\"}},\"id\":\"28cf14b1-53f1-4c14-b0c0-97abe07662d2\",\"subtype\":\"Figure\",\"type\":\"Plot\"},{\"attributes\":{},\"id\":\"9a5aacd7-d885-463f-b9c9-c9a59a7dfa6e\",\"type\":\"BasicTickFormatter\"},{\"attributes\":{},\"id\":\"cbe46d16-7ab7-4b41-8ed4-a035ef84ac7d\",\"type\":\"ResetTool\"},{\"attributes\":{},\"id\":\"c2278471-a94f-42af-bd12-d9aac1070d70\",\"type\":\"BasicTicker\"},{\"attributes\":{\"source\":{\"id\":\"bcbdd855-bc5e-4c6b-8c85-f28b0e032177\",\"type\":\"ColumnDataSource\"}},\"id\":\"da8ba0bb-19a1-4d9f-b5c9-a270fbd9e9e8\",\"type\":\"CDSView\"},{\"attributes\":{\"callback\":null,\"column_names\":[\"x\",\"y\",\"text\"],\"data\":{\"text\":[\"Was\",\"owned\",\"opposed\",\"child\",\"Many\",\"Windsor\",\"parted\",\"instantly\",\"COULD\",\"suppose\",\"increased\",\"heard\",\"introducing\",\"loudly\",\"fool\",\"Just\",\"fatigued\",\"wasn\",\"breaking\",\"Men\",\"shewn\",\"conjecture\",\"faults\",\"hours\",\"mouths\",\"Still\",\"involved\",\"bread\",\"changes\",\"characters\",\"converse\",\"weeks\",\"varieties\",\"blessed\",\"post\",\"suggest\",\"warmest\",\"Barton\",\"thousand\",\"former\",\"deserted\",\"merely\",\"promoting\",\"can\",\"syllable\",\"justify\",\"ladies\",\"Again\",\"Martin\",\"senses\",\"Beyond\",\"incessant\",\"patient\",\"rationally\",\"Place\",\"feel\",\"endured\",\"Hartfield\",\"affluence\",\"plan\",\"settle\",\"agreeably\",\"neglect\",\"navy\",\"golden\",\"cook\",\",)\",\"arrived\",\"grounds\",\"period\",\"kind\",\"catch\",\"Crown\",\"compassionate\",\"returning\",\"sleeping\",\"retired\",\"addition\",\"indubitable\",\"One\",\"exact\",\"gentleness\",\"land\",\"Never\",\"them\",\"bend\",\"begged\",\"cleared\",\"limits\",\"nephew\",\"still\",\"applying\",\"performed\",\"seem\",\"September\",\"changed\",\"neighbourhood\",\"abruptly\",\"vanity\",\"ARE\",\"places\",\"everybody\",\"examination\",\"brown\",\"dearer\",\"sixteen\",\"expense\",\"downright\",\"Louisa\",\"form\",\"appeal\",\"agreeing\",\"affected\",\"vastly\",\"seized\",\"betraying\",\"even\",\"join\",\"seventeen\",\"unreasonably\",\"resolved\",\"lament\",\".--`\",\"established\",\"described\",\"defect\",\"Besides\",\"scheme\",\"Pigeon\",\"Without\",\"now\",\"five\",\",\\\"--\",\"creatures\",\"granted\",\"upon\",\"seek\",\"comforts\",\"sympathy\",\"keep\",\"commendation\",\"secured\",\"influenced\",\"Dinah\",\"convinced\",\"discussion\",\"compassion\",\"HIM\",\"warrant\",\"impatiently\",\"discovered\",\"indignantly\",\"laughed\",\"accommodate\",\"White\",\"near\",\"month\",\"sensible\",\"size\",\"comparatively\",\"running\",\"expenses\",\"particularly\",\"bestow\",\"whence\",\"West\",\"wait\",\"public\",\"reverse\",\"growing\",\"occupation\",\"pain\",\"herself\",\"baked\",\"wept\",\"hit\",\"gaiety\",\"view\",\"distinguish\",\"anxiety\",\"stopped\",\"intervals\",\"uttered\",\"meeting\",\"pack\",\"timidly\",\"horses\",\"pattern\",\"ignorant\",\"hears\",\"ll\",\"parsonage\",\"wood\",\"engaging\",\"asking\",\"rather\",\"farmer\",\"beat\",\"Their\",\"Cox\",\"field\",\"passing\",\"conceit\",\"civil\",\"difficult\",\"tenant\",\"frightened\",\"respectable\",\"purse\",\"Cowper\",\"warmly\",\"explain\",\"Esq\",\"ceased\",\"effort\",\"tranquillity\",\"noise\",\"surprized\",\"mercy\",\"for\",\"shake\",\"remarkably\",\"exciting\",\"affectation\",\"Musgrove\",\"will\",\"divide\",\"features\",\"unnatural\",\"design\",\"four\",\"examine\",\"sweetness\",\"half\",\"By\",\"stock\",\"extravagant\",\"men\",\"whisper\",\"fault\",\"saved\",\"haven\",\"flattered\",\"continued\",\"fancied\",\"propriety\",\"holding\",\"whether\",\"preparations\",\"inquired\",\"valley\",\"capital\",\"purchase\",\"creating\",\"selfishness\",\"anger\",\"school\",\"What\",\"restraints\",\"deprived\",\"compared\",\"should\",\"Asp\",\"remain\",\"dance\",\"George\",\"readiness\",\"CHAPTER\",\"takes\",\"plea\",\"ended\",\"papa\",\"suffered\",\"plenty\",\"Cobb\",\"fervent\",\"occur\",\"reference\",\"charity\",\"popularity\",\"suited\",\"better\",\"Crofts\",\"distinguishing\",\"--(\",\"reckoned\",\"situations\",\"him\",\"able\",\"broad\",\"happiest\",\"Presently\",\"restrain\",\"step\",\"couldn\",\"energy\",\"drop\",\"Heaven\",\"authority\",\"ushered\",\"D\",\"latter\",\"allow\",\"recovery\",\"figure\",\"knife\",\"glancing\",\"Tell\",\"brother\",\"gardeners\",\"Hearts\",\"undoubtedly\",\"prudent\",\"acquired\",\"respecting\",\"Williams\",\"inches\",\"provide\",\"THE\",\"!\",\"dismissed\",\"approached\",\"Jennings\",\".--\\\"\",\"God\",\"zeal\",\"range\",\"thoughtfulness\",\"pale\",\"wherever\",\"regretted\",\"who\",\"cannot\",\"accompanied\",\"exertion\",\"nodded\",\"rightly\",\"conduct\",\"S\",\"likely\",\"exquisite\",\"vulgar\",\"forms\",\"Shepherd\",\"unnecessary\",\"suffering\",\"nay\",\"parlour\",\"Good\",\"gate\",\"engagements\",\"expressing\",\"The\",\"injured\",\"evil\",\"mistake\",\"like\",\"this\",\"healthy\",\"promise\",\"rivet\",\"relating\",\"father\",\"We\",\"Like\",\"Is\",\"checking\",\"Devonshire\",\"benefited\",\"However\",\"preferred\",\"perception\",\"differently\",\"resigned\",\"scissors\",\"Ma\",\"gravel\",\"pigs\",\"reaching\",\"care\",\"feared\",\"white\",\"triumph\",\"spirit\",\"warm\",\"over\",\"finally\",\"look\",\"securing\",\"confused\",\"court\",\"intimacy\",\"meal\",\"unwelcome\",\"leisure\",\"works\",\"abominable\",\"run\",\"every\",\"severely\",\"cut\",\"less\",\"queer\",\"genteel\",\"inn\",\"Which\",\"life\",\"awakened\",\"Perry\",\"hungry\",\"strange\",\"airs\",\"gloomy\",\"hopes\",\"narration\",\"bright\",\"Every\",\"brain\",\"sister\",\"grew\",\"tenants\",\"risk\",\"remains\",\"writer\",\"desired\",\"mix\",\"least\",\"affecting\",\"promoted\",\"butcher\",\"passion\",\"horseback\",\"belonged\",\"line\",\"\\\"\",\"lovely\",\"contented\",\"walked\",\"flow\",\"estimation\",\"strict\",\"pursued\",\"Marianne\",\"reasonable\",\"astonishment\",\"active\",\"solemnly\",\"shrill\",\":--\",\"THEY\",\"kindest\",\"deal\",\"consciousness\",\"knock\",\"confessed\",\"communication\",\"excited\",\"pass\",\"Randalls\",\"lawyer\",\"enter\",\"suddenly\",\"destiny\",\"dine\",\"Dorsetshire\",\"divided\",\"hall\",\"Rabbit\",\"reconciled\",\"dining\",\"curacy\",\"correct\",\"days\",\"hereafter\",\"prospects\",\"re\",\"name\",\"produced\",\"description\",\"advantage\",\"watch\",\"modern\",\"relieve\",\"inducement\",\"unwillingness\",\"notions\",\"thoughtfully\",\"collect\",\"tarts\",\"heavy\",\"solemnity\",\"contrived\",\"mere\",\"oppressed\",\"amidst\",\"enthusiasm\",\"plaister\",\"damp\",\"deserve\",\"affair\"],\"x\":{\"__ndarray__\":\"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\",\"dtype\":\"float64\",\"shape\":[500]},\"y\":{\"__ndarray__\":\"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\",\"dtype\":\"float64\",\"shape\":[500]}}},\"id\":\"bcbdd855-bc5e-4c6b-8c85-f28b0e032177\",\"type\":\"ColumnDataSource\"},{\"attributes\":{},\"id\":\"c8966f8d-ab68-4185-ba32-2b4524a6bde9\",\"type\":\"LinearScale\"},{\"attributes\":{\"text_color\":{\"value\":\"black\"},\"x\":{\"field\":\"x\"},\"y\":{\"field\":\"y\"}},\"id\":\"4ecbf515-2ba6-42b1-9aa9-5292f4fac911\",\"type\":\"Text\"}],\"root_ids\":[\"28cf14b1-53f1-4c14-b0c0-97abe07662d2\"]},\"title\":\"Bokeh Application\",\"version\":\"0.12.9\"}};\n",
       "    var render_items = [{\"docid\":\"2457ea93-1686-41ba-8ef4-e124bdf01499\",\"elementid\":\"f62a4131-30fa-4898-88b5-88cc5166d888\",\"modelid\":\"28cf14b1-53f1-4c14-b0c0-97abe07662d2\"}];\n",
       "\n",
       "    root.Bokeh.embed.embed_items(docs_json, render_items);\n",
       "  }\n",
       "\n",
       "  if (root.Bokeh !== undefined) {\n",
       "    embed_document(root);\n",
       "  } else {\n",
       "    var attempts = 0;\n",
       "    var timer = setInterval(function(root) {\n",
       "      if (root.Bokeh !== undefined) {\n",
       "        embed_document(root);\n",
       "        clearInterval(timer);\n",
       "      }\n",
       "      attempts++;\n",
       "      if (attempts > 100) {\n",
       "        console.log(\"Bokeh: ERROR: Unable to embed document because BokehJS library is missing\")\n",
       "        clearInterval(timer);\n",
       "      }\n",
       "    }, 10, root)\n",
       "  }\n",
       "})(window);"
      ],
      "application/vnd.bokehjs_exec.v0+json": ""
     },
     "metadata": {
      "application/vnd.bokehjs_exec.v0+json": {
       "id": "28cf14b1-53f1-4c14-b0c0-97abe07662d2"
      }
     },
     "output_type": "display_data"
    }
   ],
   "source": [
    "show(p)"
   ]
  },
  {
   "cell_type": "code",
   "execution_count": null,
   "metadata": {},
   "outputs": [],
   "source": []
  }
 ],
 "metadata": {
  "kernelspec": {
   "display_name": "Python 3",
   "language": "python",
   "name": "python3"
  },
  "language_info": {
   "codemirror_mode": {
    "name": "ipython",
    "version": 3
   },
   "file_extension": ".py",
   "mimetype": "text/x-python",
   "name": "python",
   "nbconvert_exporter": "python",
   "pygments_lexer": "ipython3",
   "version": "3.6.2"
  }
 },
 "nbformat": 4,
 "nbformat_minor": 2
}
