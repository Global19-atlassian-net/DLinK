{
 "cells": [
  {
   "cell_type": "markdown",
   "metadata": {},
   "source": [
    "# Intermediate Neural Network in Keras"
   ]
  },
  {
   "cell_type": "markdown",
   "metadata": {},
   "source": [
    "Bulding an Intermediate Neural Network to classify MNIST digits."
   ]
  },
  {
   "cell_type": "markdown",
   "metadata": {},
   "source": [
    "#### Set seed for reproducibility"
   ]
  },
  {
   "cell_type": "code",
   "execution_count": 1,
   "metadata": {},
   "outputs": [],
   "source": [
    "import numpy as np\n",
    "np.random.seed(42)"
   ]
  },
  {
   "cell_type": "markdown",
   "metadata": {},
   "source": [
    "#### Load dependencies"
   ]
  },
  {
   "cell_type": "code",
   "execution_count": 2,
   "metadata": {},
   "outputs": [
    {
     "name": "stderr",
     "output_type": "stream",
     "text": [
      "Using TensorFlow backend.\n"
     ]
    }
   ],
   "source": [
    "import keras\n",
    "from keras.datasets import mnist\n",
    "from keras.models import Sequential\n",
    "from keras.layers import Dense\n",
    "from keras.optimizers import SGD"
   ]
  },
  {
   "cell_type": "markdown",
   "metadata": {},
   "source": [
    "#### Load data"
   ]
  },
  {
   "cell_type": "code",
   "execution_count": 3,
   "metadata": {},
   "outputs": [],
   "source": [
    "(X_train, y_train), (X_test, y_test) = mnist.load_data()"
   ]
  },
  {
   "cell_type": "markdown",
   "metadata": {},
   "source": [
    "#### Preprocess data\n",
    "Flatten and normalise input data."
   ]
  },
  {
   "cell_type": "code",
   "execution_count": 4,
   "metadata": {},
   "outputs": [],
   "source": [
    "X_train = X_train.reshape(60000, 784).astype('float32')\n",
    "X_test = X_test.reshape(10000, 784).astype('float32')"
   ]
  },
  {
   "cell_type": "code",
   "execution_count": 5,
   "metadata": {},
   "outputs": [],
   "source": [
    "X_train /= 255\n",
    "X_test /= 255"
   ]
  },
  {
   "cell_type": "code",
   "execution_count": 6,
   "metadata": {},
   "outputs": [],
   "source": [
    "# One-hot encoded categories\n",
    "n_classes = 10\n",
    "y_train = keras.utils.to_categorical(y_train, n_classes)\n",
    "y_test = keras.utils.to_categorical(y_test, n_classes)"
   ]
  },
  {
   "cell_type": "markdown",
   "metadata": {},
   "source": [
    "#### Design Neural Network architecture"
   ]
  },
  {
   "cell_type": "code",
   "execution_count": 7,
   "metadata": {},
   "outputs": [],
   "source": [
    "model = Sequential()\n",
    "# Dense = Fully Connected layer\n",
    "model.add(Dense((64), activation = 'relu', input_shape = (784,)))\n",
    "model.add(Dense((64), activation = 'relu'))\n",
    "model.add(Dense((10), activation = 'softmax'))"
   ]
  },
  {
   "cell_type": "code",
   "execution_count": 8,
   "metadata": {},
   "outputs": [
    {
     "name": "stdout",
     "output_type": "stream",
     "text": [
      "_________________________________________________________________\n",
      "Layer (type)                 Output Shape              Param #   \n",
      "=================================================================\n",
      "dense_1 (Dense)              (None, 64)                50240     \n",
      "_________________________________________________________________\n",
      "dense_2 (Dense)              (None, 64)                4160      \n",
      "_________________________________________________________________\n",
      "dense_3 (Dense)              (None, 10)                650       \n",
      "=================================================================\n",
      "Total params: 55,050\n",
      "Trainable params: 55,050\n",
      "Non-trainable params: 0\n",
      "_________________________________________________________________\n"
     ]
    }
   ],
   "source": [
    "model.summary()"
   ]
  },
  {
   "cell_type": "markdown",
   "metadata": {},
   "source": [
    "#### Configure model"
   ]
  },
  {
   "cell_type": "code",
   "execution_count": 9,
   "metadata": {},
   "outputs": [],
   "source": [
    "model.compile(loss = 'categorical_crossentropy', optimizer = SGD(lr = 0.1), metrics = ['accuracy'])"
   ]
  },
  {
   "cell_type": "markdown",
   "metadata": {},
   "source": [
    "#### Train!"
   ]
  },
  {
   "cell_type": "code",
   "execution_count": 10,
   "metadata": {},
   "outputs": [
    {
     "name": "stdout",
     "output_type": "stream",
     "text": [
      "Train on 60000 samples, validate on 10000 samples\n",
      "Epoch 1/30\n",
      "60000/60000 [==============================] - 1s - loss: 0.4857 - acc: 0.8604 - val_loss: 0.2509 - val_acc: 0.9256\n",
      "Epoch 2/30\n",
      "60000/60000 [==============================] - 1s - loss: 0.2338 - acc: 0.9320 - val_loss: 0.2100 - val_acc: 0.9376\n",
      "Epoch 3/30\n",
      "60000/60000 [==============================] - 1s - loss: 0.1802 - acc: 0.9472 - val_loss: 0.1529 - val_acc: 0.9544\n",
      "Epoch 4/30\n",
      "60000/60000 [==============================] - 1s - loss: 0.1495 - acc: 0.9556 - val_loss: 0.1370 - val_acc: 0.9591\n",
      "Epoch 5/30\n",
      "60000/60000 [==============================] - 1s - loss: 0.1281 - acc: 0.9625 - val_loss: 0.1464 - val_acc: 0.9556\n",
      "Epoch 6/30\n",
      "60000/60000 [==============================] - 1s - loss: 0.1132 - acc: 0.9666 - val_loss: 0.1139 - val_acc: 0.9653\n",
      "Epoch 7/30\n",
      "60000/60000 [==============================] - 1s - loss: 0.1008 - acc: 0.9695 - val_loss: 0.1065 - val_acc: 0.9668\n",
      "Epoch 8/30\n",
      "60000/60000 [==============================] - 1s - loss: 0.0901 - acc: 0.9734 - val_loss: 0.1003 - val_acc: 0.9688\n",
      "Epoch 9/30\n",
      "60000/60000 [==============================] - 1s - loss: 0.0840 - acc: 0.9745 - val_loss: 0.0976 - val_acc: 0.9716\n",
      "Epoch 10/30\n",
      "60000/60000 [==============================] - 1s - loss: 0.0756 - acc: 0.9774 - val_loss: 0.1187 - val_acc: 0.9619\n",
      "Epoch 11/30\n",
      "60000/60000 [==============================] - 1s - loss: 0.0706 - acc: 0.9786 - val_loss: 0.0973 - val_acc: 0.9706\n",
      "Epoch 12/30\n",
      "60000/60000 [==============================] - 1s - loss: 0.0648 - acc: 0.9807 - val_loss: 0.0912 - val_acc: 0.9737\n",
      "Epoch 13/30\n",
      "60000/60000 [==============================] - 1s - loss: 0.0603 - acc: 0.9817 - val_loss: 0.1005 - val_acc: 0.9698\n",
      "Epoch 14/30\n",
      "60000/60000 [==============================] - 1s - loss: 0.0571 - acc: 0.9827 - val_loss: 0.0896 - val_acc: 0.9728\n",
      "Epoch 15/30\n",
      "60000/60000 [==============================] - 1s - loss: 0.0533 - acc: 0.9837 - val_loss: 0.0951 - val_acc: 0.9696\n",
      "Epoch 16/30\n",
      "60000/60000 [==============================] - 1s - loss: 0.0489 - acc: 0.9853 - val_loss: 0.0999 - val_acc: 0.9707\n",
      "Epoch 17/30\n",
      "60000/60000 [==============================] - 1s - loss: 0.0473 - acc: 0.9852 - val_loss: 0.1021 - val_acc: 0.9692\n",
      "Epoch 18/30\n",
      "60000/60000 [==============================] - 1s - loss: 0.0492 - acc: 0.9858 - val_loss: 0.1122 - val_acc: 0.9683\n",
      "Epoch 19/30\n",
      "60000/60000 [==============================] - 1s - loss: 0.0399 - acc: 0.9875 - val_loss: 0.0912 - val_acc: 0.9735\n",
      "Epoch 20/30\n",
      "60000/60000 [==============================] - 1s - loss: 0.0380 - acc: 0.9880 - val_loss: 0.0868 - val_acc: 0.9757\n",
      "Epoch 21/30\n",
      "60000/60000 [==============================] - 1s - loss: 0.0366 - acc: 0.9887 - val_loss: 0.0830 - val_acc: 0.9753\n",
      "Epoch 22/30\n",
      "60000/60000 [==============================] - 1s - loss: 0.0348 - acc: 0.9890 - val_loss: 0.0830 - val_acc: 0.9768\n",
      "Epoch 23/30\n",
      "60000/60000 [==============================] - 1s - loss: 0.0318 - acc: 0.9902 - val_loss: 0.0844 - val_acc: 0.9768\n",
      "Epoch 24/30\n",
      "60000/60000 [==============================] - 1s - loss: 0.0306 - acc: 0.9905 - val_loss: 0.0826 - val_acc: 0.9774\n",
      "Epoch 25/30\n",
      "60000/60000 [==============================] - 1s - loss: 0.0286 - acc: 0.9911 - val_loss: 0.0902 - val_acc: 0.9756\n",
      "Epoch 26/30\n",
      "60000/60000 [==============================] - 1s - loss: 0.0290 - acc: 0.9909 - val_loss: 0.1026 - val_acc: 0.9715\n",
      "Epoch 27/30\n",
      "60000/60000 [==============================] - 1s - loss: 0.0245 - acc: 0.9927 - val_loss: 0.0854 - val_acc: 0.9763\n",
      "Epoch 28/30\n",
      "60000/60000 [==============================] - 1s - loss: 0.0247 - acc: 0.9923 - val_loss: 0.0878 - val_acc: 0.9765\n",
      "Epoch 29/30\n",
      "60000/60000 [==============================] - 1s - loss: 0.0224 - acc: 0.9933 - val_loss: 0.0894 - val_acc: 0.9770\n",
      "Epoch 30/30\n",
      "60000/60000 [==============================] - 1s - loss: 0.0195 - acc: 0.9941 - val_loss: 0.0976 - val_acc: 0.9761\n"
     ]
    },
    {
     "data": {
      "text/plain": [
       "<keras.callbacks.History at 0x7ff02b23fe80>"
      ]
     },
     "execution_count": 10,
     "metadata": {},
     "output_type": "execute_result"
    }
   ],
   "source": [
    "model.fit(X_train, y_train, batch_size = 128, epochs = 30, verbose = 1, validation_data = (X_test, y_test))"
   ]
  },
  {
   "cell_type": "code",
   "execution_count": null,
   "metadata": {},
   "outputs": [],
   "source": []
  }
 ],
 "metadata": {
  "kernelspec": {
   "display_name": "Python 3",
   "language": "python",
   "name": "python3"
  },
  "language_info": {
   "codemirror_mode": {
    "name": "ipython",
    "version": 3
   },
   "file_extension": ".py",
   "mimetype": "text/x-python",
   "name": "python",
   "nbconvert_exporter": "python",
   "pygments_lexer": "ipython3",
   "version": "3.6.2"
  }
 },
 "nbformat": 4,
 "nbformat_minor": 2
}
